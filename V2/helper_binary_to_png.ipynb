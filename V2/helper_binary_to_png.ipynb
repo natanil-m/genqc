{
 "cells": [
  {
   "cell_type": "code",
   "execution_count": 25,
   "metadata": {},
   "outputs": [],
   "source": [
    "# !pip install Pillow\n"
   ]
  },
  {
   "cell_type": "code",
   "execution_count": 26,
   "metadata": {},
   "outputs": [
    {
     "data": {
      "image/jpeg": "[encoded data removed]",
      "image/png": "[encoded data removed]",
      "text/plain": [
       "<PIL.Image.Image image mode=L size=8x8>"
      ]
     },
     "execution_count": 26,
     "metadata": {},
     "output_type": "execute_result"
    }
   ],
   "source": [
    "from PIL import Image\n",
    "import numpy as np\n",
    "\n",
    "def binary_array_to_png(binary_array, file_name):\n",
    "    # Convert the binary array to a numpy array with values 0 and 255\n",
    "    image_array = np.array(binary_array) * 255\n",
    "\n",
    "    # Create an image object from the numpy array\n",
    "    image = Image.fromarray(np.uint8(image_array), 'L')\n",
    "    # return image\n",
    "    # Save the image\n",
    "    image.save(file_name)\n",
    "    return image\n",
    "\n",
    "# Example binary array\n",
    "binary_array = [[0, 1, 1,1,1,1,1,0], [0, 1, 0,0,0,0,1,0], [0, 1, 0,0,0,0,1,0], [0, 1, 0,0,0,0,1,0],[0, 1, 0,0,0,0,1,0], [0, 1, 0,0,0,0,1,0], [0, 1, 0,0,0,0,1,0], [0, 1, 1,1,1,1,1,0]]\n",
    "\n",
    "# Convert and save the image\n",
    "binary_array_to_png(binary_array, 'output.png')\n"
   ]
  }
 ],
 "metadata": {
  "kernelspec": {
   "display_name": "q1",
   "language": "python",
   "name": "python3"
  },
  "language_info": {
   "codemirror_mode": {
    "name": "ipython",
    "version": 3
   },
   "file_extension": ".py",
   "mimetype": "text/x-python",
   "name": "python",
   "nbconvert_exporter": "python",
   "pygments_lexer": "ipython3",
   "version": "3.11.4"
  }
 },
 "nbformat": 4,
 "nbformat_minor": 2
}
