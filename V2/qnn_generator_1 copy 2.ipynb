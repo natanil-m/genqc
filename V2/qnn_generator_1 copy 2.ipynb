{
 "cells": [
  {
   "cell_type": "code",
   "execution_count": 175,
   "metadata": {},
   "outputs": [],
   "source": [
    "import openai\n",
    "import pennylane as qml\n",
    "from PIL import Image\n",
    "import numpy as np"
   ]
  },
  {
   "cell_type": "code",
   "execution_count": 176,
   "metadata": {},
   "outputs": [],
   "source": [
    "from key import api_key"
   ]
  },
  {
   "cell_type": "code",
   "execution_count": 177,
   "metadata": {},
   "outputs": [],
   "source": [
    "from openai import OpenAI\n",
    "\n",
    "client = OpenAI(api_key=api_key)\n",
    "\n",
    "def prob_image_arr(arr, openai_api_key):\n",
    "    # Use OpenAI API to interpret the text\n",
    "    openai.api_key = openai_api_key\n",
    "\n",
    "    try:\n",
    "        response = client.chat.completions.create(\n",
    "            model=\"gpt-3.5-turbo\",\n",
    "            messages=[\n",
    "            #   {\n",
    "            #      \"role\": \"system\",\n",
    "            #      \"content\": \"The model is tasked with analyzing a 2D binary array. It should output '1' if the '1's in the array form a perfect rectangle, without any breaks or irregularities. If the '1's do not form a perfect rectangle, the model should output '0'. This binary output should be based solely on the geometric arrangement of '1's within the array.\"\n",
    "            #   },\n",
    "            {\n",
    "             \"role\": \"system\",\n",
    "               \"content\": \"The model is tasked to receive a 2D binary array consisting of 0s and 1s, with the 1s forming a specific shape. It should analyze this shape and calculate a score from 0 to 1 that indicates how closely this shape resembles a rectangle. A score of 1 denotes an exact rectangle, while a score of 0 indicates no resemblance to a rectangle. The model should focus on the spatial arrangement and continuity of the 1s to determine this score. The output should only be the score with a single number as output without any extra text as explanation.\"\n",
    "\n",
    "            # \"content\": \"The model's task is to analyze a 2D binary array and provide a numerical score between 0 and 1. This score represents how closely the '1's in the array resemble a rectangle, with 1 being a perfect rectangle and 0 indicating no resemblance. The model should output only the score, without any accompanying explanation.\"\n",
    "            },\n",
    "            #   {\n",
    "            #      \"role\": \"system\",\n",
    "            #      \"content\": \"The model is tasked with analyzing a 2D binary array and providing a score between 0 and 1. This score should reflect how closely the arrangement of '1's within the array resembles a rectangle. A score of 1 indicates a perfect rectangle, while a score closer to 0 suggests less resemblance to a rectangle. The model should consider factors such as the continuity, alignment, and proportion of '1's in determining this score.\"\n",
    "            #   },\n",
    "              {\"role\": \"user\", \"content\": f\"{arr}\"}\n",
    "            ]\n",
    "        )\n",
    "        # print(response)\n",
    "        content = content = response.choices[0].message.content\n",
    "        return content\n",
    "    except Exception as e:\n",
    "        return f\"Error in OpenAI API call: {e}\"\n"
   ]
  },
  {
   "cell_type": "code",
   "execution_count": null,
   "metadata": {},
   "outputs": [],
   "source": []
  },
  {
   "cell_type": "code",
   "execution_count": 178,
   "metadata": {},
   "outputs": [],
   "source": [
    "# is_arr = prob_image_arr(input_arr, api_key)\n",
    "# print(is_arr)"
   ]
  },
  {
   "cell_type": "code",
   "execution_count": 179,
   "metadata": {},
   "outputs": [],
   "source": [
    "import pennylane as qml\n",
    "from scipy.optimize import minimize\n",
    "# from pennylane import numpy as np\n",
    "\n",
    "\n"
   ]
  },
  {
   "cell_type": "code",
   "execution_count": 180,
   "metadata": {},
   "outputs": [],
   "source": [
    "n_qubits = 2\n",
    "dev = qml.device('default.qubit', wires=n_qubits)"
   ]
  },
  {
   "cell_type": "code",
   "execution_count": 181,
   "metadata": {},
   "outputs": [],
   "source": [
    "def find_n_largest_numbers(arr, n):\n",
    "    # Find the indices of the n largest elements\n",
    "    indices = np.argsort(arr)[-n:]\n",
    "    # Find the n largest elements\n",
    "    largest_elements = arr[indices]\n",
    "    return largest_elements, indices\n",
    "\n",
    "def indices_to_binary(indices):\n",
    "    # Convert each index to binary and ensure it's 8 bits\n",
    "    return [format(index, f'0{n_qubits}b') for index in indices]\n",
    "\n",
    "def int_to_binary(n, digits):\n",
    "    binary_str = format(n, 'b')\n",
    "    # Pad the binary string with leading zeros to ensure it has 'digits' length\n",
    "    return binary_str.zfill(digits)"
   ]
  },
  {
   "cell_type": "code",
   "execution_count": 182,
   "metadata": {},
   "outputs": [],
   "source": [
    "# Define the quantum circuit\n",
    "@qml.qnode(dev)\n",
    "def circuit(param,index):\n",
    "    # print(param)\n",
    "    index = int_to_binary(index,n_qubits)\n",
    "    # for i, char in enumerate(index):\n",
    "    #     if(char=='1'):\n",
    "    #         qml.PauliX(wires=i)\n",
    "    #     # qml.Hadamard(wires=i)\n",
    "            \n",
    "    qml.StronglyEntanglingLayers(weights=param, wires=range(n_qubits))\n",
    "    # return qml.probs(wires=range(n_qubits))\n",
    "    # return qml.expval(qml.PauliZ(0))\n",
    "    return qml.probs(wires=0)\n",
    "\n"
   ]
  },
  {
   "cell_type": "code",
   "execution_count": 183,
   "metadata": {},
   "outputs": [],
   "source": [
    "def convert_to_int(nested_list):\n",
    "    return [[int(element) for element in sublist] for sublist in nested_list]\n",
    "\n",
    "def binary_array_to_png_and_display(binary_array, scale_factor=10):\n",
    "    binary_array = convert_to_int(binary_array)\n",
    "    # Convert the binary array to a numpy array with values 0 and 255\n",
    "    image_array = np.array(binary_array) * 255\n",
    "\n",
    "    # Create an image object from the numpy array\n",
    "    image = Image.fromarray(np.uint8(image_array), 'L')\n",
    "\n",
    "    # Scale the image\n",
    "    original_size = image.size\n",
    "    scaled_size = tuple([dimension * scale_factor for dimension in original_size])\n",
    "    scaled_image = image.resize(scaled_size, Image.NEAREST)\n",
    "    display(scaled_image)\n"
   ]
  },
  {
   "cell_type": "code",
   "execution_count": 184,
   "metadata": {},
   "outputs": [],
   "source": [
    "def feature_map(input_arr):\n",
    "    \"\"\"Flatten the 2D binary array into a 1D feature map.\"\"\"\n",
    "    return [item for sublist in input_arr for item in sublist]\n",
    "\n",
    "def cosine_similarity(vec1, vec2):\n",
    "    \"\"\"Calculate the cosine similarity between two vectors.\"\"\"\n",
    "    vec1, vec2 = np.array(vec1), np.array(vec2)\n",
    "    dot_product = np.dot(vec1, vec2)\n",
    "    norm_vec1 = np.linalg.norm(vec1)\n",
    "    norm_vec2 = np.linalg.norm(vec2)\n",
    "    if(norm_vec2*norm_vec1==0): return 0\n",
    "    similarity = dot_product / (norm_vec1 * norm_vec2)\n",
    "    return similarity"
   ]
  },
  {
   "cell_type": "code",
   "execution_count": 185,
   "metadata": {},
   "outputs": [
    {
     "name": "stdout",
     "output_type": "stream",
     "text": [
      "True\n"
     ]
    }
   ],
   "source": [
    "a = int_to_binary(4,5)\n",
    "for i, char in enumerate(a):\n",
    "    if(char=='1'):\n",
    "        print(True)"
   ]
  },
  {
   "cell_type": "code",
   "execution_count": 186,
   "metadata": {},
   "outputs": [],
   "source": [
    "smiley_pattern = np.array([\n",
    "        [0, 0, 0, 0, 0, 0, 0, 0],\n",
    "        [0, 0, 1, 0, 0, 1, 0, 0],\n",
    "        [0, 0, 0, 0, 0, 0, 0, 0],\n",
    "        [0, 1, 0, 0, 0, 0, 1, 0],\n",
    "        [0, 0, 1, 1, 1, 1, 0, 0],\n",
    "        [0, 0, 0, 0, 0, 0, 0, 0],\n",
    "        [0, 0, 0, 0, 0, 0, 0, 0],\n",
    "        [0, 0, 0, 0, 0, 0, 0, 0]\n",
    "    ])\n",
    "smiley_pattern_vec = feature_map(smiley_pattern)"
   ]
  },
  {
   "cell_type": "code",
   "execution_count": 187,
   "metadata": {},
   "outputs": [
    {
     "name": "stdout",
     "output_type": "stream",
     "text": [
      "0: ─╭StronglyEntanglingLayers(M0)─┤  Probs\n",
      "1: ─╰StronglyEntanglingLayers(M0)─┤       \n",
      "M0 = \n",
      "[[[0.39496535 0.36740515 0.24741111]\n",
      "  [0.18872373 0.30613348 0.89025315]]]\n",
      "[0.39496535 0.36740515 0.24741111 0.18872373 0.30613348 0.89025315]\n",
      "[0.39496537 0.36740515 0.24741111 0.18872373 0.30613348 0.89025315]\n",
      "[0.39496535 0.36740517 0.24741111 0.18872373 0.30613348 0.89025315]\n",
      "[0.39496535 0.36740515 0.24741113 0.18872373 0.30613348 0.89025315]\n",
      "[0.39496535 0.36740515 0.24741111 0.18872375 0.30613348 0.89025315]\n",
      "[0.39496535 0.36740515 0.24741111 0.18872373 0.30613349 0.89025315]\n",
      "[0.39496535 0.36740515 0.24741111 0.18872373 0.30613348 0.89025316]\n",
      "[0.39496536 0.36740515 0.24741112 0.18872375 0.45682056 0.89025316]\n",
      "[0.39496538 0.36740515 0.24741112 0.18872375 0.45682056 0.89025316]\n",
      "[0.39496536 0.36740517 0.24741112 0.18872375 0.45682056 0.89025316]\n",
      "[0.39496536 0.36740515 0.24741114 0.18872375 0.45682056 0.89025316]\n",
      "[0.39496536 0.36740515 0.24741112 0.18872376 0.45682056 0.89025316]\n",
      "[0.39496536 0.36740515 0.24741112 0.18872375 0.45682058 0.89025316]\n",
      "[0.39496536 0.36740515 0.24741112 0.18872375 0.45682056 0.89025318]\n",
      "[0.39496539 0.36740515 0.24741115 0.18872381 1.0595689  0.89025322]\n",
      "[0.3949654  0.36740515 0.24741115 0.18872381 1.0595689  0.89025322]\n",
      "[0.39496539 0.36740517 0.24741115 0.18872381 1.0595689  0.89025322]\n",
      "[0.39496539 0.36740515 0.24741117 0.18872381 1.0595689  0.89025322]\n",
      "[0.39496539 0.36740515 0.24741115 0.18872382 1.0595689  0.89025322]\n",
      "[0.39496539 0.36740515 0.24741115 0.18872381 1.05956891 0.89025322]\n",
      "[0.39496539 0.36740515 0.24741115 0.18872381 1.0595689  0.89025324]\n",
      "[0.39496551 0.36740515 0.24741127 0.18872405 3.47056223 0.89025346]\n",
      "[0.39496552 0.36740515 0.24741127 0.18872405 3.47056223 0.89025346]\n",
      "[0.39496551 0.36740517 0.24741127 0.18872405 3.47056223 0.89025346]\n",
      "[0.39496551 0.36740515 0.24741129 0.18872405 3.47056223 0.89025346]\n",
      "[0.39496551 0.36740515 0.24741127 0.18872406 3.47056223 0.89025346]\n",
      "[0.39496551 0.36740515 0.24741127 0.18872405 3.47056225 0.89025346]\n",
      "[0.39496551 0.36740515 0.24741127 0.18872405 3.47056223 0.89025348]\n",
      "[0.39496548 0.36740515 0.24741124 0.18872398 2.81886661 0.8902534 ]\n",
      "[0.39496549 0.36740515 0.24741124 0.18872398 2.81886661 0.8902534 ]\n",
      "[0.39496548 0.36740517 0.24741124 0.18872398 2.81886661 0.8902534 ]\n",
      "[0.39496548 0.36740515 0.24741125 0.18872398 2.81886661 0.8902534 ]\n",
      "[0.39496548 0.36740515 0.24741124 0.188724   2.81886661 0.8902534 ]\n",
      "[0.39496548 0.36740515 0.24741124 0.18872398 2.81886662 0.8902534 ]\n",
      "[0.39496548 0.36740515 0.24741124 0.18872398 2.81886661 0.89025341]\n",
      "[0.39496549 0.36740515 0.24741126 0.18872401 3.14170391 0.89025343]\n",
      "[0.39496551 0.36740515 0.24741126 0.18872401 3.14170391 0.89025343]\n",
      "[0.39496549 0.36740517 0.24741126 0.18872401 3.14170391 0.89025343]\n",
      "[0.39496549 0.36740515 0.24741127 0.18872401 3.14170391 0.89025343]\n",
      "[0.39496549 0.36740515 0.24741126 0.18872403 3.14170391 0.89025343]\n",
      "[0.39496549 0.36740515 0.24741126 0.18872401 3.14170393 0.89025343]\n",
      "[0.39496549 0.36740515 0.24741126 0.18872401 3.14170391 0.89025345]\n",
      "[0.39496549 0.36740515 0.24741126 0.18872401 3.14170391 0.89025343]\n",
      "Current loss: 3.0946923522619387e-09\n",
      "[0.39496549 0.36740515 0.24741126 0.18872401 3.14065741 0.89025343]\n",
      "[0.39496551 0.36740515 0.24741126 0.18872401 3.14065741 0.89025343]\n",
      "[0.39496549 0.36740517 0.24741126 0.18872401 3.14065741 0.89025343]\n",
      "[0.39496549 0.36740515 0.24741127 0.18872401 3.14065741 0.89025343]\n",
      "[0.39496549 0.36740515 0.24741126 0.18872403 3.14065741 0.89025343]\n",
      "[0.39496549 0.36740515 0.24741126 0.18872401 3.14065742 0.89025343]\n",
      "[0.39496549 0.36740515 0.24741126 0.18872401 3.14065741 0.89025345]\n",
      "[0.39496549 0.36740515 0.24741126 0.18872401 3.14159265 0.89025343]\n",
      "[0.39496551 0.36740515 0.24741126 0.18872401 3.14159265 0.89025343]\n",
      "[0.39496549 0.36740517 0.24741126 0.18872401 3.14159265 0.89025343]\n",
      "[0.39496549 0.36740515 0.24741127 0.18872401 3.14159265 0.89025343]\n",
      "[0.39496549 0.36740515 0.24741126 0.18872403 3.14159265 0.89025343]\n",
      "[0.39496549 0.36740515 0.24741126 0.18872401 3.14159267 0.89025343]\n",
      "[0.39496549 0.36740515 0.24741126 0.18872401 3.14159265 0.89025345]\n",
      "[0.39496549 0.36740515 0.24741126 0.18872401 3.14159265 0.89025343]\n",
      "Current loss: 2.553500442031761e-18\n"
     ]
    }
   ],
   "source": [
    "# Define the shape of the parameters\n",
    "shape_p = qml.StronglyEntanglingLayers.shape(n_layers=1, n_wires=n_qubits)\n",
    "\n",
    "# Define the objective function (to be minimized)\n",
    "def objective2(params):\n",
    "    # print(params)\n",
    "    original_length = np.prod(shape_p)\n",
    "    # Extract segments for each set of weights\n",
    "    weights_p1_flat = params[0 : original_length]\n",
    "    # print('Param')\n",
    "    # print(weights_p1_flat)\n",
    "    # weights_p2_flat = params[original_length : 2*original_length]\n",
    "    # weights_p3_flat = params[2*original_length : 3*original_length]\n",
    "    # weights_p4_flat = params[3*original_length : 4*original_length]\n",
    "\n",
    "    # Reshape each segment\n",
    "    weights_p1 = weights_p1_flat.reshape(shape_p)\n",
    "    # print(weights_p1)\n",
    "    # weights_p2 = weights_p2_flat.reshape(shape_p)\n",
    "    # weights_p3 = weights_p3_flat.reshape(shape_p)\n",
    "    # weights_p4 = weights_p4_flat.reshape(shape_p)\n",
    "    # print('===================')\n",
    "    image_arr = []\n",
    "    for i in range(n_qubits):\n",
    "        arr = circuit(weights_p1,i)\n",
    "        largest_elements, indices = find_n_largest_numbers(arr, 1)\n",
    "        # Convert indices to binary\n",
    "        binary_indices = indices_to_binary(indices)\n",
    "        # print(binary_indices)\n",
    "        image_arr.append(list(binary_indices[0]))\n",
    "    print('==============')\n",
    "    # print(image_arr)\n",
    "    # Display the image\n",
    "    binary_array_to_png_and_display(image_arr,scale_factor=20)\n",
    "    # print(prob_image_arr(image_arr,api_key))\n",
    "    image_arr = convert_to_int(image_arr)\n",
    "    generated_img_feature_map = feature_map(convert_to_int(image_arr))\n",
    "    score = cosine_similarity(smiley_pattern_vec,generated_img_feature_map)\n",
    "    print(score)\n",
    "    \n",
    "    # print(\"Largest elements:\", largest_elements)\n",
    "    # print(\"Indices:\", indices)\n",
    "    # print(\"Indices in binary:\", binary_indices)\n",
    "\n",
    "    return score\n",
    "\n",
    "def objective(params):\n",
    "    print(params)\n",
    "    original_length = np.prod(shape_p)\n",
    "    # Extract segments for each set of weights\n",
    "    weights_p1_flat = params[0 : original_length]\n",
    "    # print('Param')\n",
    "    # print(weights_p1_flat)\n",
    "    # weights_p2_flat = params[original_length : 2*original_length]\n",
    "    # weights_p3_flat = params[2*original_length : 3*original_length]\n",
    "    # weights_p4_flat = params[3*original_length : 4*original_length]\n",
    "\n",
    "    # Reshape each segment\n",
    "    weights_p1 = weights_p1_flat.reshape(shape_p)\n",
    "  \n",
    "    return circuit(weights_p1,1)[0]\n",
    "\n",
    "def callback(params):\n",
    "    print(\"Current loss:\", objective(params))\n",
    "    \n",
    "# Initialize the weights\n",
    "weights_p1 = np.random.random(size=shape_p)\n",
    "# weights_p2 = np.random.random(size=shape_p)\n",
    "# weights_p3 = np.random.random(size=shape_p)\n",
    "# weights_p4 = np.random.random(size=shape_p)\n",
    "\n",
    "# Flatten and concatenate the initial parameters\n",
    "init_params = np.concatenate([weights_p1.flatten()])\n",
    "print(qml.draw(circuit)(weights_p1,1))\n",
    "\n",
    "# Optimize using BFGS algorithm\n",
    "opt = minimize(objective, init_params, method='BFGS',callback=callback)\n"
   ]
  },
  {
   "cell_type": "code",
   "execution_count": 188,
   "metadata": {},
   "outputs": [
    {
     "name": "stdout",
     "output_type": "stream",
     "text": [
      "Optimized Parameters: [0.39496549 0.36740515 0.24741126 0.18872401 3.14159265 0.89025343]\n",
      "Optimized Expectation Value: 2.553500442031761e-18\n"
     ]
    }
   ],
   "source": [
    "print(\"Optimized Parameters:\", opt.x)\n",
    "print(\"Optimized Expectation Value:\", opt.fun)\n",
    "\n",
    "original_length = np.prod(shape_p)\n",
    "params = opt.x\n",
    "# Extract segments for each set of weights\n",
    "weights_p1_flat = params[0 : original_length]\n",
    "# weights_p2_flat = params[original_length : 2*original_length]\n",
    "# weights_p3_flat = params[2*original_length : 3*original_length]\n",
    "# weights_p4_flat = params[3*original_length : 4*original_length]\n",
    "\n",
    "# Reshape each segment\n",
    "weights_p1 = weights_p1_flat.reshape(shape_p)\n",
    "# weights_p2 = weights_p2_flat.reshape(shape_p)\n",
    "# weights_p3 = weights_p3_flat.reshape(shape_p)\n",
    "# weights_p4 = weights_p4_flat.reshape(shape_p)\n",
    "# print(circuit_res(weights_p1,weights_p2,weights_p3,weights_p4)"
   ]
  },
  {
   "cell_type": "code",
   "execution_count": 189,
   "metadata": {},
   "outputs": [],
   "source": [
    "res = circuit(weights_p1,0)\n",
    "# print(res)"
   ]
  },
  {
   "cell_type": "code",
   "execution_count": 190,
   "metadata": {},
   "outputs": [
    {
     "name": "stdout",
     "output_type": "stream",
     "text": [
      "Largest elements: [2.55350044e-18 1.00000000e+00]\n",
      "Indices: [0 1]\n",
      "Indices in binary: ['00', '01']\n"
     ]
    }
   ],
   "source": [
    "\n",
    "# Example array\n",
    "arr = res\n",
    "n = 3\n",
    "\n",
    "# Find n largest numbers and their indices\n",
    "largest_elements, indices = find_n_largest_numbers(arr, n)\n",
    "\n",
    "# Convert indices to binary\n",
    "binary_indices = indices_to_binary(indices)\n",
    "\n",
    "print(\"Largest elements:\", largest_elements)\n",
    "print(\"Indices:\", indices)\n",
    "print(\"Indices in binary:\", binary_indices)\n"
   ]
  }
 ],
 "metadata": {
  "kernelspec": {
   "display_name": "q1",
   "language": "python",
   "name": "python3"
  },
  "language_info": {
   "codemirror_mode": {
    "name": "ipython",
    "version": 3
   },
   "file_extension": ".py",
   "mimetype": "text/x-python",
   "name": "python",
   "nbconvert_exporter": "python",
   "pygments_lexer": "ipython3",
   "version": "3.11.4"
  }
 },
 "nbformat": 4,
 "nbformat_minor": 2
}
