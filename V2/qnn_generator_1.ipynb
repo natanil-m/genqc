{
 "cells": [
  {
   "cell_type": "code",
   "execution_count": 1,
   "metadata": {},
   "outputs": [],
   "source": [
    "import openai\n",
    "import pennylane as qml\n",
    "from PIL import Image\n",
    "import numpy as np"
   ]
  },
  {
   "cell_type": "code",
   "execution_count": 2,
   "metadata": {},
   "outputs": [],
   "source": [
    "from key import api_key"
   ]
  },
  {
   "cell_type": "code",
   "execution_count": 3,
   "metadata": {},
   "outputs": [],
   "source": [
    "from openai import OpenAI\n",
    "\n",
    "client = OpenAI(api_key=api_key)\n",
    "\n",
    "def prob_image_arr(arr, openai_api_key):\n",
    "    # Use OpenAI API to interpret the text\n",
    "    openai.api_key = openai_api_key\n",
    "\n",
    "    try:\n",
    "        response = client.chat.completions.create(\n",
    "            model=\"gpt-3.5-turbo\",\n",
    "            messages=[\n",
    "            #   {\n",
    "            #      \"role\": \"system\",\n",
    "            #      \"content\": \"The model is tasked with analyzing a 2D binary array. It should output '1' if the '1's in the array form a perfect rectangle, without any breaks or irregularities. If the '1's do not form a perfect rectangle, the model should output '0'. This binary output should be based solely on the geometric arrangement of '1's within the array.\"\n",
    "            #   },\n",
    "            {\n",
    "             \"role\": \"system\",\n",
    "               \"content\": \"The model is tasked to receive a 2D binary array consisting of 0s and 1s, with the 1s forming a specific shape. It should analyze this shape and calculate a score from 0 to 1 that indicates how closely this shape resembles a rectangle. A score of 1 denotes an exact rectangle, while a score of 0 indicates no resemblance to a rectangle. The model should focus on the spatial arrangement and continuity of the 1s to determine this score. The output should only be the score with a single number as output without any extra text as explanation.\"\n",
    "\n",
    "            # \"content\": \"The model's task is to analyze a 2D binary array and provide a numerical score between 0 and 1. This score represents how closely the '1's in the array resemble a rectangle, with 1 being a perfect rectangle and 0 indicating no resemblance. The model should output only the score, without any accompanying explanation.\"\n",
    "            },\n",
    "            #   {\n",
    "            #      \"role\": \"system\",\n",
    "            #      \"content\": \"The model is tasked with analyzing a 2D binary array and providing a score between 0 and 1. This score should reflect how closely the arrangement of '1's within the array resembles a rectangle. A score of 1 indicates a perfect rectangle, while a score closer to 0 suggests less resemblance to a rectangle. The model should consider factors such as the continuity, alignment, and proportion of '1's in determining this score.\"\n",
    "            #   },\n",
    "              {\"role\": \"user\", \"content\": f\"{arr}\"}\n",
    "            ]\n",
    "        )\n",
    "        # print(response)\n",
    "        content = content = response.choices[0].message.content\n",
    "        return content\n",
    "    except Exception as e:\n",
    "        return f\"Error in OpenAI API call: {e}\"\n"
   ]
  },
  {
   "cell_type": "code",
   "execution_count": null,
   "metadata": {},
   "outputs": [],
   "source": []
  },
  {
   "cell_type": "code",
   "execution_count": 4,
   "metadata": {},
   "outputs": [],
   "source": [
    "# is_arr = prob_image_arr(input_arr, api_key)\n",
    "# print(is_arr)"
   ]
  },
  {
   "cell_type": "code",
   "execution_count": 5,
   "metadata": {},
   "outputs": [],
   "source": [
    "import pennylane as qml\n",
    "from scipy.optimize import minimize\n",
    "# from pennylane import numpy as np\n",
    "\n",
    "\n"
   ]
  },
  {
   "cell_type": "code",
   "execution_count": 6,
   "metadata": {},
   "outputs": [],
   "source": [
    "n_qubits = 8\n",
    "dev = qml.device('default.qubit', wires=n_qubits)"
   ]
  },
  {
   "cell_type": "code",
   "execution_count": 7,
   "metadata": {},
   "outputs": [],
   "source": [
    "def find_n_largest_numbers(arr, n):\n",
    "    # Find the indices of the n largest elements\n",
    "    indices = np.argsort(arr)[-n:]\n",
    "    # Find the n largest elements\n",
    "    largest_elements = arr[indices]\n",
    "    return largest_elements, indices\n",
    "qml\n",
    "def indices_to_binary(indices):\n",
    "    # Convert each index to binary and ensure it's 8 bits\n",
    "    return [format(index, f'0{n_qubits}b') for index in indices]\n",
    "\n",
    "def int_to_binary(n, digits):\n",
    "    binary_str = format(n, 'b')\n",
    "    # Pad the binary string with leading zeros to ensure it has 'digits' length\n",
    "    return binary_str.zfill(digits)"
   ]
  },
  {
   "cell_type": "code",
   "execution_count": 8,
   "metadata": {},
   "outputs": [],
   "source": [
    "# Define the quantum circuit\n",
    "@qml.qnode(dev)\n",
    "def circuit(param,index):\n",
    "    index = int_to_binary(index,n_qubits)\n",
    "    for i, char in enumerate(index):\n",
    "        if(char=='1'):\n",
    "            qml.PauliX(wires=i)\n",
    "        # qml.Hadamard(wires=i)\n",
    "            \n",
    "    # qml.StronglyEntanglingLayers(weights=param, wires=range(n_qubits))\n",
    "    qml.BasicEntanglerLayers(weights=param, wires=range(n_qubits))\n",
    "    return qml.probs(wires=range(n_qubits))\n",
    "\n"
   ]
  },
  {
   "cell_type": "code",
   "execution_count": 9,
   "metadata": {},
   "outputs": [],
   "source": [
    "def convert_to_int(nested_list):\n",
    "    return [[int(element) for element in sublist] for sublist in nested_list]\n",
    "\n",
    "def binary_array_to_png_and_display(binary_array, scale_factor=10):\n",
    "    binary_array = convert_to_int(binary_array)\n",
    "    # Convert the binary array to a numpy array with values 0 and 255\n",
    "    image_array = np.array(binary_array) * 255\n",
    "\n",
    "    # Create an image object from the numpy array\n",
    "    image = Image.fromarray(np.uint8(image_array), 'L')\n",
    "\n",
    "    # Scale the image\n",
    "    original_size = image.size\n",
    "    scaled_size = tuple([dimension * scale_factor for dimension in original_size])\n",
    "    scaled_image = image.resize(scaled_size, Image.NEAREST)\n",
    "    display(scaled_image)\n"
   ]
  },
  {
   "cell_type": "code",
   "execution_count": 10,
   "metadata": {},
   "outputs": [],
   "source": [
    "def feature_map(input_arr):\n",
    "    \"\"\"Flatten the 2D binary array into a 1D feature map.\"\"\"\n",
    "    return [item for sublist in input_arr for item in sublist]\n",
    "\n",
    "def cosine_similarity(vec1, vec2):\n",
    "    \"\"\"Calculate the cosine similarity between two vectors.\"\"\"\n",
    "    vec1, vec2 = np.array(vec1), np.array(vec2)\n",
    "    dot_product = np.dot(vec1, vec2)\n",
    "    norm_vec1 = np.linalg.norm(vec1)\n",
    "    norm_vec2 = np.linalg.norm(vec2)\n",
    "    if(norm_vec2*norm_vec1==0): return 0\n",
    "    similarity = dot_product / (norm_vec1 * norm_vec2)\n",
    "    return similarity"
   ]
  },
  {
   "cell_type": "code",
   "execution_count": 11,
   "metadata": {},
   "outputs": [
    {
     "name": "stdout",
     "output_type": "stream",
     "text": [
      "True\n"
     ]
    }
   ],
   "source": [
    "a = int_to_binary(4,5)\n",
    "for i, char in enumerate(a):\n",
    "    if(char=='1'):\n",
    "        print(True)"
   ]
  },
  {
   "cell_type": "code",
   "execution_count": 12,
   "metadata": {},
   "outputs": [],
   "source": [
    "smiley_pattern = np.array([\n",
    "        [0, 0, 0, 0, 0, 0, 0, 0],\n",
    "        [0, 0, 1, 0, 0, 1, 0, 0],\n",
    "        [0, 0, 0, 0, 0, 0, 0, 0],\n",
    "        [0, 1, 0, 0, 0, 0, 1, 0],\n",
    "        [0, 0, 1, 1, 1, 1, 0, 0],\n",
    "        [0, 0, 0, 0, 0, 0, 0, 0],\n",
    "        [0, 0, 0, 0, 0, 0, 0, 0],\n",
    "        [0, 0, 0, 0, 0, 0, 0, 0]\n",
    "    ])\n",
    "smiley_pattern_vec = feature_map(smiley_pattern)"
   ]
  },
  {
   "cell_type": "code",
   "execution_count": 13,
   "metadata": {},
   "outputs": [
    {
     "name": "stdout",
     "output_type": "stream",
     "text": [
      "0: ────╭BasicEntanglerLayers(M0)─┤ ╭Probs\n",
      "1: ────├BasicEntanglerLayers(M0)─┤ ├Probs\n",
      "2: ────├BasicEntanglerLayers(M0)─┤ ├Probs\n",
      "3: ────├BasicEntanglerLayers(M0)─┤ ├Probs\n",
      "4: ────├BasicEntanglerLayers(M0)─┤ ├Probs\n",
      "5: ────├BasicEntanglerLayers(M0)─┤ ├Probs\n",
      "6: ────├BasicEntanglerLayers(M0)─┤ ├Probs\n",
      "7: ──X─╰BasicEntanglerLayers(M0)─┤ ╰Probs\n",
      "M0 = \n",
      "[[0.06058875 0.80795737 0.04311309 0.52889518 0.90850456 0.02009274\n",
      "  0.39117242 0.10817506]\n",
      " [0.33977526 0.39728304 0.79093837 0.40818358 0.04346818 0.86122757\n",
      "  0.98206734 0.65689123]]\n",
      "==============\n"
     ]
    },
    {
     "data": {
      "image/jpeg": "[encoded data removed]",
      "image/png": "[encoded data removed]",
      "text/plain": [
       "<PIL.Image.Image image mode=L size=160x160>"
      ]
     },
     "metadata": {},
     "output_type": "display_data"
    },
    {
     "name": "stdout",
     "output_type": "stream",
     "text": [
      "0.37499999999999994\n",
      "==============\n"
     ]
    },
    {
     "data": {
      "image/jpeg": "[encoded data removed]",
      "image/png": "[encoded data removed]",
      "text/plain": [
       "<PIL.Image.Image image mode=L size=160x160>"
      ]
     },
     "metadata": {},
     "output_type": "display_data"
    },
    {
     "name": "stdout",
     "output_type": "stream",
     "text": [
      "0.37499999999999994\n",
      "==============\n"
     ]
    },
    {
     "data": {
      "image/jpeg": "[encoded data removed]",
      "image/png": "[encoded data removed]",
      "text/plain": [
       "<PIL.Image.Image image mode=L size=160x160>"
      ]
     },
     "metadata": {},
     "output_type": "display_data"
    },
    {
     "name": "stdout",
     "output_type": "stream",
     "text": [
      "0.37499999999999994\n",
      "==============\n"
     ]
    },
    {
     "data": {
      "image/jpeg": "[encoded data removed]",
      "image/png": "[encoded data removed]",
      "text/plain": [
       "<PIL.Image.Image image mode=L size=160x160>"
      ]
     },
     "metadata": {},
     "output_type": "display_data"
    },
    {
     "name": "stdout",
     "output_type": "stream",
     "text": [
      "0.37499999999999994\n",
      "==============\n"
     ]
    },
    {
     "data": {
      "image/jpeg": "[encoded data removed]",
      "image/png": "[encoded data removed]",
      "text/plain": [
       "<PIL.Image.Image image mode=L size=160x160>"
      ]
     },
     "metadata": {},
     "output_type": "display_data"
    },
    {
     "name": "stdout",
     "output_type": "stream",
     "text": [
      "0.37499999999999994\n",
      "==============\n"
     ]
    },
    {
     "data": {
      "image/jpeg": "[encoded data removed]",
      "image/png": "[encoded data removed]",
      "text/plain": [
       "<PIL.Image.Image image mode=L size=160x160>"
      ]
     },
     "metadata": {},
     "output_type": "display_data"
    },
    {
     "name": "stdout",
     "output_type": "stream",
     "text": [
      "0.37499999999999994\n",
      "==============\n"
     ]
    },
    {
     "data": {
      "image/jpeg": "[encoded data removed]",
      "image/png": "[encoded data removed]",
      "text/plain": [
       "<PIL.Image.Image image mode=L size=160x160>"
      ]
     },
     "metadata": {},
     "output_type": "display_data"
    },
    {
     "name": "stdout",
     "output_type": "stream",
     "text": [
      "0.37499999999999994\n",
      "==============\n"
     ]
    },
    {
     "data": {
      "image/jpeg": "[encoded data removed]",
      "image/png": "[encoded data removed]",
      "text/plain": [
       "<PIL.Image.Image image mode=L size=160x160>"
      ]
     },
     "metadata": {},
     "output_type": "display_data"
    },
    {
     "name": "stdout",
     "output_type": "stream",
     "text": [
      "0.37499999999999994\n",
      "==============\n"
     ]
    },
    {
     "data": {
      "image/jpeg": "[encoded data removed]",
      "image/png": "[encoded data removed]",
      "text/plain": [
       "<PIL.Image.Image image mode=L size=160x160>"
      ]
     },
     "metadata": {},
     "output_type": "display_data"
    },
    {
     "name": "stdout",
     "output_type": "stream",
     "text": [
      "0.37499999999999994\n",
      "==============\n"
     ]
    },
    {
     "data": {
      "image/jpeg": "[encoded data removed]",
      "image/png": "[encoded data removed]",
      "text/plain": [
       "<PIL.Image.Image image mode=L size=160x160>"
      ]
     },
     "metadata": {},
     "output_type": "display_data"
    },
    {
     "name": "stdout",
     "output_type": "stream",
     "text": [
      "0.37499999999999994\n",
      "==============\n"
     ]
    },
    {
     "data": {
      "image/jpeg": "[encoded data removed]",
      "image/png": "[encoded data removed]",
      "text/plain": [
       "<PIL.Image.Image image mode=L size=160x160>"
      ]
     },
     "metadata": {},
     "output_type": "display_data"
    },
    {
     "name": "stdout",
     "output_type": "stream",
     "text": [
      "0.37499999999999994\n",
      "==============\n"
     ]
    },
    {
     "data": {
      "image/jpeg": "[encoded data removed]",
      "image/png": "[encoded data removed]",
      "text/plain": [
       "<PIL.Image.Image image mode=L size=160x160>"
      ]
     },
     "metadata": {},
     "output_type": "display_data"
    },
    {
     "name": "stdout",
     "output_type": "stream",
     "text": [
      "0.37499999999999994\n",
      "==============\n"
     ]
    },
    {
     "data": {
      "image/jpeg": "[encoded data removed]",
      "image/png": "[encoded data removed]",
      "text/plain": [
       "<PIL.Image.Image image mode=L size=160x160>"
      ]
     },
     "metadata": {},
     "output_type": "display_data"
    },
    {
     "name": "stdout",
     "output_type": "stream",
     "text": [
      "0.37499999999999994\n",
      "==============\n"
     ]
    },
    {
     "data": {
      "image/jpeg": "[encoded data removed]",
      "image/png": "[encoded data removed]",
      "text/plain": [
       "<PIL.Image.Image image mode=L size=160x160>"
      ]
     },
     "metadata": {},
     "output_type": "display_data"
    },
    {
     "name": "stdout",
     "output_type": "stream",
     "text": [
      "0.37499999999999994\n",
      "==============\n"
     ]
    },
    {
     "data": {
      "image/jpeg": "[encoded data removed]",
      "image/png": "[encoded data removed]",
      "text/plain": [
       "<PIL.Image.Image image mode=L size=160x160>"
      ]
     },
     "metadata": {},
     "output_type": "display_data"
    },
    {
     "name": "stdout",
     "output_type": "stream",
     "text": [
      "0.37499999999999994\n",
      "==============\n"
     ]
    },
    {
     "data": {
      "image/jpeg": "[encoded data removed]",
      "image/png": "[encoded data removed]",
      "text/plain": [
       "<PIL.Image.Image image mode=L size=160x160>"
      ]
     },
     "metadata": {},
     "output_type": "display_data"
    },
    {
     "name": "stdout",
     "output_type": "stream",
     "text": [
      "0.37499999999999994\n",
      "==============\n"
     ]
    },
    {
     "data": {
      "image/jpeg": "[encoded data removed]",
      "image/png": "[encoded data removed]",
      "text/plain": [
       "<PIL.Image.Image image mode=L size=160x160>"
      ]
     },
     "metadata": {},
     "output_type": "display_data"
    },
    {
     "name": "stdout",
     "output_type": "stream",
     "text": [
      "0.37499999999999994\n"
     ]
    }
   ],
   "source": [
    "# Define the shape of the parameters\n",
    "# shape_p = qml.StronglyEntanglingLayers.shape(n_layers=2, n_wires=n_qubits)\n",
    "shape_p = qml.BasicEntanglerLayers.shape(n_layers=2, n_wires=n_qubits)\n",
    "\n",
    "# Define the objective function (to be minimized)\n",
    "def objective(params):\n",
    "    # print(params)\n",
    "    original_length = np.prod(shape_p)\n",
    "    # Extract segments for each set of weights\n",
    "    weights_p1_flat = params[0 : original_length]\n",
    "    # print('Param')\n",
    "    # print(weights_p1_flat)\n",
    "    # weights_p2_flat = params[original_length : 2*original_length]\n",
    "    # weights_p3_flat = params[2*original_length : 3*original_length]\n",
    "    # weights_p4_flat = params[3*original_length : 4*original_length]\n",
    "\n",
    "    # Reshape each segment\n",
    "    weights_p1 = weights_p1_flat.reshape(shape_p)\n",
    "    # print(weights_p1)\n",
    "    # weights_p2 = weights_p2_flat.reshape(shape_p)\n",
    "    # weights_p3 = weights_p3_flat.reshape(shape_p)\n",
    "    # weights_p4 = weights_p4_flat.reshape(shape_p)\n",
    "    # print('===================')\n",
    "    image_arr = []\n",
    "    for i in range(n_qubits):\n",
    "        arr = circuit(weights_p1,i)\n",
    "        largest_elements, indices = find_n_largest_numbers(arr, 1)\n",
    "        # Convert indices to binary\n",
    "        binary_indices = indices_to_binary(indices)\n",
    "        # print(binary_indices)\n",
    "        image_arr.append(list(binary_indices[0]))\n",
    "    print('==============')\n",
    "    # print(image_arr)\n",
    "    # Display the image\n",
    "    binary_array_to_png_and_display(image_arr,scale_factor=20)\n",
    "    # print(prob_image_arr(image_arr,api_key))\n",
    "    image_arr = convert_to_int(image_arr)\n",
    "    generated_img_feature_map = feature_map(convert_to_int(image_arr))\n",
    "    score = cosine_similarity(smiley_pattern_vec,generated_img_feature_map)\n",
    "    print(score)\n",
    "    \n",
    "    # print(\"Largest elements:\", largest_elements)\n",
    "    # print(\"Indices:\", indices)\n",
    "    # print(\"Indices in binary:\", binary_indices)\n",
    "\n",
    "    return score\n",
    "\n",
    "def callback(params):\n",
    "    print(\"Current loss:\", objective(params))\n",
    "    \n",
    "# Initialize the weights\n",
    "weights_p1 = np.random.random(size=shape_p)\n",
    "# weights_p2 = np.random.random(size=shape_p)\n",
    "# weights_p3 = np.random.random(size=shape_p)\n",
    "# weights_p4 = np.random.random(size=shape_p)\n",
    "\n",
    "# Flatten and concatenate the initial parameters\n",
    "init_params = np.concatenate([weights_p1.flatten()])\n",
    "print(qml.draw(circuit)(weights_p1,1))\n",
    "\n",
    "# Optimize using BFGS algorithm\n",
    "opt = minimize(objective, init_params, method='BFGS',callback=callback)\n"
   ]
  },
  {
   "cell_type": "code",
   "execution_count": 14,
   "metadata": {},
   "outputs": [
    {
     "name": "stdout",
     "output_type": "stream",
     "text": [
      "Optimized Parameters: [0.06058875 0.80795737 0.04311309 0.52889518 0.90850456 0.02009274\n",
      " 0.39117242 0.10817506 0.33977526 0.39728304 0.79093837 0.40818358\n",
      " 0.04346818 0.86122757 0.98206734 0.65689123]\n",
      "Optimized Expectation Value: 0.37499999999999994\n"
     ]
    }
   ],
   "source": [
    "print(\"Optimized Parameters:\", opt.x)\n",
    "print(\"Optimized Expectation Value:\", opt.fun)\n",
    "\n",
    "original_length = np.prod(shape_p)\n",
    "params = opt.x\n",
    "# Extract segments for each set of weights\n",
    "weights_p1_flat = params[0 : original_length]\n",
    "# weights_p2_flat = params[original_length : 2*original_length]\n",
    "# weights_p3_flat = params[2*original_length : 3*original_length]\n",
    "# weights_p4_flat = params[3*original_length : 4*original_length]\n",
    "\n",
    "# Reshape each segment\n",
    "weights_p1 = weights_p1_flat.reshape(shape_p)\n",
    "# weights_p2 = weights_p2_flat.reshape(shape_p)\n",
    "# weights_p3 = weights_p3_flat.reshape(shape_p)\n",
    "# weights_p4 = weights_p4_flat.reshape(shape_p)\n",
    "# print(circuit_res(weights_p1,weights_p2,weights_p3,weights_p4)"
   ]
  },
  {
   "cell_type": "code",
   "execution_count": 15,
   "metadata": {},
   "outputs": [],
   "source": [
    "res = circuit(weights_p1,0)\n",
    "# print(res)"
   ]
  },
  {
   "cell_type": "code",
   "execution_count": 16,
   "metadata": {},
   "outputs": [
    {
     "name": "stdout",
     "output_type": "stream",
     "text": [
      "Largest elements: [0.06550243 0.07493626 0.27707746]\n",
      "Indices: [117 131   0]\n",
      "Indices in binary: ['01110101', '10000011', '00000000']\n"
     ]
    }
   ],
   "source": [
    "\n",
    "# Example array\n",
    "arr = res\n",
    "n = 3\n",
    "\n",
    "# Find n largest numbers and their indices\n",
    "largest_elements, indices = find_n_largest_numbers(arr, n)\n",
    "\n",
    "# Convert indices to binary\n",
    "binary_indices = indices_to_binary(indices)\n",
    "\n",
    "print(\"Largest elements:\", largest_elements)\n",
    "print(\"Indices:\", indices)\n",
    "print(\"Indices in binary:\", binary_indices)\n"
   ]
  }
 ],
 "metadata": {
  "kernelspec": {
   "display_name": "q1",
   "language": "python",
   "name": "python3"
  },
  "language_info": {
   "codemirror_mode": {
    "name": "ipython",
    "version": 3
   },
   "file_extension": ".py",
   "mimetype": "text/x-python",
   "name": "python",
   "nbconvert_exporter": "python",
   "pygments_lexer": "ipython3",
   "version": "3.11.4"
  }
 },
 "nbformat": 4,
 "nbformat_minor": 2
}
