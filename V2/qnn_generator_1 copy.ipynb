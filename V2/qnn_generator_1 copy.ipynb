{
 "cells": [
  {
   "cell_type": "code",
   "execution_count": 1,
   "metadata": {},
   "outputs": [],
   "source": [
    "import openai\n",
    "import pennylane as qml\n",
    "from PIL import Image\n",
    "# import numpy as np"
   ]
  },
  {
   "cell_type": "code",
   "execution_count": 2,
   "metadata": {},
   "outputs": [],
   "source": [
    "from key import api_key"
   ]
  },
  {
   "cell_type": "code",
   "execution_count": 3,
   "metadata": {},
   "outputs": [],
   "source": [
    "from openai import OpenAI\n",
    "\n",
    "client = OpenAI(api_key=api_key)\n",
    "\n",
    "def prob_image_arr(arr, openai_api_key):\n",
    "    # Use OpenAI API to interpret the text\n",
    "    openai.api_key = openai_api_key\n",
    "\n",
    "    try:\n",
    "        response = client.chat.completions.create(\n",
    "            model=\"gpt-3.5-turbo\",\n",
    "            messages=[\n",
    "            #   {\n",
    "            #      \"role\": \"system\",\n",
    "            #      \"content\": \"The model is tasked with analyzing a 2D binary array. It should output '1' if the '1's in the array form a perfect rectangle, without any breaks or irregularities. If the '1's do not form a perfect rectangle, the model should output '0'. This binary output should be based solely on the geometric arrangement of '1's within the array.\"\n",
    "            #   },\n",
    "            {\n",
    "             \"role\": \"system\",\n",
    "               \"content\": \"The model is tasked to receive a 2D binary array consisting of 0s and 1s, with the 1s forming a specific shape. It should analyze this shape and calculate a score from 0 to 1 that indicates how closely this shape resembles a rectangle. A score of 1 denotes an exact rectangle, while a score of 0 indicates no resemblance to a rectangle. The model should focus on the spatial arrangement and continuity of the 1s to determine this score. The output should only be the score with a single number as output without any extra text as explanation.\"\n",
    "\n",
    "            # \"content\": \"The model's task is to analyze a 2D binary array and provide a numerical score between 0 and 1. This score represents how closely the '1's in the array resemble a rectangle, with 1 being a perfect rectangle and 0 indicating no resemblance. The model should output only the score, without any accompanying explanation.\"\n",
    "            },\n",
    "            #   {\n",
    "            #      \"role\": \"system\",\n",
    "            #      \"content\": \"The model is tasked with analyzing a 2D binary array and providing a score between 0 and 1. This score should reflect how closely the arrangement of '1's within the array resembles a rectangle. A score of 1 indicates a perfect rectangle, while a score closer to 0 suggests less resemblance to a rectangle. The model should consider factors such as the continuity, alignment, and proportion of '1's in determining this score.\"\n",
    "            #   },\n",
    "              {\"role\": \"user\", \"content\": f\"{arr}\"}\n",
    "            ]\n",
    "        )\n",
    "        # print(response)\n",
    "        content = content = response.choices[0].message.content\n",
    "        return content\n",
    "    except Exception as e:\n",
    "        return f\"Error in OpenAI API call: {e}\"\n"
   ]
  },
  {
   "cell_type": "code",
   "execution_count": null,
   "metadata": {},
   "outputs": [],
   "source": []
  },
  {
   "cell_type": "code",
   "execution_count": 4,
   "metadata": {},
   "outputs": [],
   "source": [
    "# is_arr = prob_image_arr(input_arr, api_key)\n",
    "# print(is_arr)"
   ]
  },
  {
   "cell_type": "code",
   "execution_count": 5,
   "metadata": {},
   "outputs": [],
   "source": [
    "import pennylane as qml\n",
    "from scipy.optimize import minimize\n",
    "from pennylane import numpy as np\n",
    "\n",
    "\n"
   ]
  },
  {
   "cell_type": "code",
   "execution_count": 6,
   "metadata": {},
   "outputs": [],
   "source": [
    "n_qubits = 8\n",
    "dev = qml.device('default.qubit', wires=n_qubits)"
   ]
  },
  {
   "cell_type": "code",
   "execution_count": 7,
   "metadata": {},
   "outputs": [],
   "source": [
    "def find_n_largest_numbers(arr, n):\n",
    "    # Find the indices of the n largest elements\n",
    "    indices = np.argsort(arr)[-n:]\n",
    "    # Find the n largest elements\n",
    "    largest_elements = arr[indices]\n",
    "    return largest_elements, indices\n",
    "qml\n",
    "def indices_to_binary(indices):\n",
    "    # Convert each index to binary and ensure it's 8 bits\n",
    "    return [format(index, f'0{n_qubits}b') for index in indices]\n",
    "\n",
    "def int_to_binary(n, digits):\n",
    "    binary_str = format(n, 'b')\n",
    "    # Pad the binary string with leading zeros to ensure it has 'digits' length\n",
    "    return binary_str.zfill(digits)"
   ]
  },
  {
   "cell_type": "code",
   "execution_count": 8,
   "metadata": {},
   "outputs": [],
   "source": [
    "# Define the quantum circuit\n",
    "@qml.qnode(dev)\n",
    "def circuit(param,index):\n",
    "    index = int_to_binary(index,n_qubits)\n",
    "    # for i, char in enumerate(index):\n",
    "    #     if(char=='1'):\n",
    "    #         qml.PauliX(wires=i)\n",
    "    #     # qml.Hadamard(wires=i)\n",
    "            \n",
    "    qml.StronglyEntanglingLayers(weights=param, wires=range(n_qubits))\n",
    "    return qml.probs(wires=range(n_qubits))\n",
    "\n"
   ]
  },
  {
   "cell_type": "code",
   "execution_count": 9,
   "metadata": {},
   "outputs": [],
   "source": [
    "def convert_to_int(nested_list):\n",
    "    return [[int(element) for element in sublist] for sublist in nested_list]\n",
    "\n",
    "def binary_array_to_png_and_display(binary_array, scale_factor=10):\n",
    "    binary_array = convert_to_int(binary_array)\n",
    "    # Convert the binary array to a numpy array with values 0 and 255\n",
    "    image_array = np.array(binary_array) * 255\n",
    "\n",
    "    # Create an image object from the numpy array\n",
    "    image = Image.fromarray(np.uint8(image_array), 'L')\n",
    "\n",
    "    # Scale the image\n",
    "    original_size = image.size\n",
    "    scaled_size = tuple([dimension * scale_factor for dimension in original_size])\n",
    "    scaled_image = image.resize(scaled_size, Image.NEAREST)\n",
    "    display(scaled_image)\n"
   ]
  },
  {
   "cell_type": "code",
   "execution_count": 10,
   "metadata": {},
   "outputs": [],
   "source": [
    "def feature_map(input_arr):\n",
    "    \"\"\"Flatten the 2D binary array into a 1D feature map.\"\"\"\n",
    "    return [item for sublist in input_arr for item in sublist]\n",
    "\n",
    "def cosine_similarity(vec1, vec2):\n",
    "    \"\"\"Calculate the cosine similarity between two vectors.\"\"\"\n",
    "    vec1, vec2 = np.array(vec1), np.array(vec2)\n",
    "    dot_product = np.dot(vec1, vec2)\n",
    "    norm_vec1 = np.linalg.norm(vec1)\n",
    "    norm_vec2 = np.linalg.norm(vec2)\n",
    "    if norm_vec1 * norm_vec2==0:\n",
    "        return 0.1\n",
    "    similarity = dot_product / (norm_vec1 * norm_vec2)\n",
    "    return similarity"
   ]
  },
  {
   "cell_type": "code",
   "execution_count": 11,
   "metadata": {},
   "outputs": [
    {
     "name": "stdout",
     "output_type": "stream",
     "text": [
      "True\n"
     ]
    }
   ],
   "source": [
    "a = int_to_binary(4,5)\n",
    "for i, char in enumerate(a):\n",
    "    if(char=='1'):\n",
    "        print(True)"
   ]
  },
  {
   "cell_type": "code",
   "execution_count": 12,
   "metadata": {},
   "outputs": [],
   "source": [
    "smiley_pattern = np.array([\n",
    "        [0, 0, 0, 0, 0, 0, 0, 0],\n",
    "        [0, 0, 1, 0, 0, 1, 0, 0],\n",
    "        [0, 0, 0, 0, 0, 0, 0, 0],\n",
    "        [0, 1, 0, 0, 0, 0, 1, 0],\n",
    "        [0, 0, 1, 1, 1, 1, 0, 0],\n",
    "        [0, 0, 0, 0, 0, 0, 0, 0],\n",
    "        [0, 0, 0, 0, 0, 0, 0, 0],\n",
    "        [0, 0, 0, 0, 0, 0, 0, 0]\n",
    "    ])\n",
    "smiley_pattern_vec = feature_map(smiley_pattern)"
   ]
  },
  {
   "cell_type": "code",
   "execution_count": 13,
   "metadata": {},
   "outputs": [
    {
     "ename": "TypeError",
     "evalue": "random() got an unexpected keyword argument 'required_grad'",
     "output_type": "error",
     "traceback": [
      "\u001b[1;31m---------------------------------------------------------------------------\u001b[0m",
      "\u001b[1;31mTypeError\u001b[0m                                 Traceback (most recent call last)",
      "Cell \u001b[1;32mIn[13], line 53\u001b[0m\n\u001b[0;32m     51\u001b[0m \u001b[38;5;66;03m# Initialize the weights\u001b[39;00m\n\u001b[0;32m     52\u001b[0m shape_p \u001b[38;5;241m=\u001b[39m qml\u001b[38;5;241m.\u001b[39mStronglyEntanglingLayers\u001b[38;5;241m.\u001b[39mshape(n_layers\u001b[38;5;241m=\u001b[39m\u001b[38;5;241m1\u001b[39m, n_wires\u001b[38;5;241m=\u001b[39mn_qubits)\n\u001b[1;32m---> 53\u001b[0m weights_p1 \u001b[38;5;241m=\u001b[39m \u001b[43mnp\u001b[49m\u001b[38;5;241;43m.\u001b[39;49m\u001b[43mrandom\u001b[49m\u001b[38;5;241;43m.\u001b[39;49m\u001b[43mrandom\u001b[49m\u001b[43m(\u001b[49m\u001b[43msize\u001b[49m\u001b[38;5;241;43m=\u001b[39;49m\u001b[43mshape_p\u001b[49m\u001b[43m,\u001b[49m\u001b[43mrequired_grad\u001b[49m\u001b[38;5;241;43m=\u001b[39;49m\u001b[38;5;28;43;01mTrue\u001b[39;49;00m\u001b[43m)\u001b[49m\n\u001b[0;32m     54\u001b[0m \u001b[38;5;28mprint\u001b[39m(weights_p1)\n",
      "File \u001b[1;32mc:\\Users\\acade\\anaconda3\\envs\\q1\\Lib\\site-packages\\pennylane\\numpy\\wrapper.py:117\u001b[0m, in \u001b[0;36mtensor_wrapper.<locals>._wrapped\u001b[1;34m(*args, **kwargs)\u001b[0m\n\u001b[0;32m    114\u001b[0m         tensor_kwargs[\u001b[38;5;124m\"\u001b[39m\u001b[38;5;124mrequires_grad\u001b[39m\u001b[38;5;124m\"\u001b[39m] \u001b[38;5;241m=\u001b[39m _np\u001b[38;5;241m.\u001b[39many([i\u001b[38;5;241m.\u001b[39mrequires_grad \u001b[38;5;28;01mfor\u001b[39;00m i \u001b[38;5;129;01min\u001b[39;00m tensor_args])\n\u001b[0;32m    116\u001b[0m \u001b[38;5;66;03m# evaluate the original object\u001b[39;00m\n\u001b[1;32m--> 117\u001b[0m res \u001b[38;5;241m=\u001b[39m \u001b[43mobj\u001b[49m\u001b[43m(\u001b[49m\u001b[38;5;241;43m*\u001b[39;49m\u001b[43margs\u001b[49m\u001b[43m,\u001b[49m\u001b[43m \u001b[49m\u001b[38;5;241;43m*\u001b[39;49m\u001b[38;5;241;43m*\u001b[39;49m\u001b[43mkwargs\u001b[49m\u001b[43m)\u001b[49m\n\u001b[0;32m    119\u001b[0m \u001b[38;5;28;01mif\u001b[39;00m \u001b[38;5;28misinstance\u001b[39m(res, _np\u001b[38;5;241m.\u001b[39mndarray):\n\u001b[0;32m    120\u001b[0m     \u001b[38;5;66;03m# only if the output of the object is a ndarray,\u001b[39;00m\n\u001b[0;32m    121\u001b[0m     \u001b[38;5;66;03m# then convert to a PennyLane tensor\u001b[39;00m\n\u001b[0;32m    122\u001b[0m     res \u001b[38;5;241m=\u001b[39m tensor(res, \u001b[38;5;241m*\u001b[39m\u001b[38;5;241m*\u001b[39mtensor_kwargs)\n",
      "File \u001b[1;32mc:\\Users\\acade\\anaconda3\\envs\\q1\\Lib\\site-packages\\autograd\\tracer.py:48\u001b[0m, in \u001b[0;36mprimitive.<locals>.f_wrapped\u001b[1;34m(*args, **kwargs)\u001b[0m\n\u001b[0;32m     46\u001b[0m     \u001b[38;5;28;01mreturn\u001b[39;00m new_box(ans, trace, node)\n\u001b[0;32m     47\u001b[0m \u001b[38;5;28;01melse\u001b[39;00m:\n\u001b[1;32m---> 48\u001b[0m     \u001b[38;5;28;01mreturn\u001b[39;00m \u001b[43mf_raw\u001b[49m\u001b[43m(\u001b[49m\u001b[38;5;241;43m*\u001b[39;49m\u001b[43margs\u001b[49m\u001b[43m,\u001b[49m\u001b[43m \u001b[49m\u001b[38;5;241;43m*\u001b[39;49m\u001b[38;5;241;43m*\u001b[39;49m\u001b[43mkwargs\u001b[49m\u001b[43m)\u001b[49m\n",
      "File \u001b[1;32mmtrand.pyx:427\u001b[0m, in \u001b[0;36mnumpy.random.mtrand.RandomState.random\u001b[1;34m()\u001b[0m\n",
      "\u001b[1;31mTypeError\u001b[0m: random() got an unexpected keyword argument 'required_grad'"
     ]
    }
   ],
   "source": [
    "# Define the shape of the parameters\n",
    "shape_p = qml.StronglyEntanglingLayers.shape(n_layers=2, n_wires=n_qubits)\n",
    "\n",
    "# Define the objective function (to be minimized)\n",
    "def objective(params):\n",
    "    print(params)\n",
    "    print('============')\n",
    "    # original_length = np.prod(shape_p)\n",
    "    # Extract segments for each set of weights\n",
    "    # weights_p1_flat = params[0 : original_length]\n",
    "    # print('Param')\n",
    "    # print(weights_p1_flat)\n",
    "    # weights_p2_flat = params[original_length : 2*original_length]\n",
    "    # weights_p3_flat = params[2*original_length : 3*original_length]\n",
    "    # weights_p4_flat = params[3*original_length : 4*original_length]\n",
    "\n",
    "    # Reshape each segment\n",
    "    # weights_p1 = weights_p1_flat.reshape(shape_p)\n",
    "    # print(weights_p1)\n",
    "    # weights_p2 = weights_p2_flat.reshape(shape_p)\n",
    "    # weights_p3 = weights_p3_flat.reshape(shape_p)\n",
    "    # weights_p4 = weights_p4_flat.reshape(shape_p)\n",
    "    # print('===================')\n",
    "    image_arr = []\n",
    "    for i in range(n_qubits):\n",
    "        arr = circuit(params,i)\n",
    "        largest_elements, indices = find_n_largest_numbers(arr, 1)\n",
    "        # Convert indices to binary\n",
    "        binary_indices = indices_to_binary(indices)\n",
    "        # print(largest_elements)\n",
    "        print(binary_indices)\n",
    "        image_arr.append(list(binary_indices[0]))\n",
    "    print('==============')\n",
    "    # print(image_arr)\n",
    "    # Display the image\n",
    "    binary_array_to_png_and_display(image_arr,scale_factor=20)\n",
    "    # print(prob_image_arr(image_arr,api_key))\n",
    "    image_arr = convert_to_int(image_arr)\n",
    "    generated_img_feature_map = feature_map(convert_to_int(image_arr))\n",
    "    score = cosine_similarity(smiley_pattern_vec,generated_img_feature_map)\n",
    "    print(score)\n",
    "    \n",
    "    # print(\"Largest elements:\", largest_elements)\n",
    "    # print(\"Indices:\", indices)\n",
    "    # print(\"Indices in binary:\", binary_indices)\n",
    "\n",
    "    return score\n",
    "\n",
    "\n",
    "\n",
    "# Initialize the weights\n",
    "shape_p = qml.StronglyEntanglingLayers.shape(n_layers=1, n_wires=n_qubits)\n",
    "weights_p1 = np.random.random(size=shape_p,required_grad=True)\n",
    "print(weights_p1)\n",
    "\n",
    "\n"
   ]
  },
  {
   "cell_type": "code",
   "execution_count": null,
   "metadata": {},
   "outputs": [
    {
     "name": "stdout",
     "output_type": "stream",
     "text": [
      "Autograd ArrayBox with value [[[0.973177   0.53886208 0.5262631 ]\n",
      "  [0.09070398 0.6032145  0.44091675]\n",
      "  [0.26652816 0.4369166  0.49253013]\n",
      "  [0.91468466 0.53301562 0.73521908]\n",
      "  [0.81697192 0.14514894 0.83754249]\n",
      "  [0.66792459 0.2352488  0.6011704 ]\n",
      "  [0.29002278 0.0807057  0.19652895]\n",
      "  [0.07865614 0.1149242  0.62391812]]]\n",
      "============\n",
      "['00000000']\n",
      "['00000000']\n",
      "['00000000']\n",
      "['00000000']\n",
      "['00000000']\n",
      "['00000000']\n",
      "['00000000']\n",
      "['00000000']\n",
      "==============\n"
     ]
    },
    {
     "data": {
      "image/jpeg": "[encoded data removed]",
      "image/png": "[encoded data removed]",
      "text/plain": [
       "<PIL.Image.Image image mode=L size=160x160>"
      ]
     },
     "metadata": {},
     "output_type": "display_data"
    },
    {
     "name": "stdout",
     "output_type": "stream",
     "text": [
      "0.1\n",
      "[[[0.973177   0.53886208 0.5262631 ]\n",
      "  [0.09070398 0.6032145  0.44091675]\n",
      "  [0.26652816 0.4369166  0.49253013]\n",
      "  [0.91468466 0.53301562 0.73521908]\n",
      "  [0.81697192 0.14514894 0.83754249]\n",
      "  [0.66792459 0.2352488  0.6011704 ]\n",
      "  [0.29002278 0.0807057  0.19652895]\n",
      "  [0.07865614 0.1149242  0.62391812]]]\n",
      "Iteration = 0,  Cost = 0.10000000\n",
      "Autograd ArrayBox with value [[[0.973177   0.53886208 0.5262631 ]\n",
      "  [0.09070398 0.6032145  0.44091675]\n",
      "  [0.26652816 0.4369166  0.49253013]\n",
      "  [0.91468466 0.53301562 0.73521908]\n",
      "  [0.81697192 0.14514894 0.83754249]\n",
      "  [0.66792459 0.2352488  0.6011704 ]\n",
      "  [0.29002278 0.0807057  0.19652895]\n",
      "  [0.07865614 0.1149242  0.62391812]]]\n",
      "============\n",
      "['00000000']\n",
      "['00000000']\n",
      "['00000000']\n",
      "['00000000']\n",
      "['00000000']\n",
      "['00000000']\n",
      "['00000000']\n",
      "['00000000']\n",
      "==============\n"
     ]
    },
    {
     "name": "stderr",
     "output_type": "stream",
     "text": [
      "c:\\Users\\acade\\anaconda3\\envs\\q1\\Lib\\site-packages\\autograd\\tracer.py:14: UserWarning: Output seems independent of input.\n",
      "  warnings.warn(\"Output seems independent of input.\")\n"
     ]
    },
    {
     "data": {
      "image/jpeg": "[encoded data removed]",
      "image/png": "[encoded data removed]",
      "text/plain": [
       "<PIL.Image.Image image mode=L size=160x160>"
      ]
     },
     "metadata": {},
     "output_type": "display_data"
    },
    {
     "name": "stdout",
     "output_type": "stream",
     "text": [
      "0.1\n",
      "[[[0.973177   0.53886208 0.5262631 ]\n",
      "  [0.09070398 0.6032145  0.44091675]\n",
      "  [0.26652816 0.4369166  0.49253013]\n",
      "  [0.91468466 0.53301562 0.73521908]\n",
      "  [0.81697192 0.14514894 0.83754249]\n",
      "  [0.66792459 0.2352488  0.6011704 ]\n",
      "  [0.29002278 0.0807057  0.19652895]\n",
      "  [0.07865614 0.1149242  0.62391812]]]\n",
      "Iteration = 1,  Cost = 0.10000000\n",
      "Autograd ArrayBox with value [[[0.973177   0.53886208 0.5262631 ]\n",
      "  [0.09070398 0.6032145  0.44091675]\n",
      "  [0.26652816 0.4369166  0.49253013]\n",
      "  [0.91468466 0.53301562 0.73521908]\n",
      "  [0.81697192 0.14514894 0.83754249]\n",
      "  [0.66792459 0.2352488  0.6011704 ]\n",
      "  [0.29002278 0.0807057  0.19652895]\n",
      "  [0.07865614 0.1149242  0.62391812]]]\n",
      "============\n",
      "['00000000']\n",
      "['00000000']\n",
      "['00000000']\n",
      "['00000000']\n",
      "['00000000']\n",
      "['00000000']\n",
      "['00000000']\n",
      "['00000000']\n",
      "==============\n"
     ]
    },
    {
     "data": {
      "image/jpeg": "[encoded data removed]",
      "image/png": "[encoded data removed]",
      "text/plain": [
       "<PIL.Image.Image image mode=L size=160x160>"
      ]
     },
     "metadata": {},
     "output_type": "display_data"
    },
    {
     "name": "stdout",
     "output_type": "stream",
     "text": [
      "0.1\n",
      "[[[0.973177   0.53886208 0.5262631 ]\n",
      "  [0.09070398 0.6032145  0.44091675]\n",
      "  [0.26652816 0.4369166  0.49253013]\n",
      "  [0.91468466 0.53301562 0.73521908]\n",
      "  [0.81697192 0.14514894 0.83754249]\n",
      "  [0.66792459 0.2352488  0.6011704 ]\n",
      "  [0.29002278 0.0807057  0.19652895]\n",
      "  [0.07865614 0.1149242  0.62391812]]]\n",
      "Iteration = 2,  Cost = 0.10000000\n",
      "Autograd ArrayBox with value [[[0.973177   0.53886208 0.5262631 ]\n",
      "  [0.09070398 0.6032145  0.44091675]\n",
      "  [0.26652816 0.4369166  0.49253013]\n",
      "  [0.91468466 0.53301562 0.73521908]\n",
      "  [0.81697192 0.14514894 0.83754249]\n",
      "  [0.66792459 0.2352488  0.6011704 ]\n",
      "  [0.29002278 0.0807057  0.19652895]\n",
      "  [0.07865614 0.1149242  0.62391812]]]\n",
      "============\n",
      "['00000000']\n",
      "['00000000']\n",
      "['00000000']\n",
      "['00000000']\n",
      "['00000000']\n",
      "['00000000']\n",
      "['00000000']\n",
      "['00000000']\n",
      "==============\n"
     ]
    },
    {
     "data": {
      "image/jpeg": "[encoded data removed]",
      "image/png": "[encoded data removed]",
      "text/plain": [
       "<PIL.Image.Image image mode=L size=160x160>"
      ]
     },
     "metadata": {},
     "output_type": "display_data"
    },
    {
     "name": "stdout",
     "output_type": "stream",
     "text": [
      "0.1\n",
      "[[[0.973177   0.53886208 0.5262631 ]\n",
      "  [0.09070398 0.6032145  0.44091675]\n",
      "  [0.26652816 0.4369166  0.49253013]\n",
      "  [0.91468466 0.53301562 0.73521908]\n",
      "  [0.81697192 0.14514894 0.83754249]\n",
      "  [0.66792459 0.2352488  0.6011704 ]\n",
      "  [0.29002278 0.0807057  0.19652895]\n",
      "  [0.07865614 0.1149242  0.62391812]]]\n",
      "Iteration = 3,  Cost = 0.10000000\n",
      "Autograd ArrayBox with value [[[0.973177   0.53886208 0.5262631 ]\n",
      "  [0.09070398 0.6032145  0.44091675]\n",
      "  [0.26652816 0.4369166  0.49253013]\n",
      "  [0.91468466 0.53301562 0.73521908]\n",
      "  [0.81697192 0.14514894 0.83754249]\n",
      "  [0.66792459 0.2352488  0.6011704 ]\n",
      "  [0.29002278 0.0807057  0.19652895]\n",
      "  [0.07865614 0.1149242  0.62391812]]]\n",
      "============\n",
      "['00000000']\n",
      "['00000000']\n",
      "['00000000']\n",
      "['00000000']\n",
      "['00000000']\n",
      "['00000000']\n",
      "['00000000']\n",
      "['00000000']\n",
      "==============\n"
     ]
    },
    {
     "data": {
      "image/jpeg": "[encoded data removed]",
      "image/png": "[encoded data removed]",
      "text/plain": [
       "<PIL.Image.Image image mode=L size=160x160>"
      ]
     },
     "metadata": {},
     "output_type": "display_data"
    },
    {
     "name": "stdout",
     "output_type": "stream",
     "text": [
      "0.1\n",
      "[[[0.973177   0.53886208 0.5262631 ]\n",
      "  [0.09070398 0.6032145  0.44091675]\n",
      "  [0.26652816 0.4369166  0.49253013]\n",
      "  [0.91468466 0.53301562 0.73521908]\n",
      "  [0.81697192 0.14514894 0.83754249]\n",
      "  [0.66792459 0.2352488  0.6011704 ]\n",
      "  [0.29002278 0.0807057  0.19652895]\n",
      "  [0.07865614 0.1149242  0.62391812]]]\n",
      "Iteration = 4,  Cost = 0.10000000\n",
      "Autograd ArrayBox with value [[[0.973177   0.53886208 0.5262631 ]\n",
      "  [0.09070398 0.6032145  0.44091675]\n",
      "  [0.26652816 0.4369166  0.49253013]\n",
      "  [0.91468466 0.53301562 0.73521908]\n",
      "  [0.81697192 0.14514894 0.83754249]\n",
      "  [0.66792459 0.2352488  0.6011704 ]\n",
      "  [0.29002278 0.0807057  0.19652895]\n",
      "  [0.07865614 0.1149242  0.62391812]]]\n",
      "============\n",
      "['00000000']\n",
      "['00000000']\n",
      "['00000000']\n",
      "['00000000']\n",
      "['00000000']\n",
      "['00000000']\n",
      "['00000000']\n",
      "['00000000']\n",
      "==============\n"
     ]
    },
    {
     "data": {
      "image/jpeg": "[encoded data removed]",
      "image/png": "[encoded data removed]",
      "text/plain": [
       "<PIL.Image.Image image mode=L size=160x160>"
      ]
     },
     "metadata": {},
     "output_type": "display_data"
    },
    {
     "name": "stdout",
     "output_type": "stream",
     "text": [
      "0.1\n",
      "[[[0.973177   0.53886208 0.5262631 ]\n",
      "  [0.09070398 0.6032145  0.44091675]\n",
      "  [0.26652816 0.4369166  0.49253013]\n",
      "  [0.91468466 0.53301562 0.73521908]\n",
      "  [0.81697192 0.14514894 0.83754249]\n",
      "  [0.66792459 0.2352488  0.6011704 ]\n",
      "  [0.29002278 0.0807057  0.19652895]\n",
      "  [0.07865614 0.1149242  0.62391812]]]\n",
      "Iteration = 5,  Cost = 0.10000000\n",
      "Autograd ArrayBox with value [[[0.973177   0.53886208 0.5262631 ]\n",
      "  [0.09070398 0.6032145  0.44091675]\n",
      "  [0.26652816 0.4369166  0.49253013]\n",
      "  [0.91468466 0.53301562 0.73521908]\n",
      "  [0.81697192 0.14514894 0.83754249]\n",
      "  [0.66792459 0.2352488  0.6011704 ]\n",
      "  [0.29002278 0.0807057  0.19652895]\n",
      "  [0.07865614 0.1149242  0.62391812]]]\n",
      "============\n",
      "['00000000']\n",
      "['00000000']\n",
      "['00000000']\n",
      "['00000000']\n",
      "['00000000']\n",
      "['00000000']\n",
      "['00000000']\n",
      "['00000000']\n",
      "==============\n"
     ]
    },
    {
     "data": {
      "image/jpeg": "[encoded data removed]",
      "image/png": "[encoded data removed]",
      "text/plain": [
       "<PIL.Image.Image image mode=L size=160x160>"
      ]
     },
     "metadata": {},
     "output_type": "display_data"
    },
    {
     "name": "stdout",
     "output_type": "stream",
     "text": [
      "0.1\n",
      "[[[0.973177   0.53886208 0.5262631 ]\n",
      "  [0.09070398 0.6032145  0.44091675]\n",
      "  [0.26652816 0.4369166  0.49253013]\n",
      "  [0.91468466 0.53301562 0.73521908]\n",
      "  [0.81697192 0.14514894 0.83754249]\n",
      "  [0.66792459 0.2352488  0.6011704 ]\n",
      "  [0.29002278 0.0807057  0.19652895]\n",
      "  [0.07865614 0.1149242  0.62391812]]]\n",
      "Iteration = 6,  Cost = 0.10000000\n",
      "Autograd ArrayBox with value [[[0.973177   0.53886208 0.5262631 ]\n",
      "  [0.09070398 0.6032145  0.44091675]\n",
      "  [0.26652816 0.4369166  0.49253013]\n",
      "  [0.91468466 0.53301562 0.73521908]\n",
      "  [0.81697192 0.14514894 0.83754249]\n",
      "  [0.66792459 0.2352488  0.6011704 ]\n",
      "  [0.29002278 0.0807057  0.19652895]\n",
      "  [0.07865614 0.1149242  0.62391812]]]\n",
      "============\n",
      "['00000000']\n",
      "['00000000']\n",
      "['00000000']\n",
      "['00000000']\n",
      "['00000000']\n",
      "['00000000']\n",
      "['00000000']\n",
      "['00000000']\n",
      "==============\n"
     ]
    },
    {
     "data": {
      "image/jpeg": "[encoded data removed]",
      "image/png": "[encoded data removed]",
      "text/plain": [
       "<PIL.Image.Image image mode=L size=160x160>"
      ]
     },
     "metadata": {},
     "output_type": "display_data"
    },
    {
     "name": "stdout",
     "output_type": "stream",
     "text": [
      "0.1\n",
      "[[[0.973177   0.53886208 0.5262631 ]\n",
      "  [0.09070398 0.6032145  0.44091675]\n",
      "  [0.26652816 0.4369166  0.49253013]\n",
      "  [0.91468466 0.53301562 0.73521908]\n",
      "  [0.81697192 0.14514894 0.83754249]\n",
      "  [0.66792459 0.2352488  0.6011704 ]\n",
      "  [0.29002278 0.0807057  0.19652895]\n",
      "  [0.07865614 0.1149242  0.62391812]]]\n",
      "Iteration = 7,  Cost = 0.10000000\n",
      "Autograd ArrayBox with value [[[0.973177   0.53886208 0.5262631 ]\n",
      "  [0.09070398 0.6032145  0.44091675]\n",
      "  [0.26652816 0.4369166  0.49253013]\n",
      "  [0.91468466 0.53301562 0.73521908]\n",
      "  [0.81697192 0.14514894 0.83754249]\n",
      "  [0.66792459 0.2352488  0.6011704 ]\n",
      "  [0.29002278 0.0807057  0.19652895]\n",
      "  [0.07865614 0.1149242  0.62391812]]]\n",
      "============\n",
      "['00000000']\n",
      "['00000000']\n",
      "['00000000']\n",
      "['00000000']\n",
      "['00000000']\n",
      "['00000000']\n",
      "['00000000']\n",
      "['00000000']\n",
      "==============\n"
     ]
    },
    {
     "data": {
      "image/jpeg": "[encoded data removed]",
      "image/png": "[encoded data removed]",
      "text/plain": [
       "<PIL.Image.Image image mode=L size=160x160>"
      ]
     },
     "metadata": {},
     "output_type": "display_data"
    },
    {
     "name": "stdout",
     "output_type": "stream",
     "text": [
      "0.1\n",
      "[[[0.973177   0.53886208 0.5262631 ]\n",
      "  [0.09070398 0.6032145  0.44091675]\n",
      "  [0.26652816 0.4369166  0.49253013]\n",
      "  [0.91468466 0.53301562 0.73521908]\n",
      "  [0.81697192 0.14514894 0.83754249]\n",
      "  [0.66792459 0.2352488  0.6011704 ]\n",
      "  [0.29002278 0.0807057  0.19652895]\n",
      "  [0.07865614 0.1149242  0.62391812]]]\n",
      "Iteration = 8,  Cost = 0.10000000\n",
      "Autograd ArrayBox with value [[[0.973177   0.53886208 0.5262631 ]\n",
      "  [0.09070398 0.6032145  0.44091675]\n",
      "  [0.26652816 0.4369166  0.49253013]\n",
      "  [0.91468466 0.53301562 0.73521908]\n",
      "  [0.81697192 0.14514894 0.83754249]\n",
      "  [0.66792459 0.2352488  0.6011704 ]\n",
      "  [0.29002278 0.0807057  0.19652895]\n",
      "  [0.07865614 0.1149242  0.62391812]]]\n",
      "============\n",
      "['00000000']\n",
      "['00000000']\n",
      "['00000000']\n",
      "['00000000']\n",
      "['00000000']\n",
      "['00000000']\n",
      "['00000000']\n",
      "['00000000']\n",
      "==============\n"
     ]
    },
    {
     "data": {
      "image/jpeg": "[encoded data removed]",
      "image/png": "[encoded data removed]",
      "text/plain": [
       "<PIL.Image.Image image mode=L size=160x160>"
      ]
     },
     "metadata": {},
     "output_type": "display_data"
    },
    {
     "name": "stdout",
     "output_type": "stream",
     "text": [
      "0.1\n",
      "[[[0.973177   0.53886208 0.5262631 ]\n",
      "  [0.09070398 0.6032145  0.44091675]\n",
      "  [0.26652816 0.4369166  0.49253013]\n",
      "  [0.91468466 0.53301562 0.73521908]\n",
      "  [0.81697192 0.14514894 0.83754249]\n",
      "  [0.66792459 0.2352488  0.6011704 ]\n",
      "  [0.29002278 0.0807057  0.19652895]\n",
      "  [0.07865614 0.1149242  0.62391812]]]\n",
      "Iteration = 9,  Cost = 0.10000000\n",
      "Autograd ArrayBox with value [[[0.973177   0.53886208 0.5262631 ]\n",
      "  [0.09070398 0.6032145  0.44091675]\n",
      "  [0.26652816 0.4369166  0.49253013]\n",
      "  [0.91468466 0.53301562 0.73521908]\n",
      "  [0.81697192 0.14514894 0.83754249]\n",
      "  [0.66792459 0.2352488  0.6011704 ]\n",
      "  [0.29002278 0.0807057  0.19652895]\n",
      "  [0.07865614 0.1149242  0.62391812]]]\n",
      "============\n",
      "['00000000']\n",
      "['00000000']\n",
      "['00000000']\n",
      "['00000000']\n",
      "['00000000']\n",
      "['00000000']\n",
      "['00000000']\n",
      "['00000000']\n",
      "==============\n"
     ]
    },
    {
     "data": {
      "image/jpeg": "[encoded data removed]",
      "image/png": "[encoded data removed]",
      "text/plain": [
       "<PIL.Image.Image image mode=L size=160x160>"
      ]
     },
     "metadata": {},
     "output_type": "display_data"
    },
    {
     "name": "stdout",
     "output_type": "stream",
     "text": [
      "0.1\n",
      "[[[0.973177   0.53886208 0.5262631 ]\n",
      "  [0.09070398 0.6032145  0.44091675]\n",
      "  [0.26652816 0.4369166  0.49253013]\n",
      "  [0.91468466 0.53301562 0.73521908]\n",
      "  [0.81697192 0.14514894 0.83754249]\n",
      "  [0.66792459 0.2352488  0.6011704 ]\n",
      "  [0.29002278 0.0807057  0.19652895]\n",
      "  [0.07865614 0.1149242  0.62391812]]]\n",
      "Iteration = 10,  Cost = 0.10000000\n",
      "Autograd ArrayBox with value [[[0.973177   0.53886208 0.5262631 ]\n",
      "  [0.09070398 0.6032145  0.44091675]\n",
      "  [0.26652816 0.4369166  0.49253013]\n",
      "  [0.91468466 0.53301562 0.73521908]\n",
      "  [0.81697192 0.14514894 0.83754249]\n",
      "  [0.66792459 0.2352488  0.6011704 ]\n",
      "  [0.29002278 0.0807057  0.19652895]\n",
      "  [0.07865614 0.1149242  0.62391812]]]\n",
      "============\n",
      "['00000000']\n",
      "['00000000']\n",
      "['00000000']\n",
      "['00000000']\n",
      "['00000000']\n",
      "['00000000']\n",
      "['00000000']\n",
      "['00000000']\n",
      "==============\n"
     ]
    },
    {
     "data": {
      "image/jpeg": "[encoded data removed]",
      "image/png": "[encoded data removed]",
      "text/plain": [
       "<PIL.Image.Image image mode=L size=160x160>"
      ]
     },
     "metadata": {},
     "output_type": "display_data"
    },
    {
     "name": "stdout",
     "output_type": "stream",
     "text": [
      "0.1\n",
      "[[[0.973177   0.53886208 0.5262631 ]\n",
      "  [0.09070398 0.6032145  0.44091675]\n",
      "  [0.26652816 0.4369166  0.49253013]\n",
      "  [0.91468466 0.53301562 0.73521908]\n",
      "  [0.81697192 0.14514894 0.83754249]\n",
      "  [0.66792459 0.2352488  0.6011704 ]\n",
      "  [0.29002278 0.0807057  0.19652895]\n",
      "  [0.07865614 0.1149242  0.62391812]]]\n",
      "Iteration = 11,  Cost = 0.10000000\n",
      "Autograd ArrayBox with value [[[0.973177   0.53886208 0.5262631 ]\n",
      "  [0.09070398 0.6032145  0.44091675]\n",
      "  [0.26652816 0.4369166  0.49253013]\n",
      "  [0.91468466 0.53301562 0.73521908]\n",
      "  [0.81697192 0.14514894 0.83754249]\n",
      "  [0.66792459 0.2352488  0.6011704 ]\n",
      "  [0.29002278 0.0807057  0.19652895]\n",
      "  [0.07865614 0.1149242  0.62391812]]]\n",
      "============\n",
      "['00000000']\n",
      "['00000000']\n",
      "['00000000']\n",
      "['00000000']\n",
      "['00000000']\n",
      "['00000000']\n",
      "['00000000']\n",
      "['00000000']\n",
      "==============\n"
     ]
    },
    {
     "data": {
      "image/jpeg": "[encoded data removed]",
      "image/png": "[encoded data removed]",
      "text/plain": [
       "<PIL.Image.Image image mode=L size=160x160>"
      ]
     },
     "metadata": {},
     "output_type": "display_data"
    },
    {
     "name": "stdout",
     "output_type": "stream",
     "text": [
      "0.1\n",
      "[[[0.973177   0.53886208 0.5262631 ]\n",
      "  [0.09070398 0.6032145  0.44091675]\n",
      "  [0.26652816 0.4369166  0.49253013]\n",
      "  [0.91468466 0.53301562 0.73521908]\n",
      "  [0.81697192 0.14514894 0.83754249]\n",
      "  [0.66792459 0.2352488  0.6011704 ]\n",
      "  [0.29002278 0.0807057  0.19652895]\n",
      "  [0.07865614 0.1149242  0.62391812]]]\n",
      "Iteration = 12,  Cost = 0.10000000\n",
      "Autograd ArrayBox with value [[[0.973177   0.53886208 0.5262631 ]\n",
      "  [0.09070398 0.6032145  0.44091675]\n",
      "  [0.26652816 0.4369166  0.49253013]\n",
      "  [0.91468466 0.53301562 0.73521908]\n",
      "  [0.81697192 0.14514894 0.83754249]\n",
      "  [0.66792459 0.2352488  0.6011704 ]\n",
      "  [0.29002278 0.0807057  0.19652895]\n",
      "  [0.07865614 0.1149242  0.62391812]]]\n",
      "============\n",
      "['00000000']\n",
      "['00000000']\n",
      "['00000000']\n",
      "['00000000']\n",
      "['00000000']\n",
      "['00000000']\n",
      "['00000000']\n",
      "['00000000']\n",
      "==============\n"
     ]
    },
    {
     "data": {
      "image/jpeg": "[encoded data removed]",
      "image/png": "[encoded data removed]",
      "text/plain": [
       "<PIL.Image.Image image mode=L size=160x160>"
      ]
     },
     "metadata": {},
     "output_type": "display_data"
    },
    {
     "name": "stdout",
     "output_type": "stream",
     "text": [
      "0.1\n",
      "[[[0.973177   0.53886208 0.5262631 ]\n",
      "  [0.09070398 0.6032145  0.44091675]\n",
      "  [0.26652816 0.4369166  0.49253013]\n",
      "  [0.91468466 0.53301562 0.73521908]\n",
      "  [0.81697192 0.14514894 0.83754249]\n",
      "  [0.66792459 0.2352488  0.6011704 ]\n",
      "  [0.29002278 0.0807057  0.19652895]\n",
      "  [0.07865614 0.1149242  0.62391812]]]\n",
      "Iteration = 13,  Cost = 0.10000000\n",
      "Autograd ArrayBox with value [[[0.973177   0.53886208 0.5262631 ]\n",
      "  [0.09070398 0.6032145  0.44091675]\n",
      "  [0.26652816 0.4369166  0.49253013]\n",
      "  [0.91468466 0.53301562 0.73521908]\n",
      "  [0.81697192 0.14514894 0.83754249]\n",
      "  [0.66792459 0.2352488  0.6011704 ]\n",
      "  [0.29002278 0.0807057  0.19652895]\n",
      "  [0.07865614 0.1149242  0.62391812]]]\n",
      "============\n",
      "['00000000']\n",
      "['00000000']\n",
      "['00000000']\n",
      "['00000000']\n",
      "['00000000']\n",
      "['00000000']\n",
      "['00000000']\n",
      "['00000000']\n",
      "==============\n"
     ]
    },
    {
     "data": {
      "image/jpeg": "[encoded data removed]",
      "image/png": "[encoded data removed]",
      "text/plain": [
       "<PIL.Image.Image image mode=L size=160x160>"
      ]
     },
     "metadata": {},
     "output_type": "display_data"
    },
    {
     "name": "stdout",
     "output_type": "stream",
     "text": [
      "0.1\n",
      "[[[0.973177   0.53886208 0.5262631 ]\n",
      "  [0.09070398 0.6032145  0.44091675]\n",
      "  [0.26652816 0.4369166  0.49253013]\n",
      "  [0.91468466 0.53301562 0.73521908]\n",
      "  [0.81697192 0.14514894 0.83754249]\n",
      "  [0.66792459 0.2352488  0.6011704 ]\n",
      "  [0.29002278 0.0807057  0.19652895]\n",
      "  [0.07865614 0.1149242  0.62391812]]]\n",
      "Iteration = 14,  Cost = 0.10000000\n",
      "Autograd ArrayBox with value [[[0.973177   0.53886208 0.5262631 ]\n",
      "  [0.09070398 0.6032145  0.44091675]\n",
      "  [0.26652816 0.4369166  0.49253013]\n",
      "  [0.91468466 0.53301562 0.73521908]\n",
      "  [0.81697192 0.14514894 0.83754249]\n",
      "  [0.66792459 0.2352488  0.6011704 ]\n",
      "  [0.29002278 0.0807057  0.19652895]\n",
      "  [0.07865614 0.1149242  0.62391812]]]\n",
      "============\n",
      "['00000000']\n",
      "['00000000']\n",
      "['00000000']\n",
      "['00000000']\n",
      "['00000000']\n",
      "['00000000']\n",
      "['00000000']\n",
      "['00000000']\n",
      "==============\n"
     ]
    },
    {
     "data": {
      "image/jpeg": "[encoded data removed]",
      "image/png": "[encoded data removed]",
      "text/plain": [
       "<PIL.Image.Image image mode=L size=160x160>"
      ]
     },
     "metadata": {},
     "output_type": "display_data"
    },
    {
     "name": "stdout",
     "output_type": "stream",
     "text": [
      "0.1\n",
      "[[[0.973177   0.53886208 0.5262631 ]\n",
      "  [0.09070398 0.6032145  0.44091675]\n",
      "  [0.26652816 0.4369166  0.49253013]\n",
      "  [0.91468466 0.53301562 0.73521908]\n",
      "  [0.81697192 0.14514894 0.83754249]\n",
      "  [0.66792459 0.2352488  0.6011704 ]\n",
      "  [0.29002278 0.0807057  0.19652895]\n",
      "  [0.07865614 0.1149242  0.62391812]]]\n",
      "Iteration = 15,  Cost = 0.10000000\n",
      "Autograd ArrayBox with value [[[0.973177   0.53886208 0.5262631 ]\n",
      "  [0.09070398 0.6032145  0.44091675]\n",
      "  [0.26652816 0.4369166  0.49253013]\n",
      "  [0.91468466 0.53301562 0.73521908]\n",
      "  [0.81697192 0.14514894 0.83754249]\n",
      "  [0.66792459 0.2352488  0.6011704 ]\n",
      "  [0.29002278 0.0807057  0.19652895]\n",
      "  [0.07865614 0.1149242  0.62391812]]]\n",
      "============\n",
      "['00000000']\n",
      "['00000000']\n",
      "['00000000']\n",
      "['00000000']\n",
      "['00000000']\n",
      "['00000000']\n",
      "['00000000']\n",
      "['00000000']\n",
      "==============\n"
     ]
    },
    {
     "data": {
      "image/jpeg": "[encoded data removed]",
      "image/png": "[encoded data removed]",
      "text/plain": [
       "<PIL.Image.Image image mode=L size=160x160>"
      ]
     },
     "metadata": {},
     "output_type": "display_data"
    },
    {
     "name": "stdout",
     "output_type": "stream",
     "text": [
      "0.1\n",
      "[[[0.973177   0.53886208 0.5262631 ]\n",
      "  [0.09070398 0.6032145  0.44091675]\n",
      "  [0.26652816 0.4369166  0.49253013]\n",
      "  [0.91468466 0.53301562 0.73521908]\n",
      "  [0.81697192 0.14514894 0.83754249]\n",
      "  [0.66792459 0.2352488  0.6011704 ]\n",
      "  [0.29002278 0.0807057  0.19652895]\n",
      "  [0.07865614 0.1149242  0.62391812]]]\n",
      "Iteration = 16,  Cost = 0.10000000\n",
      "Autograd ArrayBox with value [[[0.973177   0.53886208 0.5262631 ]\n",
      "  [0.09070398 0.6032145  0.44091675]\n",
      "  [0.26652816 0.4369166  0.49253013]\n",
      "  [0.91468466 0.53301562 0.73521908]\n",
      "  [0.81697192 0.14514894 0.83754249]\n",
      "  [0.66792459 0.2352488  0.6011704 ]\n",
      "  [0.29002278 0.0807057  0.19652895]\n",
      "  [0.07865614 0.1149242  0.62391812]]]\n",
      "============\n",
      "['00000000']\n",
      "['00000000']\n",
      "['00000000']\n",
      "['00000000']\n",
      "['00000000']\n",
      "['00000000']\n",
      "['00000000']\n",
      "['00000000']\n",
      "==============\n"
     ]
    },
    {
     "data": {
      "image/jpeg": "[encoded data removed]",
      "image/png": "[encoded data removed]",
      "text/plain": [
       "<PIL.Image.Image image mode=L size=160x160>"
      ]
     },
     "metadata": {},
     "output_type": "display_data"
    },
    {
     "name": "stdout",
     "output_type": "stream",
     "text": [
      "0.1\n",
      "[[[0.973177   0.53886208 0.5262631 ]\n",
      "  [0.09070398 0.6032145  0.44091675]\n",
      "  [0.26652816 0.4369166  0.49253013]\n",
      "  [0.91468466 0.53301562 0.73521908]\n",
      "  [0.81697192 0.14514894 0.83754249]\n",
      "  [0.66792459 0.2352488  0.6011704 ]\n",
      "  [0.29002278 0.0807057  0.19652895]\n",
      "  [0.07865614 0.1149242  0.62391812]]]\n",
      "Iteration = 17,  Cost = 0.10000000\n",
      "Autograd ArrayBox with value [[[0.973177   0.53886208 0.5262631 ]\n",
      "  [0.09070398 0.6032145  0.44091675]\n",
      "  [0.26652816 0.4369166  0.49253013]\n",
      "  [0.91468466 0.53301562 0.73521908]\n",
      "  [0.81697192 0.14514894 0.83754249]\n",
      "  [0.66792459 0.2352488  0.6011704 ]\n",
      "  [0.29002278 0.0807057  0.19652895]\n",
      "  [0.07865614 0.1149242  0.62391812]]]\n",
      "============\n",
      "['00000000']\n",
      "['00000000']\n",
      "['00000000']\n",
      "['00000000']\n",
      "['00000000']\n",
      "['00000000']\n",
      "['00000000']\n",
      "['00000000']\n",
      "==============\n"
     ]
    },
    {
     "data": {
      "image/jpeg": "[encoded data removed]",
      "image/png": "[encoded data removed]",
      "text/plain": [
       "<PIL.Image.Image image mode=L size=160x160>"
      ]
     },
     "metadata": {},
     "output_type": "display_data"
    },
    {
     "name": "stdout",
     "output_type": "stream",
     "text": [
      "0.1\n",
      "[[[0.973177   0.53886208 0.5262631 ]\n",
      "  [0.09070398 0.6032145  0.44091675]\n",
      "  [0.26652816 0.4369166  0.49253013]\n",
      "  [0.91468466 0.53301562 0.73521908]\n",
      "  [0.81697192 0.14514894 0.83754249]\n",
      "  [0.66792459 0.2352488  0.6011704 ]\n",
      "  [0.29002278 0.0807057  0.19652895]\n",
      "  [0.07865614 0.1149242  0.62391812]]]\n",
      "Iteration = 18,  Cost = 0.10000000\n",
      "Autograd ArrayBox with value [[[0.973177   0.53886208 0.5262631 ]\n",
      "  [0.09070398 0.6032145  0.44091675]\n",
      "  [0.26652816 0.4369166  0.49253013]\n",
      "  [0.91468466 0.53301562 0.73521908]\n",
      "  [0.81697192 0.14514894 0.83754249]\n",
      "  [0.66792459 0.2352488  0.6011704 ]\n",
      "  [0.29002278 0.0807057  0.19652895]\n",
      "  [0.07865614 0.1149242  0.62391812]]]\n",
      "============\n",
      "['00000000']\n",
      "['00000000']\n",
      "['00000000']\n",
      "['00000000']\n",
      "['00000000']\n",
      "['00000000']\n",
      "['00000000']\n",
      "['00000000']\n",
      "==============\n"
     ]
    },
    {
     "data": {
      "image/jpeg": "[encoded data removed]",
      "image/png": "[encoded data removed]",
      "text/plain": [
       "<PIL.Image.Image image mode=L size=160x160>"
      ]
     },
     "metadata": {},
     "output_type": "display_data"
    },
    {
     "name": "stdout",
     "output_type": "stream",
     "text": [
      "0.1\n",
      "[[[0.973177   0.53886208 0.5262631 ]\n",
      "  [0.09070398 0.6032145  0.44091675]\n",
      "  [0.26652816 0.4369166  0.49253013]\n",
      "  [0.91468466 0.53301562 0.73521908]\n",
      "  [0.81697192 0.14514894 0.83754249]\n",
      "  [0.66792459 0.2352488  0.6011704 ]\n",
      "  [0.29002278 0.0807057  0.19652895]\n",
      "  [0.07865614 0.1149242  0.62391812]]]\n",
      "Iteration = 19,  Cost = 0.10000000\n",
      "Autograd ArrayBox with value [[[0.973177   0.53886208 0.5262631 ]\n",
      "  [0.09070398 0.6032145  0.44091675]\n",
      "  [0.26652816 0.4369166  0.49253013]\n",
      "  [0.91468466 0.53301562 0.73521908]\n",
      "  [0.81697192 0.14514894 0.83754249]\n",
      "  [0.66792459 0.2352488  0.6011704 ]\n",
      "  [0.29002278 0.0807057  0.19652895]\n",
      "  [0.07865614 0.1149242  0.62391812]]]\n",
      "============\n",
      "['00000000']\n",
      "['00000000']\n",
      "['00000000']\n",
      "['00000000']\n",
      "['00000000']\n",
      "['00000000']\n",
      "['00000000']\n",
      "['00000000']\n",
      "==============\n"
     ]
    },
    {
     "data": {
      "image/jpeg": "[encoded data removed]",
      "image/png": "[encoded data removed]",
      "text/plain": [
       "<PIL.Image.Image image mode=L size=160x160>"
      ]
     },
     "metadata": {},
     "output_type": "display_data"
    },
    {
     "name": "stdout",
     "output_type": "stream",
     "text": [
      "0.1\n",
      "[[[0.973177   0.53886208 0.5262631 ]\n",
      "  [0.09070398 0.6032145  0.44091675]\n",
      "  [0.26652816 0.4369166  0.49253013]\n",
      "  [0.91468466 0.53301562 0.73521908]\n",
      "  [0.81697192 0.14514894 0.83754249]\n",
      "  [0.66792459 0.2352488  0.6011704 ]\n",
      "  [0.29002278 0.0807057  0.19652895]\n",
      "  [0.07865614 0.1149242  0.62391812]]]\n",
      "Iteration = 20,  Cost = 0.10000000\n",
      "Autograd ArrayBox with value [[[0.973177   0.53886208 0.5262631 ]\n",
      "  [0.09070398 0.6032145  0.44091675]\n",
      "  [0.26652816 0.4369166  0.49253013]\n",
      "  [0.91468466 0.53301562 0.73521908]\n",
      "  [0.81697192 0.14514894 0.83754249]\n",
      "  [0.66792459 0.2352488  0.6011704 ]\n",
      "  [0.29002278 0.0807057  0.19652895]\n",
      "  [0.07865614 0.1149242  0.62391812]]]\n",
      "============\n",
      "['00000000']\n",
      "['00000000']\n",
      "['00000000']\n",
      "['00000000']\n",
      "['00000000']\n",
      "['00000000']\n",
      "['00000000']\n",
      "['00000000']\n",
      "==============\n"
     ]
    },
    {
     "data": {
      "image/jpeg": "[encoded data removed]",
      "image/png": "[encoded data removed]",
      "text/plain": [
       "<PIL.Image.Image image mode=L size=160x160>"
      ]
     },
     "metadata": {},
     "output_type": "display_data"
    },
    {
     "name": "stdout",
     "output_type": "stream",
     "text": [
      "0.1\n",
      "[[[0.973177   0.53886208 0.5262631 ]\n",
      "  [0.09070398 0.6032145  0.44091675]\n",
      "  [0.26652816 0.4369166  0.49253013]\n",
      "  [0.91468466 0.53301562 0.73521908]\n",
      "  [0.81697192 0.14514894 0.83754249]\n",
      "  [0.66792459 0.2352488  0.6011704 ]\n",
      "  [0.29002278 0.0807057  0.19652895]\n",
      "  [0.07865614 0.1149242  0.62391812]]]\n",
      "Iteration = 21,  Cost = 0.10000000\n",
      "Autograd ArrayBox with value [[[0.973177   0.53886208 0.5262631 ]\n",
      "  [0.09070398 0.6032145  0.44091675]\n",
      "  [0.26652816 0.4369166  0.49253013]\n",
      "  [0.91468466 0.53301562 0.73521908]\n",
      "  [0.81697192 0.14514894 0.83754249]\n",
      "  [0.66792459 0.2352488  0.6011704 ]\n",
      "  [0.29002278 0.0807057  0.19652895]\n",
      "  [0.07865614 0.1149242  0.62391812]]]\n",
      "============\n",
      "['00000000']\n",
      "['00000000']\n",
      "['00000000']\n",
      "['00000000']\n",
      "['00000000']\n",
      "['00000000']\n",
      "['00000000']\n",
      "['00000000']\n",
      "==============\n"
     ]
    },
    {
     "data": {
      "image/jpeg": "[encoded data removed]",
      "image/png": "[encoded data removed]",
      "text/plain": [
       "<PIL.Image.Image image mode=L size=160x160>"
      ]
     },
     "metadata": {},
     "output_type": "display_data"
    },
    {
     "name": "stdout",
     "output_type": "stream",
     "text": [
      "0.1\n",
      "[[[0.973177   0.53886208 0.5262631 ]\n",
      "  [0.09070398 0.6032145  0.44091675]\n",
      "  [0.26652816 0.4369166  0.49253013]\n",
      "  [0.91468466 0.53301562 0.73521908]\n",
      "  [0.81697192 0.14514894 0.83754249]\n",
      "  [0.66792459 0.2352488  0.6011704 ]\n",
      "  [0.29002278 0.0807057  0.19652895]\n",
      "  [0.07865614 0.1149242  0.62391812]]]\n",
      "Iteration = 22,  Cost = 0.10000000\n",
      "Autograd ArrayBox with value [[[0.973177   0.53886208 0.5262631 ]\n",
      "  [0.09070398 0.6032145  0.44091675]\n",
      "  [0.26652816 0.4369166  0.49253013]\n",
      "  [0.91468466 0.53301562 0.73521908]\n",
      "  [0.81697192 0.14514894 0.83754249]\n",
      "  [0.66792459 0.2352488  0.6011704 ]\n",
      "  [0.29002278 0.0807057  0.19652895]\n",
      "  [0.07865614 0.1149242  0.62391812]]]\n",
      "============\n",
      "['00000000']\n",
      "['00000000']\n",
      "['00000000']\n",
      "['00000000']\n",
      "['00000000']\n",
      "['00000000']\n",
      "['00000000']\n",
      "['00000000']\n",
      "==============\n"
     ]
    },
    {
     "data": {
      "image/jpeg": "[encoded data removed]",
      "image/png": "[encoded data removed]",
      "text/plain": [
       "<PIL.Image.Image image mode=L size=160x160>"
      ]
     },
     "metadata": {},
     "output_type": "display_data"
    },
    {
     "name": "stdout",
     "output_type": "stream",
     "text": [
      "0.1\n",
      "[[[0.973177   0.53886208 0.5262631 ]\n",
      "  [0.09070398 0.6032145  0.44091675]\n",
      "  [0.26652816 0.4369166  0.49253013]\n",
      "  [0.91468466 0.53301562 0.73521908]\n",
      "  [0.81697192 0.14514894 0.83754249]\n",
      "  [0.66792459 0.2352488  0.6011704 ]\n",
      "  [0.29002278 0.0807057  0.19652895]\n",
      "  [0.07865614 0.1149242  0.62391812]]]\n",
      "Iteration = 23,  Cost = 0.10000000\n",
      "Autograd ArrayBox with value [[[0.973177   0.53886208 0.5262631 ]\n",
      "  [0.09070398 0.6032145  0.44091675]\n",
      "  [0.26652816 0.4369166  0.49253013]\n",
      "  [0.91468466 0.53301562 0.73521908]\n",
      "  [0.81697192 0.14514894 0.83754249]\n",
      "  [0.66792459 0.2352488  0.6011704 ]\n",
      "  [0.29002278 0.0807057  0.19652895]\n",
      "  [0.07865614 0.1149242  0.62391812]]]\n",
      "============\n",
      "['00000000']\n",
      "['00000000']\n",
      "['00000000']\n",
      "['00000000']\n",
      "['00000000']\n",
      "['00000000']\n",
      "['00000000']\n",
      "['00000000']\n",
      "==============\n"
     ]
    },
    {
     "data": {
      "image/jpeg": "[encoded data removed]",
      "image/png": "[encoded data removed]",
      "text/plain": [
       "<PIL.Image.Image image mode=L size=160x160>"
      ]
     },
     "metadata": {},
     "output_type": "display_data"
    },
    {
     "name": "stdout",
     "output_type": "stream",
     "text": [
      "0.1\n",
      "[[[0.973177   0.53886208 0.5262631 ]\n",
      "  [0.09070398 0.6032145  0.44091675]\n",
      "  [0.26652816 0.4369166  0.49253013]\n",
      "  [0.91468466 0.53301562 0.73521908]\n",
      "  [0.81697192 0.14514894 0.83754249]\n",
      "  [0.66792459 0.2352488  0.6011704 ]\n",
      "  [0.29002278 0.0807057  0.19652895]\n",
      "  [0.07865614 0.1149242  0.62391812]]]\n",
      "Iteration = 24,  Cost = 0.10000000\n",
      "Autograd ArrayBox with value [[[0.973177   0.53886208 0.5262631 ]\n",
      "  [0.09070398 0.6032145  0.44091675]\n",
      "  [0.26652816 0.4369166  0.49253013]\n",
      "  [0.91468466 0.53301562 0.73521908]\n",
      "  [0.81697192 0.14514894 0.83754249]\n",
      "  [0.66792459 0.2352488  0.6011704 ]\n",
      "  [0.29002278 0.0807057  0.19652895]\n",
      "  [0.07865614 0.1149242  0.62391812]]]\n",
      "============\n",
      "['00000000']\n",
      "['00000000']\n",
      "['00000000']\n",
      "['00000000']\n",
      "['00000000']\n",
      "['00000000']\n",
      "['00000000']\n",
      "['00000000']\n",
      "==============\n"
     ]
    },
    {
     "data": {
      "image/jpeg": "[encoded data removed]",
      "image/png": "[encoded data removed]",
      "text/plain": [
       "<PIL.Image.Image image mode=L size=160x160>"
      ]
     },
     "metadata": {},
     "output_type": "display_data"
    },
    {
     "name": "stdout",
     "output_type": "stream",
     "text": [
      "0.1\n",
      "[[[0.973177   0.53886208 0.5262631 ]\n",
      "  [0.09070398 0.6032145  0.44091675]\n",
      "  [0.26652816 0.4369166  0.49253013]\n",
      "  [0.91468466 0.53301562 0.73521908]\n",
      "  [0.81697192 0.14514894 0.83754249]\n",
      "  [0.66792459 0.2352488  0.6011704 ]\n",
      "  [0.29002278 0.0807057  0.19652895]\n",
      "  [0.07865614 0.1149242  0.62391812]]]\n",
      "Iteration = 25,  Cost = 0.10000000\n",
      "Autograd ArrayBox with value [[[0.973177   0.53886208 0.5262631 ]\n",
      "  [0.09070398 0.6032145  0.44091675]\n",
      "  [0.26652816 0.4369166  0.49253013]\n",
      "  [0.91468466 0.53301562 0.73521908]\n",
      "  [0.81697192 0.14514894 0.83754249]\n",
      "  [0.66792459 0.2352488  0.6011704 ]\n",
      "  [0.29002278 0.0807057  0.19652895]\n",
      "  [0.07865614 0.1149242  0.62391812]]]\n",
      "============\n",
      "['00000000']\n",
      "['00000000']\n",
      "['00000000']\n",
      "['00000000']\n",
      "['00000000']\n",
      "['00000000']\n",
      "['00000000']\n",
      "['00000000']\n",
      "==============\n"
     ]
    },
    {
     "data": {
      "image/jpeg": "[encoded data removed]",
      "image/png": "[encoded data removed]",
      "text/plain": [
       "<PIL.Image.Image image mode=L size=160x160>"
      ]
     },
     "metadata": {},
     "output_type": "display_data"
    },
    {
     "name": "stdout",
     "output_type": "stream",
     "text": [
      "0.1\n",
      "[[[0.973177   0.53886208 0.5262631 ]\n",
      "  [0.09070398 0.6032145  0.44091675]\n",
      "  [0.26652816 0.4369166  0.49253013]\n",
      "  [0.91468466 0.53301562 0.73521908]\n",
      "  [0.81697192 0.14514894 0.83754249]\n",
      "  [0.66792459 0.2352488  0.6011704 ]\n",
      "  [0.29002278 0.0807057  0.19652895]\n",
      "  [0.07865614 0.1149242  0.62391812]]]\n",
      "Iteration = 26,  Cost = 0.10000000\n",
      "Autograd ArrayBox with value [[[0.973177   0.53886208 0.5262631 ]\n",
      "  [0.09070398 0.6032145  0.44091675]\n",
      "  [0.26652816 0.4369166  0.49253013]\n",
      "  [0.91468466 0.53301562 0.73521908]\n",
      "  [0.81697192 0.14514894 0.83754249]\n",
      "  [0.66792459 0.2352488  0.6011704 ]\n",
      "  [0.29002278 0.0807057  0.19652895]\n",
      "  [0.07865614 0.1149242  0.62391812]]]\n",
      "============\n",
      "['00000000']\n",
      "['00000000']\n",
      "['00000000']\n",
      "['00000000']\n",
      "['00000000']\n",
      "['00000000']\n",
      "['00000000']\n",
      "['00000000']\n",
      "==============\n"
     ]
    },
    {
     "data": {
      "image/jpeg": "[encoded data removed]",
      "image/png": "[encoded data removed]",
      "text/plain": [
       "<PIL.Image.Image image mode=L size=160x160>"
      ]
     },
     "metadata": {},
     "output_type": "display_data"
    },
    {
     "name": "stdout",
     "output_type": "stream",
     "text": [
      "0.1\n",
      "[[[0.973177   0.53886208 0.5262631 ]\n",
      "  [0.09070398 0.6032145  0.44091675]\n",
      "  [0.26652816 0.4369166  0.49253013]\n",
      "  [0.91468466 0.53301562 0.73521908]\n",
      "  [0.81697192 0.14514894 0.83754249]\n",
      "  [0.66792459 0.2352488  0.6011704 ]\n",
      "  [0.29002278 0.0807057  0.19652895]\n",
      "  [0.07865614 0.1149242  0.62391812]]]\n",
      "Iteration = 27,  Cost = 0.10000000\n",
      "Autograd ArrayBox with value [[[0.973177   0.53886208 0.5262631 ]\n",
      "  [0.09070398 0.6032145  0.44091675]\n",
      "  [0.26652816 0.4369166  0.49253013]\n",
      "  [0.91468466 0.53301562 0.73521908]\n",
      "  [0.81697192 0.14514894 0.83754249]\n",
      "  [0.66792459 0.2352488  0.6011704 ]\n",
      "  [0.29002278 0.0807057  0.19652895]\n",
      "  [0.07865614 0.1149242  0.62391812]]]\n",
      "============\n",
      "['00000000']\n",
      "['00000000']\n",
      "['00000000']\n",
      "['00000000']\n",
      "['00000000']\n",
      "['00000000']\n",
      "['00000000']\n",
      "['00000000']\n",
      "==============\n"
     ]
    },
    {
     "data": {
      "image/jpeg": "[encoded data removed]",
      "image/png": "[encoded data removed]",
      "text/plain": [
       "<PIL.Image.Image image mode=L size=160x160>"
      ]
     },
     "metadata": {},
     "output_type": "display_data"
    },
    {
     "name": "stdout",
     "output_type": "stream",
     "text": [
      "0.1\n",
      "[[[0.973177   0.53886208 0.5262631 ]\n",
      "  [0.09070398 0.6032145  0.44091675]\n",
      "  [0.26652816 0.4369166  0.49253013]\n",
      "  [0.91468466 0.53301562 0.73521908]\n",
      "  [0.81697192 0.14514894 0.83754249]\n",
      "  [0.66792459 0.2352488  0.6011704 ]\n",
      "  [0.29002278 0.0807057  0.19652895]\n",
      "  [0.07865614 0.1149242  0.62391812]]]\n",
      "Iteration = 28,  Cost = 0.10000000\n",
      "Autograd ArrayBox with value [[[0.973177   0.53886208 0.5262631 ]\n",
      "  [0.09070398 0.6032145  0.44091675]\n",
      "  [0.26652816 0.4369166  0.49253013]\n",
      "  [0.91468466 0.53301562 0.73521908]\n",
      "  [0.81697192 0.14514894 0.83754249]\n",
      "  [0.66792459 0.2352488  0.6011704 ]\n",
      "  [0.29002278 0.0807057  0.19652895]\n",
      "  [0.07865614 0.1149242  0.62391812]]]\n",
      "============\n",
      "['00000000']\n",
      "['00000000']\n",
      "['00000000']\n",
      "['00000000']\n",
      "['00000000']\n",
      "['00000000']\n",
      "['00000000']\n",
      "['00000000']\n",
      "==============\n"
     ]
    },
    {
     "data": {
      "image/jpeg": "[encoded data removed]",
      "image/png": "[encoded data removed]",
      "text/plain": [
       "<PIL.Image.Image image mode=L size=160x160>"
      ]
     },
     "metadata": {},
     "output_type": "display_data"
    },
    {
     "name": "stdout",
     "output_type": "stream",
     "text": [
      "0.1\n",
      "[[[0.973177   0.53886208 0.5262631 ]\n",
      "  [0.09070398 0.6032145  0.44091675]\n",
      "  [0.26652816 0.4369166  0.49253013]\n",
      "  [0.91468466 0.53301562 0.73521908]\n",
      "  [0.81697192 0.14514894 0.83754249]\n",
      "  [0.66792459 0.2352488  0.6011704 ]\n",
      "  [0.29002278 0.0807057  0.19652895]\n",
      "  [0.07865614 0.1149242  0.62391812]]]\n",
      "Iteration = 29,  Cost = 0.10000000\n",
      "Autograd ArrayBox with value [[[0.973177   0.53886208 0.5262631 ]\n",
      "  [0.09070398 0.6032145  0.44091675]\n",
      "  [0.26652816 0.4369166  0.49253013]\n",
      "  [0.91468466 0.53301562 0.73521908]\n",
      "  [0.81697192 0.14514894 0.83754249]\n",
      "  [0.66792459 0.2352488  0.6011704 ]\n",
      "  [0.29002278 0.0807057  0.19652895]\n",
      "  [0.07865614 0.1149242  0.62391812]]]\n",
      "============\n",
      "['00000000']\n",
      "['00000000']\n",
      "['00000000']\n",
      "['00000000']\n",
      "['00000000']\n",
      "['00000000']\n",
      "['00000000']\n",
      "['00000000']\n",
      "==============\n"
     ]
    },
    {
     "data": {
      "image/jpeg": "[encoded data removed]",
      "image/png": "[encoded data removed]",
      "text/plain": [
       "<PIL.Image.Image image mode=L size=160x160>"
      ]
     },
     "metadata": {},
     "output_type": "display_data"
    },
    {
     "name": "stdout",
     "output_type": "stream",
     "text": [
      "0.1\n",
      "[[[0.973177   0.53886208 0.5262631 ]\n",
      "  [0.09070398 0.6032145  0.44091675]\n",
      "  [0.26652816 0.4369166  0.49253013]\n",
      "  [0.91468466 0.53301562 0.73521908]\n",
      "  [0.81697192 0.14514894 0.83754249]\n",
      "  [0.66792459 0.2352488  0.6011704 ]\n",
      "  [0.29002278 0.0807057  0.19652895]\n",
      "  [0.07865614 0.1149242  0.62391812]]]\n",
      "Iteration = 30,  Cost = 0.10000000\n",
      "Autograd ArrayBox with value [[[0.973177   0.53886208 0.5262631 ]\n",
      "  [0.09070398 0.6032145  0.44091675]\n",
      "  [0.26652816 0.4369166  0.49253013]\n",
      "  [0.91468466 0.53301562 0.73521908]\n",
      "  [0.81697192 0.14514894 0.83754249]\n",
      "  [0.66792459 0.2352488  0.6011704 ]\n",
      "  [0.29002278 0.0807057  0.19652895]\n",
      "  [0.07865614 0.1149242  0.62391812]]]\n",
      "============\n",
      "['00000000']\n",
      "['00000000']\n",
      "['00000000']\n",
      "['00000000']\n",
      "['00000000']\n",
      "['00000000']\n",
      "['00000000']\n",
      "['00000000']\n",
      "==============\n"
     ]
    },
    {
     "data": {
      "image/jpeg": "[encoded data removed]",
      "image/png": "[encoded data removed]",
      "text/plain": [
       "<PIL.Image.Image image mode=L size=160x160>"
      ]
     },
     "metadata": {},
     "output_type": "display_data"
    },
    {
     "name": "stdout",
     "output_type": "stream",
     "text": [
      "0.1\n",
      "[[[0.973177   0.53886208 0.5262631 ]\n",
      "  [0.09070398 0.6032145  0.44091675]\n",
      "  [0.26652816 0.4369166  0.49253013]\n",
      "  [0.91468466 0.53301562 0.73521908]\n",
      "  [0.81697192 0.14514894 0.83754249]\n",
      "  [0.66792459 0.2352488  0.6011704 ]\n",
      "  [0.29002278 0.0807057  0.19652895]\n",
      "  [0.07865614 0.1149242  0.62391812]]]\n",
      "Iteration = 31,  Cost = 0.10000000\n",
      "Autograd ArrayBox with value [[[0.973177   0.53886208 0.5262631 ]\n",
      "  [0.09070398 0.6032145  0.44091675]\n",
      "  [0.26652816 0.4369166  0.49253013]\n",
      "  [0.91468466 0.53301562 0.73521908]\n",
      "  [0.81697192 0.14514894 0.83754249]\n",
      "  [0.66792459 0.2352488  0.6011704 ]\n",
      "  [0.29002278 0.0807057  0.19652895]\n",
      "  [0.07865614 0.1149242  0.62391812]]]\n",
      "============\n",
      "['00000000']\n",
      "['00000000']\n",
      "['00000000']\n",
      "['00000000']\n",
      "['00000000']\n",
      "['00000000']\n",
      "['00000000']\n",
      "['00000000']\n",
      "==============\n"
     ]
    },
    {
     "data": {
      "image/jpeg": "[encoded data removed]",
      "image/png": "[encoded data removed]",
      "text/plain": [
       "<PIL.Image.Image image mode=L size=160x160>"
      ]
     },
     "metadata": {},
     "output_type": "display_data"
    },
    {
     "name": "stdout",
     "output_type": "stream",
     "text": [
      "0.1\n",
      "[[[0.973177   0.53886208 0.5262631 ]\n",
      "  [0.09070398 0.6032145  0.44091675]\n",
      "  [0.26652816 0.4369166  0.49253013]\n",
      "  [0.91468466 0.53301562 0.73521908]\n",
      "  [0.81697192 0.14514894 0.83754249]\n",
      "  [0.66792459 0.2352488  0.6011704 ]\n",
      "  [0.29002278 0.0807057  0.19652895]\n",
      "  [0.07865614 0.1149242  0.62391812]]]\n",
      "Iteration = 32,  Cost = 0.10000000\n",
      "Autograd ArrayBox with value [[[0.973177   0.53886208 0.5262631 ]\n",
      "  [0.09070398 0.6032145  0.44091675]\n",
      "  [0.26652816 0.4369166  0.49253013]\n",
      "  [0.91468466 0.53301562 0.73521908]\n",
      "  [0.81697192 0.14514894 0.83754249]\n",
      "  [0.66792459 0.2352488  0.6011704 ]\n",
      "  [0.29002278 0.0807057  0.19652895]\n",
      "  [0.07865614 0.1149242  0.62391812]]]\n",
      "============\n",
      "['00000000']\n",
      "['00000000']\n",
      "['00000000']\n",
      "['00000000']\n",
      "['00000000']\n",
      "['00000000']\n",
      "['00000000']\n",
      "['00000000']\n",
      "==============\n"
     ]
    },
    {
     "data": {
      "image/jpeg": "[encoded data removed]",
      "image/png": "[encoded data removed]",
      "text/plain": [
       "<PIL.Image.Image image mode=L size=160x160>"
      ]
     },
     "metadata": {},
     "output_type": "display_data"
    },
    {
     "name": "stdout",
     "output_type": "stream",
     "text": [
      "0.1\n",
      "[[[0.973177   0.53886208 0.5262631 ]\n",
      "  [0.09070398 0.6032145  0.44091675]\n",
      "  [0.26652816 0.4369166  0.49253013]\n",
      "  [0.91468466 0.53301562 0.73521908]\n",
      "  [0.81697192 0.14514894 0.83754249]\n",
      "  [0.66792459 0.2352488  0.6011704 ]\n",
      "  [0.29002278 0.0807057  0.19652895]\n",
      "  [0.07865614 0.1149242  0.62391812]]]\n",
      "Iteration = 33,  Cost = 0.10000000\n",
      "Autograd ArrayBox with value [[[0.973177   0.53886208 0.5262631 ]\n",
      "  [0.09070398 0.6032145  0.44091675]\n",
      "  [0.26652816 0.4369166  0.49253013]\n",
      "  [0.91468466 0.53301562 0.73521908]\n",
      "  [0.81697192 0.14514894 0.83754249]\n",
      "  [0.66792459 0.2352488  0.6011704 ]\n",
      "  [0.29002278 0.0807057  0.19652895]\n",
      "  [0.07865614 0.1149242  0.62391812]]]\n",
      "============\n",
      "['00000000']\n",
      "['00000000']\n",
      "['00000000']\n",
      "['00000000']\n",
      "['00000000']\n",
      "['00000000']\n",
      "['00000000']\n",
      "['00000000']\n",
      "==============\n"
     ]
    },
    {
     "data": {
      "image/jpeg": "[encoded data removed]",
      "image/png": "[encoded data removed]",
      "text/plain": [
       "<PIL.Image.Image image mode=L size=160x160>"
      ]
     },
     "metadata": {},
     "output_type": "display_data"
    },
    {
     "name": "stdout",
     "output_type": "stream",
     "text": [
      "0.1\n",
      "[[[0.973177   0.53886208 0.5262631 ]\n",
      "  [0.09070398 0.6032145  0.44091675]\n",
      "  [0.26652816 0.4369166  0.49253013]\n",
      "  [0.91468466 0.53301562 0.73521908]\n",
      "  [0.81697192 0.14514894 0.83754249]\n",
      "  [0.66792459 0.2352488  0.6011704 ]\n",
      "  [0.29002278 0.0807057  0.19652895]\n",
      "  [0.07865614 0.1149242  0.62391812]]]\n",
      "Iteration = 34,  Cost = 0.10000000\n",
      "Autograd ArrayBox with value [[[0.973177   0.53886208 0.5262631 ]\n",
      "  [0.09070398 0.6032145  0.44091675]\n",
      "  [0.26652816 0.4369166  0.49253013]\n",
      "  [0.91468466 0.53301562 0.73521908]\n",
      "  [0.81697192 0.14514894 0.83754249]\n",
      "  [0.66792459 0.2352488  0.6011704 ]\n",
      "  [0.29002278 0.0807057  0.19652895]\n",
      "  [0.07865614 0.1149242  0.62391812]]]\n",
      "============\n",
      "['00000000']\n",
      "['00000000']\n",
      "['00000000']\n",
      "['00000000']\n",
      "['00000000']\n",
      "['00000000']\n",
      "['00000000']\n",
      "['00000000']\n",
      "==============\n"
     ]
    },
    {
     "data": {
      "image/jpeg": "[encoded data removed]",
      "image/png": "[encoded data removed]",
      "text/plain": [
       "<PIL.Image.Image image mode=L size=160x160>"
      ]
     },
     "metadata": {},
     "output_type": "display_data"
    },
    {
     "name": "stdout",
     "output_type": "stream",
     "text": [
      "0.1\n",
      "[[[0.973177   0.53886208 0.5262631 ]\n",
      "  [0.09070398 0.6032145  0.44091675]\n",
      "  [0.26652816 0.4369166  0.49253013]\n",
      "  [0.91468466 0.53301562 0.73521908]\n",
      "  [0.81697192 0.14514894 0.83754249]\n",
      "  [0.66792459 0.2352488  0.6011704 ]\n",
      "  [0.29002278 0.0807057  0.19652895]\n",
      "  [0.07865614 0.1149242  0.62391812]]]\n",
      "Iteration = 35,  Cost = 0.10000000\n",
      "Autograd ArrayBox with value [[[0.973177   0.53886208 0.5262631 ]\n",
      "  [0.09070398 0.6032145  0.44091675]\n",
      "  [0.26652816 0.4369166  0.49253013]\n",
      "  [0.91468466 0.53301562 0.73521908]\n",
      "  [0.81697192 0.14514894 0.83754249]\n",
      "  [0.66792459 0.2352488  0.6011704 ]\n",
      "  [0.29002278 0.0807057  0.19652895]\n",
      "  [0.07865614 0.1149242  0.62391812]]]\n",
      "============\n",
      "['00000000']\n",
      "['00000000']\n",
      "['00000000']\n",
      "['00000000']\n",
      "['00000000']\n",
      "['00000000']\n",
      "['00000000']\n",
      "['00000000']\n",
      "==============\n"
     ]
    },
    {
     "data": {
      "image/jpeg": "[encoded data removed]",
      "image/png": "[encoded data removed]",
      "text/plain": [
       "<PIL.Image.Image image mode=L size=160x160>"
      ]
     },
     "metadata": {},
     "output_type": "display_data"
    },
    {
     "name": "stdout",
     "output_type": "stream",
     "text": [
      "0.1\n",
      "[[[0.973177   0.53886208 0.5262631 ]\n",
      "  [0.09070398 0.6032145  0.44091675]\n",
      "  [0.26652816 0.4369166  0.49253013]\n",
      "  [0.91468466 0.53301562 0.73521908]\n",
      "  [0.81697192 0.14514894 0.83754249]\n",
      "  [0.66792459 0.2352488  0.6011704 ]\n",
      "  [0.29002278 0.0807057  0.19652895]\n",
      "  [0.07865614 0.1149242  0.62391812]]]\n",
      "Iteration = 36,  Cost = 0.10000000\n",
      "Autograd ArrayBox with value [[[0.973177   0.53886208 0.5262631 ]\n",
      "  [0.09070398 0.6032145  0.44091675]\n",
      "  [0.26652816 0.4369166  0.49253013]\n",
      "  [0.91468466 0.53301562 0.73521908]\n",
      "  [0.81697192 0.14514894 0.83754249]\n",
      "  [0.66792459 0.2352488  0.6011704 ]\n",
      "  [0.29002278 0.0807057  0.19652895]\n",
      "  [0.07865614 0.1149242  0.62391812]]]\n",
      "============\n",
      "['00000000']\n",
      "['00000000']\n",
      "['00000000']\n",
      "['00000000']\n",
      "['00000000']\n",
      "['00000000']\n",
      "['00000000']\n",
      "['00000000']\n",
      "==============\n"
     ]
    },
    {
     "data": {
      "image/jpeg": "[encoded data removed]",
      "image/png": "[encoded data removed]",
      "text/plain": [
       "<PIL.Image.Image image mode=L size=160x160>"
      ]
     },
     "metadata": {},
     "output_type": "display_data"
    },
    {
     "name": "stdout",
     "output_type": "stream",
     "text": [
      "0.1\n",
      "[[[0.973177   0.53886208 0.5262631 ]\n",
      "  [0.09070398 0.6032145  0.44091675]\n",
      "  [0.26652816 0.4369166  0.49253013]\n",
      "  [0.91468466 0.53301562 0.73521908]\n",
      "  [0.81697192 0.14514894 0.83754249]\n",
      "  [0.66792459 0.2352488  0.6011704 ]\n",
      "  [0.29002278 0.0807057  0.19652895]\n",
      "  [0.07865614 0.1149242  0.62391812]]]\n",
      "Iteration = 37,  Cost = 0.10000000\n",
      "Autograd ArrayBox with value [[[0.973177   0.53886208 0.5262631 ]\n",
      "  [0.09070398 0.6032145  0.44091675]\n",
      "  [0.26652816 0.4369166  0.49253013]\n",
      "  [0.91468466 0.53301562 0.73521908]\n",
      "  [0.81697192 0.14514894 0.83754249]\n",
      "  [0.66792459 0.2352488  0.6011704 ]\n",
      "  [0.29002278 0.0807057  0.19652895]\n",
      "  [0.07865614 0.1149242  0.62391812]]]\n",
      "============\n",
      "['00000000']\n",
      "['00000000']\n",
      "['00000000']\n",
      "['00000000']\n",
      "['00000000']\n",
      "['00000000']\n",
      "['00000000']\n",
      "['00000000']\n",
      "==============\n"
     ]
    },
    {
     "data": {
      "image/jpeg": "[encoded data removed]",
      "image/png": "[encoded data removed]",
      "text/plain": [
       "<PIL.Image.Image image mode=L size=160x160>"
      ]
     },
     "metadata": {},
     "output_type": "display_data"
    },
    {
     "name": "stdout",
     "output_type": "stream",
     "text": [
      "0.1\n",
      "[[[0.973177   0.53886208 0.5262631 ]\n",
      "  [0.09070398 0.6032145  0.44091675]\n",
      "  [0.26652816 0.4369166  0.49253013]\n",
      "  [0.91468466 0.53301562 0.73521908]\n",
      "  [0.81697192 0.14514894 0.83754249]\n",
      "  [0.66792459 0.2352488  0.6011704 ]\n",
      "  [0.29002278 0.0807057  0.19652895]\n",
      "  [0.07865614 0.1149242  0.62391812]]]\n",
      "Iteration = 38,  Cost = 0.10000000\n",
      "Autograd ArrayBox with value [[[0.973177   0.53886208 0.5262631 ]\n",
      "  [0.09070398 0.6032145  0.44091675]\n",
      "  [0.26652816 0.4369166  0.49253013]\n",
      "  [0.91468466 0.53301562 0.73521908]\n",
      "  [0.81697192 0.14514894 0.83754249]\n",
      "  [0.66792459 0.2352488  0.6011704 ]\n",
      "  [0.29002278 0.0807057  0.19652895]\n",
      "  [0.07865614 0.1149242  0.62391812]]]\n",
      "============\n",
      "['00000000']\n",
      "['00000000']\n",
      "['00000000']\n",
      "['00000000']\n",
      "['00000000']\n",
      "['00000000']\n",
      "['00000000']\n",
      "['00000000']\n",
      "==============\n"
     ]
    },
    {
     "data": {
      "image/jpeg": "[encoded data removed]",
      "image/png": "[encoded data removed]",
      "text/plain": [
       "<PIL.Image.Image image mode=L size=160x160>"
      ]
     },
     "metadata": {},
     "output_type": "display_data"
    },
    {
     "name": "stdout",
     "output_type": "stream",
     "text": [
      "0.1\n",
      "[[[0.973177   0.53886208 0.5262631 ]\n",
      "  [0.09070398 0.6032145  0.44091675]\n",
      "  [0.26652816 0.4369166  0.49253013]\n",
      "  [0.91468466 0.53301562 0.73521908]\n",
      "  [0.81697192 0.14514894 0.83754249]\n",
      "  [0.66792459 0.2352488  0.6011704 ]\n",
      "  [0.29002278 0.0807057  0.19652895]\n",
      "  [0.07865614 0.1149242  0.62391812]]]\n",
      "Iteration = 39,  Cost = 0.10000000\n",
      "Autograd ArrayBox with value [[[0.973177   0.53886208 0.5262631 ]\n",
      "  [0.09070398 0.6032145  0.44091675]\n",
      "  [0.26652816 0.4369166  0.49253013]\n",
      "  [0.91468466 0.53301562 0.73521908]\n",
      "  [0.81697192 0.14514894 0.83754249]\n",
      "  [0.66792459 0.2352488  0.6011704 ]\n",
      "  [0.29002278 0.0807057  0.19652895]\n",
      "  [0.07865614 0.1149242  0.62391812]]]\n",
      "============\n",
      "['00000000']\n",
      "['00000000']\n",
      "['00000000']\n",
      "['00000000']\n",
      "['00000000']\n",
      "['00000000']\n",
      "['00000000']\n",
      "['00000000']\n",
      "==============\n"
     ]
    },
    {
     "data": {
      "image/jpeg": "[encoded data removed]",
      "image/png": "[encoded data removed]",
      "text/plain": [
       "<PIL.Image.Image image mode=L size=160x160>"
      ]
     },
     "metadata": {},
     "output_type": "display_data"
    },
    {
     "name": "stdout",
     "output_type": "stream",
     "text": [
      "0.1\n",
      "[[[0.973177   0.53886208 0.5262631 ]\n",
      "  [0.09070398 0.6032145  0.44091675]\n",
      "  [0.26652816 0.4369166  0.49253013]\n",
      "  [0.91468466 0.53301562 0.73521908]\n",
      "  [0.81697192 0.14514894 0.83754249]\n",
      "  [0.66792459 0.2352488  0.6011704 ]\n",
      "  [0.29002278 0.0807057  0.19652895]\n",
      "  [0.07865614 0.1149242  0.62391812]]]\n",
      "Iteration = 40,  Cost = 0.10000000\n",
      "Autograd ArrayBox with value [[[0.973177   0.53886208 0.5262631 ]\n",
      "  [0.09070398 0.6032145  0.44091675]\n",
      "  [0.26652816 0.4369166  0.49253013]\n",
      "  [0.91468466 0.53301562 0.73521908]\n",
      "  [0.81697192 0.14514894 0.83754249]\n",
      "  [0.66792459 0.2352488  0.6011704 ]\n",
      "  [0.29002278 0.0807057  0.19652895]\n",
      "  [0.07865614 0.1149242  0.62391812]]]\n",
      "============\n",
      "['00000000']\n",
      "['00000000']\n",
      "['00000000']\n",
      "['00000000']\n",
      "['00000000']\n",
      "['00000000']\n",
      "['00000000']\n",
      "['00000000']\n",
      "==============\n"
     ]
    },
    {
     "data": {
      "image/jpeg": "[encoded data removed]",
      "image/png": "[encoded data removed]",
      "text/plain": [
       "<PIL.Image.Image image mode=L size=160x160>"
      ]
     },
     "metadata": {},
     "output_type": "display_data"
    },
    {
     "name": "stdout",
     "output_type": "stream",
     "text": [
      "0.1\n",
      "[[[0.973177   0.53886208 0.5262631 ]\n",
      "  [0.09070398 0.6032145  0.44091675]\n",
      "  [0.26652816 0.4369166  0.49253013]\n",
      "  [0.91468466 0.53301562 0.73521908]\n",
      "  [0.81697192 0.14514894 0.83754249]\n",
      "  [0.66792459 0.2352488  0.6011704 ]\n",
      "  [0.29002278 0.0807057  0.19652895]\n",
      "  [0.07865614 0.1149242  0.62391812]]]\n",
      "Iteration = 41,  Cost = 0.10000000\n",
      "Autograd ArrayBox with value [[[0.973177   0.53886208 0.5262631 ]\n",
      "  [0.09070398 0.6032145  0.44091675]\n",
      "  [0.26652816 0.4369166  0.49253013]\n",
      "  [0.91468466 0.53301562 0.73521908]\n",
      "  [0.81697192 0.14514894 0.83754249]\n",
      "  [0.66792459 0.2352488  0.6011704 ]\n",
      "  [0.29002278 0.0807057  0.19652895]\n",
      "  [0.07865614 0.1149242  0.62391812]]]\n",
      "============\n",
      "['00000000']\n",
      "['00000000']\n",
      "['00000000']\n",
      "['00000000']\n",
      "['00000000']\n",
      "['00000000']\n",
      "['00000000']\n",
      "['00000000']\n",
      "==============\n"
     ]
    },
    {
     "data": {
      "image/jpeg": "[encoded data removed]",
      "image/png": "[encoded data removed]",
      "text/plain": [
       "<PIL.Image.Image image mode=L size=160x160>"
      ]
     },
     "metadata": {},
     "output_type": "display_data"
    },
    {
     "name": "stdout",
     "output_type": "stream",
     "text": [
      "0.1\n",
      "[[[0.973177   0.53886208 0.5262631 ]\n",
      "  [0.09070398 0.6032145  0.44091675]\n",
      "  [0.26652816 0.4369166  0.49253013]\n",
      "  [0.91468466 0.53301562 0.73521908]\n",
      "  [0.81697192 0.14514894 0.83754249]\n",
      "  [0.66792459 0.2352488  0.6011704 ]\n",
      "  [0.29002278 0.0807057  0.19652895]\n",
      "  [0.07865614 0.1149242  0.62391812]]]\n",
      "Iteration = 42,  Cost = 0.10000000\n",
      "Autograd ArrayBox with value [[[0.973177   0.53886208 0.5262631 ]\n",
      "  [0.09070398 0.6032145  0.44091675]\n",
      "  [0.26652816 0.4369166  0.49253013]\n",
      "  [0.91468466 0.53301562 0.73521908]\n",
      "  [0.81697192 0.14514894 0.83754249]\n",
      "  [0.66792459 0.2352488  0.6011704 ]\n",
      "  [0.29002278 0.0807057  0.19652895]\n",
      "  [0.07865614 0.1149242  0.62391812]]]\n",
      "============\n",
      "['00000000']\n",
      "['00000000']\n",
      "['00000000']\n",
      "['00000000']\n",
      "['00000000']\n",
      "['00000000']\n",
      "['00000000']\n",
      "['00000000']\n",
      "==============\n"
     ]
    },
    {
     "data": {
      "image/jpeg": "[encoded data removed]",
      "image/png": "[encoded data removed]",
      "text/plain": [
       "<PIL.Image.Image image mode=L size=160x160>"
      ]
     },
     "metadata": {},
     "output_type": "display_data"
    },
    {
     "name": "stdout",
     "output_type": "stream",
     "text": [
      "0.1\n",
      "[[[0.973177   0.53886208 0.5262631 ]\n",
      "  [0.09070398 0.6032145  0.44091675]\n",
      "  [0.26652816 0.4369166  0.49253013]\n",
      "  [0.91468466 0.53301562 0.73521908]\n",
      "  [0.81697192 0.14514894 0.83754249]\n",
      "  [0.66792459 0.2352488  0.6011704 ]\n",
      "  [0.29002278 0.0807057  0.19652895]\n",
      "  [0.07865614 0.1149242  0.62391812]]]\n",
      "Iteration = 43,  Cost = 0.10000000\n",
      "Autograd ArrayBox with value [[[0.973177   0.53886208 0.5262631 ]\n",
      "  [0.09070398 0.6032145  0.44091675]\n",
      "  [0.26652816 0.4369166  0.49253013]\n",
      "  [0.91468466 0.53301562 0.73521908]\n",
      "  [0.81697192 0.14514894 0.83754249]\n",
      "  [0.66792459 0.2352488  0.6011704 ]\n",
      "  [0.29002278 0.0807057  0.19652895]\n",
      "  [0.07865614 0.1149242  0.62391812]]]\n",
      "============\n",
      "['00000000']\n",
      "['00000000']\n",
      "['00000000']\n",
      "['00000000']\n",
      "['00000000']\n",
      "['00000000']\n",
      "['00000000']\n",
      "['00000000']\n",
      "==============\n"
     ]
    },
    {
     "data": {
      "image/jpeg": "[encoded data removed]",
      "image/png": "[encoded data removed]",
      "text/plain": [
       "<PIL.Image.Image image mode=L size=160x160>"
      ]
     },
     "metadata": {},
     "output_type": "display_data"
    },
    {
     "name": "stdout",
     "output_type": "stream",
     "text": [
      "0.1\n",
      "[[[0.973177   0.53886208 0.5262631 ]\n",
      "  [0.09070398 0.6032145  0.44091675]\n",
      "  [0.26652816 0.4369166  0.49253013]\n",
      "  [0.91468466 0.53301562 0.73521908]\n",
      "  [0.81697192 0.14514894 0.83754249]\n",
      "  [0.66792459 0.2352488  0.6011704 ]\n",
      "  [0.29002278 0.0807057  0.19652895]\n",
      "  [0.07865614 0.1149242  0.62391812]]]\n",
      "Iteration = 44,  Cost = 0.10000000\n",
      "Autograd ArrayBox with value [[[0.973177   0.53886208 0.5262631 ]\n",
      "  [0.09070398 0.6032145  0.44091675]\n",
      "  [0.26652816 0.4369166  0.49253013]\n",
      "  [0.91468466 0.53301562 0.73521908]\n",
      "  [0.81697192 0.14514894 0.83754249]\n",
      "  [0.66792459 0.2352488  0.6011704 ]\n",
      "  [0.29002278 0.0807057  0.19652895]\n",
      "  [0.07865614 0.1149242  0.62391812]]]\n",
      "============\n",
      "['00000000']\n",
      "['00000000']\n",
      "['00000000']\n",
      "['00000000']\n",
      "['00000000']\n",
      "['00000000']\n",
      "['00000000']\n",
      "['00000000']\n",
      "==============\n"
     ]
    },
    {
     "data": {
      "image/jpeg": "[encoded data removed]",
      "image/png": "[encoded data removed]",
      "text/plain": [
       "<PIL.Image.Image image mode=L size=160x160>"
      ]
     },
     "metadata": {},
     "output_type": "display_data"
    },
    {
     "name": "stdout",
     "output_type": "stream",
     "text": [
      "0.1\n",
      "[[[0.973177   0.53886208 0.5262631 ]\n",
      "  [0.09070398 0.6032145  0.44091675]\n",
      "  [0.26652816 0.4369166  0.49253013]\n",
      "  [0.91468466 0.53301562 0.73521908]\n",
      "  [0.81697192 0.14514894 0.83754249]\n",
      "  [0.66792459 0.2352488  0.6011704 ]\n",
      "  [0.29002278 0.0807057  0.19652895]\n",
      "  [0.07865614 0.1149242  0.62391812]]]\n",
      "Iteration = 45,  Cost = 0.10000000\n",
      "Autograd ArrayBox with value [[[0.973177   0.53886208 0.5262631 ]\n",
      "  [0.09070398 0.6032145  0.44091675]\n",
      "  [0.26652816 0.4369166  0.49253013]\n",
      "  [0.91468466 0.53301562 0.73521908]\n",
      "  [0.81697192 0.14514894 0.83754249]\n",
      "  [0.66792459 0.2352488  0.6011704 ]\n",
      "  [0.29002278 0.0807057  0.19652895]\n",
      "  [0.07865614 0.1149242  0.62391812]]]\n",
      "============\n",
      "['00000000']\n",
      "['00000000']\n",
      "['00000000']\n",
      "['00000000']\n",
      "['00000000']\n",
      "['00000000']\n",
      "['00000000']\n",
      "['00000000']\n",
      "==============\n"
     ]
    },
    {
     "data": {
      "image/jpeg": "[encoded data removed]",
      "image/png": "[encoded data removed]",
      "text/plain": [
       "<PIL.Image.Image image mode=L size=160x160>"
      ]
     },
     "metadata": {},
     "output_type": "display_data"
    },
    {
     "name": "stdout",
     "output_type": "stream",
     "text": [
      "0.1\n",
      "[[[0.973177   0.53886208 0.5262631 ]\n",
      "  [0.09070398 0.6032145  0.44091675]\n",
      "  [0.26652816 0.4369166  0.49253013]\n",
      "  [0.91468466 0.53301562 0.73521908]\n",
      "  [0.81697192 0.14514894 0.83754249]\n",
      "  [0.66792459 0.2352488  0.6011704 ]\n",
      "  [0.29002278 0.0807057  0.19652895]\n",
      "  [0.07865614 0.1149242  0.62391812]]]\n",
      "Iteration = 46,  Cost = 0.10000000\n",
      "Autograd ArrayBox with value [[[0.973177   0.53886208 0.5262631 ]\n",
      "  [0.09070398 0.6032145  0.44091675]\n",
      "  [0.26652816 0.4369166  0.49253013]\n",
      "  [0.91468466 0.53301562 0.73521908]\n",
      "  [0.81697192 0.14514894 0.83754249]\n",
      "  [0.66792459 0.2352488  0.6011704 ]\n",
      "  [0.29002278 0.0807057  0.19652895]\n",
      "  [0.07865614 0.1149242  0.62391812]]]\n",
      "============\n",
      "['00000000']\n",
      "['00000000']\n",
      "['00000000']\n",
      "['00000000']\n",
      "['00000000']\n",
      "['00000000']\n",
      "['00000000']\n",
      "['00000000']\n",
      "==============\n"
     ]
    },
    {
     "data": {
      "image/jpeg": "[encoded data removed]",
      "image/png": "[encoded data removed]",
      "text/plain": [
       "<PIL.Image.Image image mode=L size=160x160>"
      ]
     },
     "metadata": {},
     "output_type": "display_data"
    },
    {
     "name": "stdout",
     "output_type": "stream",
     "text": [
      "0.1\n",
      "[[[0.973177   0.53886208 0.5262631 ]\n",
      "  [0.09070398 0.6032145  0.44091675]\n",
      "  [0.26652816 0.4369166  0.49253013]\n",
      "  [0.91468466 0.53301562 0.73521908]\n",
      "  [0.81697192 0.14514894 0.83754249]\n",
      "  [0.66792459 0.2352488  0.6011704 ]\n",
      "  [0.29002278 0.0807057  0.19652895]\n",
      "  [0.07865614 0.1149242  0.62391812]]]\n",
      "Iteration = 47,  Cost = 0.10000000\n",
      "Autograd ArrayBox with value [[[0.973177   0.53886208 0.5262631 ]\n",
      "  [0.09070398 0.6032145  0.44091675]\n",
      "  [0.26652816 0.4369166  0.49253013]\n",
      "  [0.91468466 0.53301562 0.73521908]\n",
      "  [0.81697192 0.14514894 0.83754249]\n",
      "  [0.66792459 0.2352488  0.6011704 ]\n",
      "  [0.29002278 0.0807057  0.19652895]\n",
      "  [0.07865614 0.1149242  0.62391812]]]\n",
      "============\n",
      "['00000000']\n",
      "['00000000']\n",
      "['00000000']\n",
      "['00000000']\n",
      "['00000000']\n",
      "['00000000']\n",
      "['00000000']\n",
      "['00000000']\n",
      "==============\n"
     ]
    },
    {
     "data": {
      "image/jpeg": "[encoded data removed]",
      "image/png": "[encoded data removed]",
      "text/plain": [
       "<PIL.Image.Image image mode=L size=160x160>"
      ]
     },
     "metadata": {},
     "output_type": "display_data"
    },
    {
     "name": "stdout",
     "output_type": "stream",
     "text": [
      "0.1\n",
      "[[[0.973177   0.53886208 0.5262631 ]\n",
      "  [0.09070398 0.6032145  0.44091675]\n",
      "  [0.26652816 0.4369166  0.49253013]\n",
      "  [0.91468466 0.53301562 0.73521908]\n",
      "  [0.81697192 0.14514894 0.83754249]\n",
      "  [0.66792459 0.2352488  0.6011704 ]\n",
      "  [0.29002278 0.0807057  0.19652895]\n",
      "  [0.07865614 0.1149242  0.62391812]]]\n",
      "Iteration = 48,  Cost = 0.10000000\n",
      "Autograd ArrayBox with value [[[0.973177   0.53886208 0.5262631 ]\n",
      "  [0.09070398 0.6032145  0.44091675]\n",
      "  [0.26652816 0.4369166  0.49253013]\n",
      "  [0.91468466 0.53301562 0.73521908]\n",
      "  [0.81697192 0.14514894 0.83754249]\n",
      "  [0.66792459 0.2352488  0.6011704 ]\n",
      "  [0.29002278 0.0807057  0.19652895]\n",
      "  [0.07865614 0.1149242  0.62391812]]]\n",
      "============\n",
      "['00000000']\n",
      "['00000000']\n",
      "['00000000']\n",
      "['00000000']\n",
      "['00000000']\n",
      "['00000000']\n",
      "['00000000']\n",
      "['00000000']\n",
      "==============\n"
     ]
    },
    {
     "data": {
      "image/jpeg": "[encoded data removed]",
      "image/png": "[encoded data removed]",
      "text/plain": [
       "<PIL.Image.Image image mode=L size=160x160>"
      ]
     },
     "metadata": {},
     "output_type": "display_data"
    },
    {
     "name": "stdout",
     "output_type": "stream",
     "text": [
      "0.1\n",
      "[[[0.973177   0.53886208 0.5262631 ]\n",
      "  [0.09070398 0.6032145  0.44091675]\n",
      "  [0.26652816 0.4369166  0.49253013]\n",
      "  [0.91468466 0.53301562 0.73521908]\n",
      "  [0.81697192 0.14514894 0.83754249]\n",
      "  [0.66792459 0.2352488  0.6011704 ]\n",
      "  [0.29002278 0.0807057  0.19652895]\n",
      "  [0.07865614 0.1149242  0.62391812]]]\n",
      "Iteration = 49,  Cost = 0.10000000\n",
      "Autograd ArrayBox with value [[[0.973177   0.53886208 0.5262631 ]\n",
      "  [0.09070398 0.6032145  0.44091675]\n",
      "  [0.26652816 0.4369166  0.49253013]\n",
      "  [0.91468466 0.53301562 0.73521908]\n",
      "  [0.81697192 0.14514894 0.83754249]\n",
      "  [0.66792459 0.2352488  0.6011704 ]\n",
      "  [0.29002278 0.0807057  0.19652895]\n",
      "  [0.07865614 0.1149242  0.62391812]]]\n",
      "============\n",
      "['00000000']\n",
      "['00000000']\n",
      "['00000000']\n",
      "['00000000']\n",
      "['00000000']\n",
      "['00000000']\n",
      "['00000000']\n",
      "['00000000']\n",
      "==============\n"
     ]
    },
    {
     "data": {
      "image/jpeg": "[encoded data removed]",
      "image/png": "[encoded data removed]",
      "text/plain": [
       "<PIL.Image.Image image mode=L size=160x160>"
      ]
     },
     "metadata": {},
     "output_type": "display_data"
    },
    {
     "name": "stdout",
     "output_type": "stream",
     "text": [
      "0.1\n",
      "[[[0.973177   0.53886208 0.5262631 ]\n",
      "  [0.09070398 0.6032145  0.44091675]\n",
      "  [0.26652816 0.4369166  0.49253013]\n",
      "  [0.91468466 0.53301562 0.73521908]\n",
      "  [0.81697192 0.14514894 0.83754249]\n",
      "  [0.66792459 0.2352488  0.6011704 ]\n",
      "  [0.29002278 0.0807057  0.19652895]\n",
      "  [0.07865614 0.1149242  0.62391812]]]\n",
      "Iteration = 50,  Cost = 0.10000000\n",
      "Autograd ArrayBox with value [[[0.973177   0.53886208 0.5262631 ]\n",
      "  [0.09070398 0.6032145  0.44091675]\n",
      "  [0.26652816 0.4369166  0.49253013]\n",
      "  [0.91468466 0.53301562 0.73521908]\n",
      "  [0.81697192 0.14514894 0.83754249]\n",
      "  [0.66792459 0.2352488  0.6011704 ]\n",
      "  [0.29002278 0.0807057  0.19652895]\n",
      "  [0.07865614 0.1149242  0.62391812]]]\n",
      "============\n",
      "['00000000']\n",
      "['00000000']\n",
      "['00000000']\n",
      "['00000000']\n",
      "['00000000']\n",
      "['00000000']\n",
      "['00000000']\n",
      "['00000000']\n",
      "==============\n"
     ]
    },
    {
     "data": {
      "image/jpeg": "[encoded data removed]",
      "image/png": "[encoded data removed]",
      "text/plain": [
       "<PIL.Image.Image image mode=L size=160x160>"
      ]
     },
     "metadata": {},
     "output_type": "display_data"
    },
    {
     "name": "stdout",
     "output_type": "stream",
     "text": [
      "0.1\n",
      "[[[0.973177   0.53886208 0.5262631 ]\n",
      "  [0.09070398 0.6032145  0.44091675]\n",
      "  [0.26652816 0.4369166  0.49253013]\n",
      "  [0.91468466 0.53301562 0.73521908]\n",
      "  [0.81697192 0.14514894 0.83754249]\n",
      "  [0.66792459 0.2352488  0.6011704 ]\n",
      "  [0.29002278 0.0807057  0.19652895]\n",
      "  [0.07865614 0.1149242  0.62391812]]]\n",
      "Iteration = 51,  Cost = 0.10000000\n",
      "Autograd ArrayBox with value [[[0.973177   0.53886208 0.5262631 ]\n",
      "  [0.09070398 0.6032145  0.44091675]\n",
      "  [0.26652816 0.4369166  0.49253013]\n",
      "  [0.91468466 0.53301562 0.73521908]\n",
      "  [0.81697192 0.14514894 0.83754249]\n",
      "  [0.66792459 0.2352488  0.6011704 ]\n",
      "  [0.29002278 0.0807057  0.19652895]\n",
      "  [0.07865614 0.1149242  0.62391812]]]\n",
      "============\n",
      "['00000000']\n",
      "['00000000']\n",
      "['00000000']\n",
      "['00000000']\n",
      "['00000000']\n",
      "['00000000']\n",
      "['00000000']\n",
      "['00000000']\n",
      "==============\n"
     ]
    },
    {
     "data": {
      "image/jpeg": "[encoded data removed]",
      "image/png": "[encoded data removed]",
      "text/plain": [
       "<PIL.Image.Image image mode=L size=160x160>"
      ]
     },
     "metadata": {},
     "output_type": "display_data"
    },
    {
     "name": "stdout",
     "output_type": "stream",
     "text": [
      "0.1\n",
      "[[[0.973177   0.53886208 0.5262631 ]\n",
      "  [0.09070398 0.6032145  0.44091675]\n",
      "  [0.26652816 0.4369166  0.49253013]\n",
      "  [0.91468466 0.53301562 0.73521908]\n",
      "  [0.81697192 0.14514894 0.83754249]\n",
      "  [0.66792459 0.2352488  0.6011704 ]\n",
      "  [0.29002278 0.0807057  0.19652895]\n",
      "  [0.07865614 0.1149242  0.62391812]]]\n",
      "Iteration = 52,  Cost = 0.10000000\n",
      "Autograd ArrayBox with value [[[0.973177   0.53886208 0.5262631 ]\n",
      "  [0.09070398 0.6032145  0.44091675]\n",
      "  [0.26652816 0.4369166  0.49253013]\n",
      "  [0.91468466 0.53301562 0.73521908]\n",
      "  [0.81697192 0.14514894 0.83754249]\n",
      "  [0.66792459 0.2352488  0.6011704 ]\n",
      "  [0.29002278 0.0807057  0.19652895]\n",
      "  [0.07865614 0.1149242  0.62391812]]]\n",
      "============\n",
      "['00000000']\n",
      "['00000000']\n",
      "['00000000']\n",
      "['00000000']\n",
      "['00000000']\n",
      "['00000000']\n",
      "['00000000']\n",
      "['00000000']\n",
      "==============\n"
     ]
    },
    {
     "data": {
      "image/jpeg": "[encoded data removed]",
      "image/png": "[encoded data removed]",
      "text/plain": [
       "<PIL.Image.Image image mode=L size=160x160>"
      ]
     },
     "metadata": {},
     "output_type": "display_data"
    },
    {
     "name": "stdout",
     "output_type": "stream",
     "text": [
      "0.1\n",
      "[[[0.973177   0.53886208 0.5262631 ]\n",
      "  [0.09070398 0.6032145  0.44091675]\n",
      "  [0.26652816 0.4369166  0.49253013]\n",
      "  [0.91468466 0.53301562 0.73521908]\n",
      "  [0.81697192 0.14514894 0.83754249]\n",
      "  [0.66792459 0.2352488  0.6011704 ]\n",
      "  [0.29002278 0.0807057  0.19652895]\n",
      "  [0.07865614 0.1149242  0.62391812]]]\n",
      "Iteration = 53,  Cost = 0.10000000\n",
      "Autograd ArrayBox with value [[[0.973177   0.53886208 0.5262631 ]\n",
      "  [0.09070398 0.6032145  0.44091675]\n",
      "  [0.26652816 0.4369166  0.49253013]\n",
      "  [0.91468466 0.53301562 0.73521908]\n",
      "  [0.81697192 0.14514894 0.83754249]\n",
      "  [0.66792459 0.2352488  0.6011704 ]\n",
      "  [0.29002278 0.0807057  0.19652895]\n",
      "  [0.07865614 0.1149242  0.62391812]]]\n",
      "============\n",
      "['00000000']\n",
      "['00000000']\n",
      "['00000000']\n",
      "['00000000']\n",
      "['00000000']\n",
      "['00000000']\n",
      "['00000000']\n",
      "['00000000']\n",
      "==============\n"
     ]
    },
    {
     "data": {
      "image/jpeg": "[encoded data removed]",
      "image/png": "[encoded data removed]",
      "text/plain": [
       "<PIL.Image.Image image mode=L size=160x160>"
      ]
     },
     "metadata": {},
     "output_type": "display_data"
    },
    {
     "name": "stdout",
     "output_type": "stream",
     "text": [
      "0.1\n",
      "[[[0.973177   0.53886208 0.5262631 ]\n",
      "  [0.09070398 0.6032145  0.44091675]\n",
      "  [0.26652816 0.4369166  0.49253013]\n",
      "  [0.91468466 0.53301562 0.73521908]\n",
      "  [0.81697192 0.14514894 0.83754249]\n",
      "  [0.66792459 0.2352488  0.6011704 ]\n",
      "  [0.29002278 0.0807057  0.19652895]\n",
      "  [0.07865614 0.1149242  0.62391812]]]\n",
      "Iteration = 54,  Cost = 0.10000000\n",
      "Autograd ArrayBox with value [[[0.973177   0.53886208 0.5262631 ]\n",
      "  [0.09070398 0.6032145  0.44091675]\n",
      "  [0.26652816 0.4369166  0.49253013]\n",
      "  [0.91468466 0.53301562 0.73521908]\n",
      "  [0.81697192 0.14514894 0.83754249]\n",
      "  [0.66792459 0.2352488  0.6011704 ]\n",
      "  [0.29002278 0.0807057  0.19652895]\n",
      "  [0.07865614 0.1149242  0.62391812]]]\n",
      "============\n",
      "['00000000']\n",
      "['00000000']\n",
      "['00000000']\n",
      "['00000000']\n",
      "['00000000']\n",
      "['00000000']\n",
      "['00000000']\n",
      "['00000000']\n",
      "==============\n"
     ]
    },
    {
     "data": {
      "image/jpeg": "[encoded data removed]",
      "image/png": "[encoded data removed]",
      "text/plain": [
       "<PIL.Image.Image image mode=L size=160x160>"
      ]
     },
     "metadata": {},
     "output_type": "display_data"
    },
    {
     "name": "stdout",
     "output_type": "stream",
     "text": [
      "0.1\n",
      "[[[0.973177   0.53886208 0.5262631 ]\n",
      "  [0.09070398 0.6032145  0.44091675]\n",
      "  [0.26652816 0.4369166  0.49253013]\n",
      "  [0.91468466 0.53301562 0.73521908]\n",
      "  [0.81697192 0.14514894 0.83754249]\n",
      "  [0.66792459 0.2352488  0.6011704 ]\n",
      "  [0.29002278 0.0807057  0.19652895]\n",
      "  [0.07865614 0.1149242  0.62391812]]]\n",
      "Iteration = 55,  Cost = 0.10000000\n",
      "Autograd ArrayBox with value [[[0.973177   0.53886208 0.5262631 ]\n",
      "  [0.09070398 0.6032145  0.44091675]\n",
      "  [0.26652816 0.4369166  0.49253013]\n",
      "  [0.91468466 0.53301562 0.73521908]\n",
      "  [0.81697192 0.14514894 0.83754249]\n",
      "  [0.66792459 0.2352488  0.6011704 ]\n",
      "  [0.29002278 0.0807057  0.19652895]\n",
      "  [0.07865614 0.1149242  0.62391812]]]\n",
      "============\n",
      "['00000000']\n",
      "['00000000']\n",
      "['00000000']\n",
      "['00000000']\n",
      "['00000000']\n",
      "['00000000']\n",
      "['00000000']\n",
      "['00000000']\n",
      "==============\n"
     ]
    },
    {
     "data": {
      "image/jpeg": "[encoded data removed]",
      "image/png": "[encoded data removed]",
      "text/plain": [
       "<PIL.Image.Image image mode=L size=160x160>"
      ]
     },
     "metadata": {},
     "output_type": "display_data"
    },
    {
     "name": "stdout",
     "output_type": "stream",
     "text": [
      "0.1\n",
      "[[[0.973177   0.53886208 0.5262631 ]\n",
      "  [0.09070398 0.6032145  0.44091675]\n",
      "  [0.26652816 0.4369166  0.49253013]\n",
      "  [0.91468466 0.53301562 0.73521908]\n",
      "  [0.81697192 0.14514894 0.83754249]\n",
      "  [0.66792459 0.2352488  0.6011704 ]\n",
      "  [0.29002278 0.0807057  0.19652895]\n",
      "  [0.07865614 0.1149242  0.62391812]]]\n",
      "Iteration = 56,  Cost = 0.10000000\n",
      "Autograd ArrayBox with value [[[0.973177   0.53886208 0.5262631 ]\n",
      "  [0.09070398 0.6032145  0.44091675]\n",
      "  [0.26652816 0.4369166  0.49253013]\n",
      "  [0.91468466 0.53301562 0.73521908]\n",
      "  [0.81697192 0.14514894 0.83754249]\n",
      "  [0.66792459 0.2352488  0.6011704 ]\n",
      "  [0.29002278 0.0807057  0.19652895]\n",
      "  [0.07865614 0.1149242  0.62391812]]]\n",
      "============\n",
      "['00000000']\n",
      "['00000000']\n",
      "['00000000']\n",
      "['00000000']\n",
      "['00000000']\n",
      "['00000000']\n",
      "['00000000']\n",
      "['00000000']\n",
      "==============\n"
     ]
    },
    {
     "data": {
      "image/jpeg": "[encoded data removed]",
      "image/png": "[encoded data removed]",
      "text/plain": [
       "<PIL.Image.Image image mode=L size=160x160>"
      ]
     },
     "metadata": {},
     "output_type": "display_data"
    },
    {
     "name": "stdout",
     "output_type": "stream",
     "text": [
      "0.1\n",
      "[[[0.973177   0.53886208 0.5262631 ]\n",
      "  [0.09070398 0.6032145  0.44091675]\n",
      "  [0.26652816 0.4369166  0.49253013]\n",
      "  [0.91468466 0.53301562 0.73521908]\n",
      "  [0.81697192 0.14514894 0.83754249]\n",
      "  [0.66792459 0.2352488  0.6011704 ]\n",
      "  [0.29002278 0.0807057  0.19652895]\n",
      "  [0.07865614 0.1149242  0.62391812]]]\n",
      "Iteration = 57,  Cost = 0.10000000\n",
      "Autograd ArrayBox with value [[[0.973177   0.53886208 0.5262631 ]\n",
      "  [0.09070398 0.6032145  0.44091675]\n",
      "  [0.26652816 0.4369166  0.49253013]\n",
      "  [0.91468466 0.53301562 0.73521908]\n",
      "  [0.81697192 0.14514894 0.83754249]\n",
      "  [0.66792459 0.2352488  0.6011704 ]\n",
      "  [0.29002278 0.0807057  0.19652895]\n",
      "  [0.07865614 0.1149242  0.62391812]]]\n",
      "============\n",
      "['00000000']\n",
      "['00000000']\n",
      "['00000000']\n",
      "['00000000']\n",
      "['00000000']\n",
      "['00000000']\n",
      "['00000000']\n",
      "['00000000']\n",
      "==============\n"
     ]
    },
    {
     "data": {
      "image/jpeg": "[encoded data removed]",
      "image/png": "[encoded data removed]",
      "text/plain": [
       "<PIL.Image.Image image mode=L size=160x160>"
      ]
     },
     "metadata": {},
     "output_type": "display_data"
    },
    {
     "name": "stdout",
     "output_type": "stream",
     "text": [
      "0.1\n",
      "[[[0.973177   0.53886208 0.5262631 ]\n",
      "  [0.09070398 0.6032145  0.44091675]\n",
      "  [0.26652816 0.4369166  0.49253013]\n",
      "  [0.91468466 0.53301562 0.73521908]\n",
      "  [0.81697192 0.14514894 0.83754249]\n",
      "  [0.66792459 0.2352488  0.6011704 ]\n",
      "  [0.29002278 0.0807057  0.19652895]\n",
      "  [0.07865614 0.1149242  0.62391812]]]\n",
      "Iteration = 58,  Cost = 0.10000000\n",
      "Autograd ArrayBox with value [[[0.973177   0.53886208 0.5262631 ]\n",
      "  [0.09070398 0.6032145  0.44091675]\n",
      "  [0.26652816 0.4369166  0.49253013]\n",
      "  [0.91468466 0.53301562 0.73521908]\n",
      "  [0.81697192 0.14514894 0.83754249]\n",
      "  [0.66792459 0.2352488  0.6011704 ]\n",
      "  [0.29002278 0.0807057  0.19652895]\n",
      "  [0.07865614 0.1149242  0.62391812]]]\n",
      "============\n",
      "['00000000']\n",
      "['00000000']\n",
      "['00000000']\n",
      "['00000000']\n",
      "['00000000']\n",
      "['00000000']\n",
      "['00000000']\n",
      "['00000000']\n",
      "==============\n"
     ]
    },
    {
     "data": {
      "image/jpeg": "[encoded data removed]",
      "image/png": "[encoded data removed]",
      "text/plain": [
       "<PIL.Image.Image image mode=L size=160x160>"
      ]
     },
     "metadata": {},
     "output_type": "display_data"
    },
    {
     "name": "stdout",
     "output_type": "stream",
     "text": [
      "0.1\n",
      "[[[0.973177   0.53886208 0.5262631 ]\n",
      "  [0.09070398 0.6032145  0.44091675]\n",
      "  [0.26652816 0.4369166  0.49253013]\n",
      "  [0.91468466 0.53301562 0.73521908]\n",
      "  [0.81697192 0.14514894 0.83754249]\n",
      "  [0.66792459 0.2352488  0.6011704 ]\n",
      "  [0.29002278 0.0807057  0.19652895]\n",
      "  [0.07865614 0.1149242  0.62391812]]]\n",
      "Iteration = 59,  Cost = 0.10000000\n",
      "Autograd ArrayBox with value [[[0.973177   0.53886208 0.5262631 ]\n",
      "  [0.09070398 0.6032145  0.44091675]\n",
      "  [0.26652816 0.4369166  0.49253013]\n",
      "  [0.91468466 0.53301562 0.73521908]\n",
      "  [0.81697192 0.14514894 0.83754249]\n",
      "  [0.66792459 0.2352488  0.6011704 ]\n",
      "  [0.29002278 0.0807057  0.19652895]\n",
      "  [0.07865614 0.1149242  0.62391812]]]\n",
      "============\n",
      "['00000000']\n",
      "['00000000']\n",
      "['00000000']\n",
      "['00000000']\n",
      "['00000000']\n",
      "['00000000']\n",
      "['00000000']\n",
      "['00000000']\n",
      "==============\n"
     ]
    },
    {
     "data": {
      "image/jpeg": "[encoded data removed]",
      "image/png": "[encoded data removed]",
      "text/plain": [
       "<PIL.Image.Image image mode=L size=160x160>"
      ]
     },
     "metadata": {},
     "output_type": "display_data"
    },
    {
     "name": "stdout",
     "output_type": "stream",
     "text": [
      "0.1\n",
      "[[[0.973177   0.53886208 0.5262631 ]\n",
      "  [0.09070398 0.6032145  0.44091675]\n",
      "  [0.26652816 0.4369166  0.49253013]\n",
      "  [0.91468466 0.53301562 0.73521908]\n",
      "  [0.81697192 0.14514894 0.83754249]\n",
      "  [0.66792459 0.2352488  0.6011704 ]\n",
      "  [0.29002278 0.0807057  0.19652895]\n",
      "  [0.07865614 0.1149242  0.62391812]]]\n",
      "Iteration = 60,  Cost = 0.10000000\n",
      "Autograd ArrayBox with value [[[0.973177   0.53886208 0.5262631 ]\n",
      "  [0.09070398 0.6032145  0.44091675]\n",
      "  [0.26652816 0.4369166  0.49253013]\n",
      "  [0.91468466 0.53301562 0.73521908]\n",
      "  [0.81697192 0.14514894 0.83754249]\n",
      "  [0.66792459 0.2352488  0.6011704 ]\n",
      "  [0.29002278 0.0807057  0.19652895]\n",
      "  [0.07865614 0.1149242  0.62391812]]]\n",
      "============\n",
      "['00000000']\n",
      "['00000000']\n",
      "['00000000']\n",
      "['00000000']\n",
      "['00000000']\n",
      "['00000000']\n",
      "['00000000']\n",
      "['00000000']\n",
      "==============\n"
     ]
    },
    {
     "data": {
      "image/jpeg": "[encoded data removed]",
      "image/png": "[encoded data removed]",
      "text/plain": [
       "<PIL.Image.Image image mode=L size=160x160>"
      ]
     },
     "metadata": {},
     "output_type": "display_data"
    },
    {
     "name": "stdout",
     "output_type": "stream",
     "text": [
      "0.1\n",
      "[[[0.973177   0.53886208 0.5262631 ]\n",
      "  [0.09070398 0.6032145  0.44091675]\n",
      "  [0.26652816 0.4369166  0.49253013]\n",
      "  [0.91468466 0.53301562 0.73521908]\n",
      "  [0.81697192 0.14514894 0.83754249]\n",
      "  [0.66792459 0.2352488  0.6011704 ]\n",
      "  [0.29002278 0.0807057  0.19652895]\n",
      "  [0.07865614 0.1149242  0.62391812]]]\n",
      "Iteration = 61,  Cost = 0.10000000\n",
      "Autograd ArrayBox with value [[[0.973177   0.53886208 0.5262631 ]\n",
      "  [0.09070398 0.6032145  0.44091675]\n",
      "  [0.26652816 0.4369166  0.49253013]\n",
      "  [0.91468466 0.53301562 0.73521908]\n",
      "  [0.81697192 0.14514894 0.83754249]\n",
      "  [0.66792459 0.2352488  0.6011704 ]\n",
      "  [0.29002278 0.0807057  0.19652895]\n",
      "  [0.07865614 0.1149242  0.62391812]]]\n",
      "============\n",
      "['00000000']\n",
      "['00000000']\n",
      "['00000000']\n",
      "['00000000']\n",
      "['00000000']\n",
      "['00000000']\n",
      "['00000000']\n",
      "['00000000']\n",
      "==============\n"
     ]
    },
    {
     "data": {
      "image/jpeg": "[encoded data removed]",
      "image/png": "[encoded data removed]",
      "text/plain": [
       "<PIL.Image.Image image mode=L size=160x160>"
      ]
     },
     "metadata": {},
     "output_type": "display_data"
    },
    {
     "name": "stdout",
     "output_type": "stream",
     "text": [
      "0.1\n",
      "[[[0.973177   0.53886208 0.5262631 ]\n",
      "  [0.09070398 0.6032145  0.44091675]\n",
      "  [0.26652816 0.4369166  0.49253013]\n",
      "  [0.91468466 0.53301562 0.73521908]\n",
      "  [0.81697192 0.14514894 0.83754249]\n",
      "  [0.66792459 0.2352488  0.6011704 ]\n",
      "  [0.29002278 0.0807057  0.19652895]\n",
      "  [0.07865614 0.1149242  0.62391812]]]\n",
      "Iteration = 62,  Cost = 0.10000000\n",
      "Autograd ArrayBox with value [[[0.973177   0.53886208 0.5262631 ]\n",
      "  [0.09070398 0.6032145  0.44091675]\n",
      "  [0.26652816 0.4369166  0.49253013]\n",
      "  [0.91468466 0.53301562 0.73521908]\n",
      "  [0.81697192 0.14514894 0.83754249]\n",
      "  [0.66792459 0.2352488  0.6011704 ]\n",
      "  [0.29002278 0.0807057  0.19652895]\n",
      "  [0.07865614 0.1149242  0.62391812]]]\n",
      "============\n",
      "['00000000']\n",
      "['00000000']\n",
      "['00000000']\n",
      "['00000000']\n",
      "['00000000']\n",
      "['00000000']\n",
      "['00000000']\n",
      "['00000000']\n",
      "==============\n"
     ]
    },
    {
     "data": {
      "image/jpeg": "[encoded data removed]",
      "image/png": "[encoded data removed]",
      "text/plain": [
       "<PIL.Image.Image image mode=L size=160x160>"
      ]
     },
     "metadata": {},
     "output_type": "display_data"
    },
    {
     "name": "stdout",
     "output_type": "stream",
     "text": [
      "0.1\n",
      "[[[0.973177   0.53886208 0.5262631 ]\n",
      "  [0.09070398 0.6032145  0.44091675]\n",
      "  [0.26652816 0.4369166  0.49253013]\n",
      "  [0.91468466 0.53301562 0.73521908]\n",
      "  [0.81697192 0.14514894 0.83754249]\n",
      "  [0.66792459 0.2352488  0.6011704 ]\n",
      "  [0.29002278 0.0807057  0.19652895]\n",
      "  [0.07865614 0.1149242  0.62391812]]]\n",
      "Iteration = 63,  Cost = 0.10000000\n",
      "Autograd ArrayBox with value [[[0.973177   0.53886208 0.5262631 ]\n",
      "  [0.09070398 0.6032145  0.44091675]\n",
      "  [0.26652816 0.4369166  0.49253013]\n",
      "  [0.91468466 0.53301562 0.73521908]\n",
      "  [0.81697192 0.14514894 0.83754249]\n",
      "  [0.66792459 0.2352488  0.6011704 ]\n",
      "  [0.29002278 0.0807057  0.19652895]\n",
      "  [0.07865614 0.1149242  0.62391812]]]\n",
      "============\n",
      "['00000000']\n",
      "['00000000']\n",
      "['00000000']\n",
      "['00000000']\n",
      "['00000000']\n",
      "['00000000']\n",
      "['00000000']\n",
      "['00000000']\n",
      "==============\n"
     ]
    },
    {
     "data": {
      "image/jpeg": "[encoded data removed]",
      "image/png": "[encoded data removed]",
      "text/plain": [
       "<PIL.Image.Image image mode=L size=160x160>"
      ]
     },
     "metadata": {},
     "output_type": "display_data"
    },
    {
     "name": "stdout",
     "output_type": "stream",
     "text": [
      "0.1\n",
      "[[[0.973177   0.53886208 0.5262631 ]\n",
      "  [0.09070398 0.6032145  0.44091675]\n",
      "  [0.26652816 0.4369166  0.49253013]\n",
      "  [0.91468466 0.53301562 0.73521908]\n",
      "  [0.81697192 0.14514894 0.83754249]\n",
      "  [0.66792459 0.2352488  0.6011704 ]\n",
      "  [0.29002278 0.0807057  0.19652895]\n",
      "  [0.07865614 0.1149242  0.62391812]]]\n",
      "Iteration = 64,  Cost = 0.10000000\n",
      "Autograd ArrayBox with value [[[0.973177   0.53886208 0.5262631 ]\n",
      "  [0.09070398 0.6032145  0.44091675]\n",
      "  [0.26652816 0.4369166  0.49253013]\n",
      "  [0.91468466 0.53301562 0.73521908]\n",
      "  [0.81697192 0.14514894 0.83754249]\n",
      "  [0.66792459 0.2352488  0.6011704 ]\n",
      "  [0.29002278 0.0807057  0.19652895]\n",
      "  [0.07865614 0.1149242  0.62391812]]]\n",
      "============\n",
      "['00000000']\n",
      "['00000000']\n",
      "['00000000']\n",
      "['00000000']\n",
      "['00000000']\n",
      "['00000000']\n",
      "['00000000']\n",
      "['00000000']\n",
      "==============\n"
     ]
    },
    {
     "data": {
      "image/jpeg": "[encoded data removed]",
      "image/png": "[encoded data removed]",
      "text/plain": [
       "<PIL.Image.Image image mode=L size=160x160>"
      ]
     },
     "metadata": {},
     "output_type": "display_data"
    },
    {
     "name": "stdout",
     "output_type": "stream",
     "text": [
      "0.1\n",
      "[[[0.973177   0.53886208 0.5262631 ]\n",
      "  [0.09070398 0.6032145  0.44091675]\n",
      "  [0.26652816 0.4369166  0.49253013]\n",
      "  [0.91468466 0.53301562 0.73521908]\n",
      "  [0.81697192 0.14514894 0.83754249]\n",
      "  [0.66792459 0.2352488  0.6011704 ]\n",
      "  [0.29002278 0.0807057  0.19652895]\n",
      "  [0.07865614 0.1149242  0.62391812]]]\n",
      "Iteration = 65,  Cost = 0.10000000\n",
      "Autograd ArrayBox with value [[[0.973177   0.53886208 0.5262631 ]\n",
      "  [0.09070398 0.6032145  0.44091675]\n",
      "  [0.26652816 0.4369166  0.49253013]\n",
      "  [0.91468466 0.53301562 0.73521908]\n",
      "  [0.81697192 0.14514894 0.83754249]\n",
      "  [0.66792459 0.2352488  0.6011704 ]\n",
      "  [0.29002278 0.0807057  0.19652895]\n",
      "  [0.07865614 0.1149242  0.62391812]]]\n",
      "============\n",
      "['00000000']\n",
      "['00000000']\n",
      "['00000000']\n",
      "['00000000']\n",
      "['00000000']\n",
      "['00000000']\n",
      "['00000000']\n",
      "['00000000']\n",
      "==============\n"
     ]
    },
    {
     "data": {
      "image/jpeg": "[encoded data removed]",
      "image/png": "[encoded data removed]",
      "text/plain": [
       "<PIL.Image.Image image mode=L size=160x160>"
      ]
     },
     "metadata": {},
     "output_type": "display_data"
    },
    {
     "name": "stdout",
     "output_type": "stream",
     "text": [
      "0.1\n",
      "[[[0.973177   0.53886208 0.5262631 ]\n",
      "  [0.09070398 0.6032145  0.44091675]\n",
      "  [0.26652816 0.4369166  0.49253013]\n",
      "  [0.91468466 0.53301562 0.73521908]\n",
      "  [0.81697192 0.14514894 0.83754249]\n",
      "  [0.66792459 0.2352488  0.6011704 ]\n",
      "  [0.29002278 0.0807057  0.19652895]\n",
      "  [0.07865614 0.1149242  0.62391812]]]\n",
      "Iteration = 66,  Cost = 0.10000000\n",
      "Autograd ArrayBox with value [[[0.973177   0.53886208 0.5262631 ]\n",
      "  [0.09070398 0.6032145  0.44091675]\n",
      "  [0.26652816 0.4369166  0.49253013]\n",
      "  [0.91468466 0.53301562 0.73521908]\n",
      "  [0.81697192 0.14514894 0.83754249]\n",
      "  [0.66792459 0.2352488  0.6011704 ]\n",
      "  [0.29002278 0.0807057  0.19652895]\n",
      "  [0.07865614 0.1149242  0.62391812]]]\n",
      "============\n",
      "['00000000']\n",
      "['00000000']\n",
      "['00000000']\n",
      "['00000000']\n",
      "['00000000']\n",
      "['00000000']\n",
      "['00000000']\n",
      "['00000000']\n",
      "==============\n"
     ]
    },
    {
     "data": {
      "image/jpeg": "[encoded data removed]",
      "image/png": "[encoded data removed]",
      "text/plain": [
       "<PIL.Image.Image image mode=L size=160x160>"
      ]
     },
     "metadata": {},
     "output_type": "display_data"
    },
    {
     "name": "stdout",
     "output_type": "stream",
     "text": [
      "0.1\n",
      "[[[0.973177   0.53886208 0.5262631 ]\n",
      "  [0.09070398 0.6032145  0.44091675]\n",
      "  [0.26652816 0.4369166  0.49253013]\n",
      "  [0.91468466 0.53301562 0.73521908]\n",
      "  [0.81697192 0.14514894 0.83754249]\n",
      "  [0.66792459 0.2352488  0.6011704 ]\n",
      "  [0.29002278 0.0807057  0.19652895]\n",
      "  [0.07865614 0.1149242  0.62391812]]]\n",
      "Iteration = 67,  Cost = 0.10000000\n",
      "Autograd ArrayBox with value [[[0.973177   0.53886208 0.5262631 ]\n",
      "  [0.09070398 0.6032145  0.44091675]\n",
      "  [0.26652816 0.4369166  0.49253013]\n",
      "  [0.91468466 0.53301562 0.73521908]\n",
      "  [0.81697192 0.14514894 0.83754249]\n",
      "  [0.66792459 0.2352488  0.6011704 ]\n",
      "  [0.29002278 0.0807057  0.19652895]\n",
      "  [0.07865614 0.1149242  0.62391812]]]\n",
      "============\n",
      "['00000000']\n",
      "['00000000']\n",
      "['00000000']\n",
      "['00000000']\n",
      "['00000000']\n",
      "['00000000']\n",
      "['00000000']\n",
      "['00000000']\n",
      "==============\n"
     ]
    },
    {
     "data": {
      "image/jpeg": "[encoded data removed]",
      "image/png": "[encoded data removed]",
      "text/plain": [
       "<PIL.Image.Image image mode=L size=160x160>"
      ]
     },
     "metadata": {},
     "output_type": "display_data"
    },
    {
     "name": "stdout",
     "output_type": "stream",
     "text": [
      "0.1\n",
      "[[[0.973177   0.53886208 0.5262631 ]\n",
      "  [0.09070398 0.6032145  0.44091675]\n",
      "  [0.26652816 0.4369166  0.49253013]\n",
      "  [0.91468466 0.53301562 0.73521908]\n",
      "  [0.81697192 0.14514894 0.83754249]\n",
      "  [0.66792459 0.2352488  0.6011704 ]\n",
      "  [0.29002278 0.0807057  0.19652895]\n",
      "  [0.07865614 0.1149242  0.62391812]]]\n",
      "Iteration = 68,  Cost = 0.10000000\n",
      "Autograd ArrayBox with value [[[0.973177   0.53886208 0.5262631 ]\n",
      "  [0.09070398 0.6032145  0.44091675]\n",
      "  [0.26652816 0.4369166  0.49253013]\n",
      "  [0.91468466 0.53301562 0.73521908]\n",
      "  [0.81697192 0.14514894 0.83754249]\n",
      "  [0.66792459 0.2352488  0.6011704 ]\n",
      "  [0.29002278 0.0807057  0.19652895]\n",
      "  [0.07865614 0.1149242  0.62391812]]]\n",
      "============\n",
      "['00000000']\n",
      "['00000000']\n",
      "['00000000']\n",
      "['00000000']\n",
      "['00000000']\n",
      "['00000000']\n",
      "['00000000']\n",
      "['00000000']\n",
      "==============\n"
     ]
    },
    {
     "data": {
      "image/jpeg": "[encoded data removed]",
      "image/png": "[encoded data removed]",
      "text/plain": [
       "<PIL.Image.Image image mode=L size=160x160>"
      ]
     },
     "metadata": {},
     "output_type": "display_data"
    },
    {
     "name": "stdout",
     "output_type": "stream",
     "text": [
      "0.1\n",
      "[[[0.973177   0.53886208 0.5262631 ]\n",
      "  [0.09070398 0.6032145  0.44091675]\n",
      "  [0.26652816 0.4369166  0.49253013]\n",
      "  [0.91468466 0.53301562 0.73521908]\n",
      "  [0.81697192 0.14514894 0.83754249]\n",
      "  [0.66792459 0.2352488  0.6011704 ]\n",
      "  [0.29002278 0.0807057  0.19652895]\n",
      "  [0.07865614 0.1149242  0.62391812]]]\n",
      "Iteration = 69,  Cost = 0.10000000\n",
      "Autograd ArrayBox with value [[[0.973177   0.53886208 0.5262631 ]\n",
      "  [0.09070398 0.6032145  0.44091675]\n",
      "  [0.26652816 0.4369166  0.49253013]\n",
      "  [0.91468466 0.53301562 0.73521908]\n",
      "  [0.81697192 0.14514894 0.83754249]\n",
      "  [0.66792459 0.2352488  0.6011704 ]\n",
      "  [0.29002278 0.0807057  0.19652895]\n",
      "  [0.07865614 0.1149242  0.62391812]]]\n",
      "============\n",
      "['00000000']\n",
      "['00000000']\n",
      "['00000000']\n",
      "['00000000']\n",
      "['00000000']\n",
      "['00000000']\n",
      "['00000000']\n",
      "['00000000']\n",
      "==============\n"
     ]
    },
    {
     "data": {
      "image/jpeg": "[encoded data removed]",
      "image/png": "[encoded data removed]",
      "text/plain": [
       "<PIL.Image.Image image mode=L size=160x160>"
      ]
     },
     "metadata": {},
     "output_type": "display_data"
    },
    {
     "name": "stdout",
     "output_type": "stream",
     "text": [
      "0.1\n",
      "[[[0.973177   0.53886208 0.5262631 ]\n",
      "  [0.09070398 0.6032145  0.44091675]\n",
      "  [0.26652816 0.4369166  0.49253013]\n",
      "  [0.91468466 0.53301562 0.73521908]\n",
      "  [0.81697192 0.14514894 0.83754249]\n",
      "  [0.66792459 0.2352488  0.6011704 ]\n",
      "  [0.29002278 0.0807057  0.19652895]\n",
      "  [0.07865614 0.1149242  0.62391812]]]\n",
      "Iteration = 70,  Cost = 0.10000000\n",
      "Autograd ArrayBox with value [[[0.973177   0.53886208 0.5262631 ]\n",
      "  [0.09070398 0.6032145  0.44091675]\n",
      "  [0.26652816 0.4369166  0.49253013]\n",
      "  [0.91468466 0.53301562 0.73521908]\n",
      "  [0.81697192 0.14514894 0.83754249]\n",
      "  [0.66792459 0.2352488  0.6011704 ]\n",
      "  [0.29002278 0.0807057  0.19652895]\n",
      "  [0.07865614 0.1149242  0.62391812]]]\n",
      "============\n",
      "['00000000']\n",
      "['00000000']\n",
      "['00000000']\n",
      "['00000000']\n",
      "['00000000']\n",
      "['00000000']\n",
      "['00000000']\n",
      "['00000000']\n",
      "==============\n"
     ]
    },
    {
     "data": {
      "image/jpeg": "[encoded data removed]",
      "image/png": "[encoded data removed]",
      "text/plain": [
       "<PIL.Image.Image image mode=L size=160x160>"
      ]
     },
     "metadata": {},
     "output_type": "display_data"
    },
    {
     "name": "stdout",
     "output_type": "stream",
     "text": [
      "0.1\n",
      "[[[0.973177   0.53886208 0.5262631 ]\n",
      "  [0.09070398 0.6032145  0.44091675]\n",
      "  [0.26652816 0.4369166  0.49253013]\n",
      "  [0.91468466 0.53301562 0.73521908]\n",
      "  [0.81697192 0.14514894 0.83754249]\n",
      "  [0.66792459 0.2352488  0.6011704 ]\n",
      "  [0.29002278 0.0807057  0.19652895]\n",
      "  [0.07865614 0.1149242  0.62391812]]]\n",
      "Iteration = 71,  Cost = 0.10000000\n",
      "Autograd ArrayBox with value [[[0.973177   0.53886208 0.5262631 ]\n",
      "  [0.09070398 0.6032145  0.44091675]\n",
      "  [0.26652816 0.4369166  0.49253013]\n",
      "  [0.91468466 0.53301562 0.73521908]\n",
      "  [0.81697192 0.14514894 0.83754249]\n",
      "  [0.66792459 0.2352488  0.6011704 ]\n",
      "  [0.29002278 0.0807057  0.19652895]\n",
      "  [0.07865614 0.1149242  0.62391812]]]\n",
      "============\n",
      "['00000000']\n",
      "['00000000']\n",
      "['00000000']\n",
      "['00000000']\n",
      "['00000000']\n",
      "['00000000']\n",
      "['00000000']\n",
      "['00000000']\n",
      "==============\n"
     ]
    },
    {
     "data": {
      "image/jpeg": "[encoded data removed]",
      "image/png": "[encoded data removed]",
      "text/plain": [
       "<PIL.Image.Image image mode=L size=160x160>"
      ]
     },
     "metadata": {},
     "output_type": "display_data"
    },
    {
     "name": "stdout",
     "output_type": "stream",
     "text": [
      "0.1\n",
      "[[[0.973177   0.53886208 0.5262631 ]\n",
      "  [0.09070398 0.6032145  0.44091675]\n",
      "  [0.26652816 0.4369166  0.49253013]\n",
      "  [0.91468466 0.53301562 0.73521908]\n",
      "  [0.81697192 0.14514894 0.83754249]\n",
      "  [0.66792459 0.2352488  0.6011704 ]\n",
      "  [0.29002278 0.0807057  0.19652895]\n",
      "  [0.07865614 0.1149242  0.62391812]]]\n",
      "Iteration = 72,  Cost = 0.10000000\n",
      "Autograd ArrayBox with value [[[0.973177   0.53886208 0.5262631 ]\n",
      "  [0.09070398 0.6032145  0.44091675]\n",
      "  [0.26652816 0.4369166  0.49253013]\n",
      "  [0.91468466 0.53301562 0.73521908]\n",
      "  [0.81697192 0.14514894 0.83754249]\n",
      "  [0.66792459 0.2352488  0.6011704 ]\n",
      "  [0.29002278 0.0807057  0.19652895]\n",
      "  [0.07865614 0.1149242  0.62391812]]]\n",
      "============\n",
      "['00000000']\n",
      "['00000000']\n",
      "['00000000']\n",
      "['00000000']\n",
      "['00000000']\n",
      "['00000000']\n",
      "['00000000']\n",
      "['00000000']\n",
      "==============\n"
     ]
    },
    {
     "data": {
      "image/jpeg": "[encoded data removed]",
      "image/png": "[encoded data removed]",
      "text/plain": [
       "<PIL.Image.Image image mode=L size=160x160>"
      ]
     },
     "metadata": {},
     "output_type": "display_data"
    },
    {
     "name": "stdout",
     "output_type": "stream",
     "text": [
      "0.1\n",
      "[[[0.973177   0.53886208 0.5262631 ]\n",
      "  [0.09070398 0.6032145  0.44091675]\n",
      "  [0.26652816 0.4369166  0.49253013]\n",
      "  [0.91468466 0.53301562 0.73521908]\n",
      "  [0.81697192 0.14514894 0.83754249]\n",
      "  [0.66792459 0.2352488  0.6011704 ]\n",
      "  [0.29002278 0.0807057  0.19652895]\n",
      "  [0.07865614 0.1149242  0.62391812]]]\n",
      "Iteration = 73,  Cost = 0.10000000\n",
      "Autograd ArrayBox with value [[[0.973177   0.53886208 0.5262631 ]\n",
      "  [0.09070398 0.6032145  0.44091675]\n",
      "  [0.26652816 0.4369166  0.49253013]\n",
      "  [0.91468466 0.53301562 0.73521908]\n",
      "  [0.81697192 0.14514894 0.83754249]\n",
      "  [0.66792459 0.2352488  0.6011704 ]\n",
      "  [0.29002278 0.0807057  0.19652895]\n",
      "  [0.07865614 0.1149242  0.62391812]]]\n",
      "============\n",
      "['00000000']\n",
      "['00000000']\n",
      "['00000000']\n",
      "['00000000']\n",
      "['00000000']\n",
      "['00000000']\n",
      "['00000000']\n",
      "['00000000']\n",
      "==============\n"
     ]
    },
    {
     "data": {
      "image/jpeg": "[encoded data removed]",
      "image/png": "[encoded data removed]",
      "text/plain": [
       "<PIL.Image.Image image mode=L size=160x160>"
      ]
     },
     "metadata": {},
     "output_type": "display_data"
    },
    {
     "name": "stdout",
     "output_type": "stream",
     "text": [
      "0.1\n",
      "[[[0.973177   0.53886208 0.5262631 ]\n",
      "  [0.09070398 0.6032145  0.44091675]\n",
      "  [0.26652816 0.4369166  0.49253013]\n",
      "  [0.91468466 0.53301562 0.73521908]\n",
      "  [0.81697192 0.14514894 0.83754249]\n",
      "  [0.66792459 0.2352488  0.6011704 ]\n",
      "  [0.29002278 0.0807057  0.19652895]\n",
      "  [0.07865614 0.1149242  0.62391812]]]\n",
      "Iteration = 74,  Cost = 0.10000000\n",
      "Autograd ArrayBox with value [[[0.973177   0.53886208 0.5262631 ]\n",
      "  [0.09070398 0.6032145  0.44091675]\n",
      "  [0.26652816 0.4369166  0.49253013]\n",
      "  [0.91468466 0.53301562 0.73521908]\n",
      "  [0.81697192 0.14514894 0.83754249]\n",
      "  [0.66792459 0.2352488  0.6011704 ]\n",
      "  [0.29002278 0.0807057  0.19652895]\n",
      "  [0.07865614 0.1149242  0.62391812]]]\n",
      "============\n",
      "['00000000']\n",
      "['00000000']\n",
      "['00000000']\n",
      "['00000000']\n",
      "['00000000']\n",
      "['00000000']\n",
      "['00000000']\n",
      "['00000000']\n",
      "==============\n"
     ]
    },
    {
     "data": {
      "image/jpeg": "[encoded data removed]",
      "image/png": "[encoded data removed]",
      "text/plain": [
       "<PIL.Image.Image image mode=L size=160x160>"
      ]
     },
     "metadata": {},
     "output_type": "display_data"
    },
    {
     "name": "stdout",
     "output_type": "stream",
     "text": [
      "0.1\n",
      "[[[0.973177   0.53886208 0.5262631 ]\n",
      "  [0.09070398 0.6032145  0.44091675]\n",
      "  [0.26652816 0.4369166  0.49253013]\n",
      "  [0.91468466 0.53301562 0.73521908]\n",
      "  [0.81697192 0.14514894 0.83754249]\n",
      "  [0.66792459 0.2352488  0.6011704 ]\n",
      "  [0.29002278 0.0807057  0.19652895]\n",
      "  [0.07865614 0.1149242  0.62391812]]]\n",
      "Iteration = 75,  Cost = 0.10000000\n",
      "Autograd ArrayBox with value [[[0.973177   0.53886208 0.5262631 ]\n",
      "  [0.09070398 0.6032145  0.44091675]\n",
      "  [0.26652816 0.4369166  0.49253013]\n",
      "  [0.91468466 0.53301562 0.73521908]\n",
      "  [0.81697192 0.14514894 0.83754249]\n",
      "  [0.66792459 0.2352488  0.6011704 ]\n",
      "  [0.29002278 0.0807057  0.19652895]\n",
      "  [0.07865614 0.1149242  0.62391812]]]\n",
      "============\n",
      "['00000000']\n",
      "['00000000']\n",
      "['00000000']\n",
      "['00000000']\n",
      "['00000000']\n",
      "['00000000']\n",
      "['00000000']\n",
      "['00000000']\n",
      "==============\n"
     ]
    },
    {
     "data": {
      "image/jpeg": "[encoded data removed]",
      "image/png": "[encoded data removed]",
      "text/plain": [
       "<PIL.Image.Image image mode=L size=160x160>"
      ]
     },
     "metadata": {},
     "output_type": "display_data"
    },
    {
     "name": "stdout",
     "output_type": "stream",
     "text": [
      "0.1\n",
      "[[[0.973177   0.53886208 0.5262631 ]\n",
      "  [0.09070398 0.6032145  0.44091675]\n",
      "  [0.26652816 0.4369166  0.49253013]\n",
      "  [0.91468466 0.53301562 0.73521908]\n",
      "  [0.81697192 0.14514894 0.83754249]\n",
      "  [0.66792459 0.2352488  0.6011704 ]\n",
      "  [0.29002278 0.0807057  0.19652895]\n",
      "  [0.07865614 0.1149242  0.62391812]]]\n",
      "Iteration = 76,  Cost = 0.10000000\n",
      "Autograd ArrayBox with value [[[0.973177   0.53886208 0.5262631 ]\n",
      "  [0.09070398 0.6032145  0.44091675]\n",
      "  [0.26652816 0.4369166  0.49253013]\n",
      "  [0.91468466 0.53301562 0.73521908]\n",
      "  [0.81697192 0.14514894 0.83754249]\n",
      "  [0.66792459 0.2352488  0.6011704 ]\n",
      "  [0.29002278 0.0807057  0.19652895]\n",
      "  [0.07865614 0.1149242  0.62391812]]]\n",
      "============\n",
      "['00000000']\n",
      "['00000000']\n",
      "['00000000']\n",
      "['00000000']\n",
      "['00000000']\n",
      "['00000000']\n",
      "['00000000']\n",
      "['00000000']\n",
      "==============\n"
     ]
    },
    {
     "data": {
      "image/jpeg": "[encoded data removed]",
      "image/png": "[encoded data removed]",
      "text/plain": [
       "<PIL.Image.Image image mode=L size=160x160>"
      ]
     },
     "metadata": {},
     "output_type": "display_data"
    },
    {
     "name": "stdout",
     "output_type": "stream",
     "text": [
      "0.1\n",
      "[[[0.973177   0.53886208 0.5262631 ]\n",
      "  [0.09070398 0.6032145  0.44091675]\n",
      "  [0.26652816 0.4369166  0.49253013]\n",
      "  [0.91468466 0.53301562 0.73521908]\n",
      "  [0.81697192 0.14514894 0.83754249]\n",
      "  [0.66792459 0.2352488  0.6011704 ]\n",
      "  [0.29002278 0.0807057  0.19652895]\n",
      "  [0.07865614 0.1149242  0.62391812]]]\n",
      "Iteration = 77,  Cost = 0.10000000\n",
      "Autograd ArrayBox with value [[[0.973177   0.53886208 0.5262631 ]\n",
      "  [0.09070398 0.6032145  0.44091675]\n",
      "  [0.26652816 0.4369166  0.49253013]\n",
      "  [0.91468466 0.53301562 0.73521908]\n",
      "  [0.81697192 0.14514894 0.83754249]\n",
      "  [0.66792459 0.2352488  0.6011704 ]\n",
      "  [0.29002278 0.0807057  0.19652895]\n",
      "  [0.07865614 0.1149242  0.62391812]]]\n",
      "============\n",
      "['00000000']\n",
      "['00000000']\n",
      "['00000000']\n",
      "['00000000']\n",
      "['00000000']\n",
      "['00000000']\n",
      "['00000000']\n",
      "['00000000']\n",
      "==============\n"
     ]
    },
    {
     "data": {
      "image/jpeg": "[encoded data removed]",
      "image/png": "[encoded data removed]",
      "text/plain": [
       "<PIL.Image.Image image mode=L size=160x160>"
      ]
     },
     "metadata": {},
     "output_type": "display_data"
    },
    {
     "name": "stdout",
     "output_type": "stream",
     "text": [
      "0.1\n",
      "[[[0.973177   0.53886208 0.5262631 ]\n",
      "  [0.09070398 0.6032145  0.44091675]\n",
      "  [0.26652816 0.4369166  0.49253013]\n",
      "  [0.91468466 0.53301562 0.73521908]\n",
      "  [0.81697192 0.14514894 0.83754249]\n",
      "  [0.66792459 0.2352488  0.6011704 ]\n",
      "  [0.29002278 0.0807057  0.19652895]\n",
      "  [0.07865614 0.1149242  0.62391812]]]\n",
      "Iteration = 78,  Cost = 0.10000000\n",
      "Autograd ArrayBox with value [[[0.973177   0.53886208 0.5262631 ]\n",
      "  [0.09070398 0.6032145  0.44091675]\n",
      "  [0.26652816 0.4369166  0.49253013]\n",
      "  [0.91468466 0.53301562 0.73521908]\n",
      "  [0.81697192 0.14514894 0.83754249]\n",
      "  [0.66792459 0.2352488  0.6011704 ]\n",
      "  [0.29002278 0.0807057  0.19652895]\n",
      "  [0.07865614 0.1149242  0.62391812]]]\n",
      "============\n",
      "['00000000']\n",
      "['00000000']\n",
      "['00000000']\n",
      "['00000000']\n",
      "['00000000']\n",
      "['00000000']\n",
      "['00000000']\n",
      "['00000000']\n",
      "==============\n"
     ]
    },
    {
     "data": {
      "image/jpeg": "[encoded data removed]",
      "image/png": "[encoded data removed]",
      "text/plain": [
       "<PIL.Image.Image image mode=L size=160x160>"
      ]
     },
     "metadata": {},
     "output_type": "display_data"
    },
    {
     "name": "stdout",
     "output_type": "stream",
     "text": [
      "0.1\n",
      "[[[0.973177   0.53886208 0.5262631 ]\n",
      "  [0.09070398 0.6032145  0.44091675]\n",
      "  [0.26652816 0.4369166  0.49253013]\n",
      "  [0.91468466 0.53301562 0.73521908]\n",
      "  [0.81697192 0.14514894 0.83754249]\n",
      "  [0.66792459 0.2352488  0.6011704 ]\n",
      "  [0.29002278 0.0807057  0.19652895]\n",
      "  [0.07865614 0.1149242  0.62391812]]]\n",
      "Iteration = 79,  Cost = 0.10000000\n",
      "Autograd ArrayBox with value [[[0.973177   0.53886208 0.5262631 ]\n",
      "  [0.09070398 0.6032145  0.44091675]\n",
      "  [0.26652816 0.4369166  0.49253013]\n",
      "  [0.91468466 0.53301562 0.73521908]\n",
      "  [0.81697192 0.14514894 0.83754249]\n",
      "  [0.66792459 0.2352488  0.6011704 ]\n",
      "  [0.29002278 0.0807057  0.19652895]\n",
      "  [0.07865614 0.1149242  0.62391812]]]\n",
      "============\n",
      "['00000000']\n",
      "['00000000']\n",
      "['00000000']\n",
      "['00000000']\n",
      "['00000000']\n",
      "['00000000']\n",
      "['00000000']\n",
      "['00000000']\n",
      "==============\n"
     ]
    },
    {
     "data": {
      "image/jpeg": "[encoded data removed]",
      "image/png": "[encoded data removed]",
      "text/plain": [
       "<PIL.Image.Image image mode=L size=160x160>"
      ]
     },
     "metadata": {},
     "output_type": "display_data"
    },
    {
     "name": "stdout",
     "output_type": "stream",
     "text": [
      "0.1\n",
      "[[[0.973177   0.53886208 0.5262631 ]\n",
      "  [0.09070398 0.6032145  0.44091675]\n",
      "  [0.26652816 0.4369166  0.49253013]\n",
      "  [0.91468466 0.53301562 0.73521908]\n",
      "  [0.81697192 0.14514894 0.83754249]\n",
      "  [0.66792459 0.2352488  0.6011704 ]\n",
      "  [0.29002278 0.0807057  0.19652895]\n",
      "  [0.07865614 0.1149242  0.62391812]]]\n",
      "Iteration = 80,  Cost = 0.10000000\n",
      "Autograd ArrayBox with value [[[0.973177   0.53886208 0.5262631 ]\n",
      "  [0.09070398 0.6032145  0.44091675]\n",
      "  [0.26652816 0.4369166  0.49253013]\n",
      "  [0.91468466 0.53301562 0.73521908]\n",
      "  [0.81697192 0.14514894 0.83754249]\n",
      "  [0.66792459 0.2352488  0.6011704 ]\n",
      "  [0.29002278 0.0807057  0.19652895]\n",
      "  [0.07865614 0.1149242  0.62391812]]]\n",
      "============\n",
      "['00000000']\n",
      "['00000000']\n",
      "['00000000']\n",
      "['00000000']\n",
      "['00000000']\n",
      "['00000000']\n",
      "['00000000']\n",
      "['00000000']\n",
      "==============\n"
     ]
    },
    {
     "data": {
      "image/jpeg": "[encoded data removed]",
      "image/png": "[encoded data removed]",
      "text/plain": [
       "<PIL.Image.Image image mode=L size=160x160>"
      ]
     },
     "metadata": {},
     "output_type": "display_data"
    },
    {
     "name": "stdout",
     "output_type": "stream",
     "text": [
      "0.1\n",
      "[[[0.973177   0.53886208 0.5262631 ]\n",
      "  [0.09070398 0.6032145  0.44091675]\n",
      "  [0.26652816 0.4369166  0.49253013]\n",
      "  [0.91468466 0.53301562 0.73521908]\n",
      "  [0.81697192 0.14514894 0.83754249]\n",
      "  [0.66792459 0.2352488  0.6011704 ]\n",
      "  [0.29002278 0.0807057  0.19652895]\n",
      "  [0.07865614 0.1149242  0.62391812]]]\n",
      "Iteration = 81,  Cost = 0.10000000\n",
      "Autograd ArrayBox with value [[[0.973177   0.53886208 0.5262631 ]\n",
      "  [0.09070398 0.6032145  0.44091675]\n",
      "  [0.26652816 0.4369166  0.49253013]\n",
      "  [0.91468466 0.53301562 0.73521908]\n",
      "  [0.81697192 0.14514894 0.83754249]\n",
      "  [0.66792459 0.2352488  0.6011704 ]\n",
      "  [0.29002278 0.0807057  0.19652895]\n",
      "  [0.07865614 0.1149242  0.62391812]]]\n",
      "============\n",
      "['00000000']\n",
      "['00000000']\n",
      "['00000000']\n",
      "['00000000']\n",
      "['00000000']\n",
      "['00000000']\n",
      "['00000000']\n",
      "['00000000']\n",
      "==============\n"
     ]
    },
    {
     "data": {
      "image/jpeg": "[encoded data removed]",
      "image/png": "[encoded data removed]",
      "text/plain": [
       "<PIL.Image.Image image mode=L size=160x160>"
      ]
     },
     "metadata": {},
     "output_type": "display_data"
    },
    {
     "name": "stdout",
     "output_type": "stream",
     "text": [
      "0.1\n",
      "[[[0.973177   0.53886208 0.5262631 ]\n",
      "  [0.09070398 0.6032145  0.44091675]\n",
      "  [0.26652816 0.4369166  0.49253013]\n",
      "  [0.91468466 0.53301562 0.73521908]\n",
      "  [0.81697192 0.14514894 0.83754249]\n",
      "  [0.66792459 0.2352488  0.6011704 ]\n",
      "  [0.29002278 0.0807057  0.19652895]\n",
      "  [0.07865614 0.1149242  0.62391812]]]\n",
      "Iteration = 82,  Cost = 0.10000000\n",
      "Autograd ArrayBox with value [[[0.973177   0.53886208 0.5262631 ]\n",
      "  [0.09070398 0.6032145  0.44091675]\n",
      "  [0.26652816 0.4369166  0.49253013]\n",
      "  [0.91468466 0.53301562 0.73521908]\n",
      "  [0.81697192 0.14514894 0.83754249]\n",
      "  [0.66792459 0.2352488  0.6011704 ]\n",
      "  [0.29002278 0.0807057  0.19652895]\n",
      "  [0.07865614 0.1149242  0.62391812]]]\n",
      "============\n",
      "['00000000']\n",
      "['00000000']\n",
      "['00000000']\n",
      "['00000000']\n",
      "['00000000']\n",
      "['00000000']\n",
      "['00000000']\n",
      "['00000000']\n",
      "==============\n"
     ]
    },
    {
     "data": {
      "image/jpeg": "[encoded data removed]",
      "image/png": "[encoded data removed]",
      "text/plain": [
       "<PIL.Image.Image image mode=L size=160x160>"
      ]
     },
     "metadata": {},
     "output_type": "display_data"
    },
    {
     "name": "stdout",
     "output_type": "stream",
     "text": [
      "0.1\n",
      "[[[0.973177   0.53886208 0.5262631 ]\n",
      "  [0.09070398 0.6032145  0.44091675]\n",
      "  [0.26652816 0.4369166  0.49253013]\n",
      "  [0.91468466 0.53301562 0.73521908]\n",
      "  [0.81697192 0.14514894 0.83754249]\n",
      "  [0.66792459 0.2352488  0.6011704 ]\n",
      "  [0.29002278 0.0807057  0.19652895]\n",
      "  [0.07865614 0.1149242  0.62391812]]]\n",
      "Iteration = 83,  Cost = 0.10000000\n",
      "Autograd ArrayBox with value [[[0.973177   0.53886208 0.5262631 ]\n",
      "  [0.09070398 0.6032145  0.44091675]\n",
      "  [0.26652816 0.4369166  0.49253013]\n",
      "  [0.91468466 0.53301562 0.73521908]\n",
      "  [0.81697192 0.14514894 0.83754249]\n",
      "  [0.66792459 0.2352488  0.6011704 ]\n",
      "  [0.29002278 0.0807057  0.19652895]\n",
      "  [0.07865614 0.1149242  0.62391812]]]\n",
      "============\n",
      "['00000000']\n",
      "['00000000']\n",
      "['00000000']\n",
      "['00000000']\n",
      "['00000000']\n",
      "['00000000']\n",
      "['00000000']\n",
      "['00000000']\n",
      "==============\n"
     ]
    },
    {
     "data": {
      "image/jpeg": "[encoded data removed]",
      "image/png": "[encoded data removed]",
      "text/plain": [
       "<PIL.Image.Image image mode=L size=160x160>"
      ]
     },
     "metadata": {},
     "output_type": "display_data"
    },
    {
     "name": "stdout",
     "output_type": "stream",
     "text": [
      "0.1\n",
      "[[[0.973177   0.53886208 0.5262631 ]\n",
      "  [0.09070398 0.6032145  0.44091675]\n",
      "  [0.26652816 0.4369166  0.49253013]\n",
      "  [0.91468466 0.53301562 0.73521908]\n",
      "  [0.81697192 0.14514894 0.83754249]\n",
      "  [0.66792459 0.2352488  0.6011704 ]\n",
      "  [0.29002278 0.0807057  0.19652895]\n",
      "  [0.07865614 0.1149242  0.62391812]]]\n",
      "Iteration = 84,  Cost = 0.10000000\n",
      "Autograd ArrayBox with value [[[0.973177   0.53886208 0.5262631 ]\n",
      "  [0.09070398 0.6032145  0.44091675]\n",
      "  [0.26652816 0.4369166  0.49253013]\n",
      "  [0.91468466 0.53301562 0.73521908]\n",
      "  [0.81697192 0.14514894 0.83754249]\n",
      "  [0.66792459 0.2352488  0.6011704 ]\n",
      "  [0.29002278 0.0807057  0.19652895]\n",
      "  [0.07865614 0.1149242  0.62391812]]]\n",
      "============\n",
      "['00000000']\n",
      "['00000000']\n",
      "['00000000']\n",
      "['00000000']\n",
      "['00000000']\n",
      "['00000000']\n",
      "['00000000']\n",
      "['00000000']\n",
      "==============\n"
     ]
    },
    {
     "data": {
      "image/jpeg": "[encoded data removed]",
      "image/png": "[encoded data removed]",
      "text/plain": [
       "<PIL.Image.Image image mode=L size=160x160>"
      ]
     },
     "metadata": {},
     "output_type": "display_data"
    },
    {
     "name": "stdout",
     "output_type": "stream",
     "text": [
      "0.1\n",
      "[[[0.973177   0.53886208 0.5262631 ]\n",
      "  [0.09070398 0.6032145  0.44091675]\n",
      "  [0.26652816 0.4369166  0.49253013]\n",
      "  [0.91468466 0.53301562 0.73521908]\n",
      "  [0.81697192 0.14514894 0.83754249]\n",
      "  [0.66792459 0.2352488  0.6011704 ]\n",
      "  [0.29002278 0.0807057  0.19652895]\n",
      "  [0.07865614 0.1149242  0.62391812]]]\n",
      "Iteration = 85,  Cost = 0.10000000\n",
      "Autograd ArrayBox with value [[[0.973177   0.53886208 0.5262631 ]\n",
      "  [0.09070398 0.6032145  0.44091675]\n",
      "  [0.26652816 0.4369166  0.49253013]\n",
      "  [0.91468466 0.53301562 0.73521908]\n",
      "  [0.81697192 0.14514894 0.83754249]\n",
      "  [0.66792459 0.2352488  0.6011704 ]\n",
      "  [0.29002278 0.0807057  0.19652895]\n",
      "  [0.07865614 0.1149242  0.62391812]]]\n",
      "============\n",
      "['00000000']\n",
      "['00000000']\n",
      "['00000000']\n",
      "['00000000']\n",
      "['00000000']\n",
      "['00000000']\n",
      "['00000000']\n",
      "['00000000']\n",
      "==============\n"
     ]
    },
    {
     "data": {
      "image/jpeg": "[encoded data removed]",
      "image/png": "[encoded data removed]",
      "text/plain": [
       "<PIL.Image.Image image mode=L size=160x160>"
      ]
     },
     "metadata": {},
     "output_type": "display_data"
    },
    {
     "name": "stdout",
     "output_type": "stream",
     "text": [
      "0.1\n",
      "[[[0.973177   0.53886208 0.5262631 ]\n",
      "  [0.09070398 0.6032145  0.44091675]\n",
      "  [0.26652816 0.4369166  0.49253013]\n",
      "  [0.91468466 0.53301562 0.73521908]\n",
      "  [0.81697192 0.14514894 0.83754249]\n",
      "  [0.66792459 0.2352488  0.6011704 ]\n",
      "  [0.29002278 0.0807057  0.19652895]\n",
      "  [0.07865614 0.1149242  0.62391812]]]\n",
      "Iteration = 86,  Cost = 0.10000000\n",
      "Autograd ArrayBox with value [[[0.973177   0.53886208 0.5262631 ]\n",
      "  [0.09070398 0.6032145  0.44091675]\n",
      "  [0.26652816 0.4369166  0.49253013]\n",
      "  [0.91468466 0.53301562 0.73521908]\n",
      "  [0.81697192 0.14514894 0.83754249]\n",
      "  [0.66792459 0.2352488  0.6011704 ]\n",
      "  [0.29002278 0.0807057  0.19652895]\n",
      "  [0.07865614 0.1149242  0.62391812]]]\n",
      "============\n",
      "['00000000']\n",
      "['00000000']\n",
      "['00000000']\n",
      "['00000000']\n",
      "['00000000']\n",
      "['00000000']\n",
      "['00000000']\n",
      "['00000000']\n",
      "==============\n"
     ]
    },
    {
     "data": {
      "image/jpeg": "[encoded data removed]",
      "image/png": "[encoded data removed]",
      "text/plain": [
       "<PIL.Image.Image image mode=L size=160x160>"
      ]
     },
     "metadata": {},
     "output_type": "display_data"
    },
    {
     "name": "stdout",
     "output_type": "stream",
     "text": [
      "0.1\n",
      "[[[0.973177   0.53886208 0.5262631 ]\n",
      "  [0.09070398 0.6032145  0.44091675]\n",
      "  [0.26652816 0.4369166  0.49253013]\n",
      "  [0.91468466 0.53301562 0.73521908]\n",
      "  [0.81697192 0.14514894 0.83754249]\n",
      "  [0.66792459 0.2352488  0.6011704 ]\n",
      "  [0.29002278 0.0807057  0.19652895]\n",
      "  [0.07865614 0.1149242  0.62391812]]]\n",
      "Iteration = 87,  Cost = 0.10000000\n",
      "Autograd ArrayBox with value [[[0.973177   0.53886208 0.5262631 ]\n",
      "  [0.09070398 0.6032145  0.44091675]\n",
      "  [0.26652816 0.4369166  0.49253013]\n",
      "  [0.91468466 0.53301562 0.73521908]\n",
      "  [0.81697192 0.14514894 0.83754249]\n",
      "  [0.66792459 0.2352488  0.6011704 ]\n",
      "  [0.29002278 0.0807057  0.19652895]\n",
      "  [0.07865614 0.1149242  0.62391812]]]\n",
      "============\n",
      "['00000000']\n",
      "['00000000']\n",
      "['00000000']\n",
      "['00000000']\n",
      "['00000000']\n",
      "['00000000']\n",
      "['00000000']\n",
      "['00000000']\n",
      "==============\n"
     ]
    },
    {
     "data": {
      "image/jpeg": "[encoded data removed]",
      "image/png": "[encoded data removed]",
      "text/plain": [
       "<PIL.Image.Image image mode=L size=160x160>"
      ]
     },
     "metadata": {},
     "output_type": "display_data"
    },
    {
     "name": "stdout",
     "output_type": "stream",
     "text": [
      "0.1\n",
      "[[[0.973177   0.53886208 0.5262631 ]\n",
      "  [0.09070398 0.6032145  0.44091675]\n",
      "  [0.26652816 0.4369166  0.49253013]\n",
      "  [0.91468466 0.53301562 0.73521908]\n",
      "  [0.81697192 0.14514894 0.83754249]\n",
      "  [0.66792459 0.2352488  0.6011704 ]\n",
      "  [0.29002278 0.0807057  0.19652895]\n",
      "  [0.07865614 0.1149242  0.62391812]]]\n",
      "Iteration = 88,  Cost = 0.10000000\n",
      "Autograd ArrayBox with value [[[0.973177   0.53886208 0.5262631 ]\n",
      "  [0.09070398 0.6032145  0.44091675]\n",
      "  [0.26652816 0.4369166  0.49253013]\n",
      "  [0.91468466 0.53301562 0.73521908]\n",
      "  [0.81697192 0.14514894 0.83754249]\n",
      "  [0.66792459 0.2352488  0.6011704 ]\n",
      "  [0.29002278 0.0807057  0.19652895]\n",
      "  [0.07865614 0.1149242  0.62391812]]]\n",
      "============\n",
      "['00000000']\n",
      "['00000000']\n",
      "['00000000']\n",
      "['00000000']\n",
      "['00000000']\n",
      "['00000000']\n",
      "['00000000']\n",
      "['00000000']\n",
      "==============\n"
     ]
    },
    {
     "data": {
      "image/jpeg": "[encoded data removed]",
      "image/png": "[encoded data removed]",
      "text/plain": [
       "<PIL.Image.Image image mode=L size=160x160>"
      ]
     },
     "metadata": {},
     "output_type": "display_data"
    },
    {
     "name": "stdout",
     "output_type": "stream",
     "text": [
      "0.1\n",
      "[[[0.973177   0.53886208 0.5262631 ]\n",
      "  [0.09070398 0.6032145  0.44091675]\n",
      "  [0.26652816 0.4369166  0.49253013]\n",
      "  [0.91468466 0.53301562 0.73521908]\n",
      "  [0.81697192 0.14514894 0.83754249]\n",
      "  [0.66792459 0.2352488  0.6011704 ]\n",
      "  [0.29002278 0.0807057  0.19652895]\n",
      "  [0.07865614 0.1149242  0.62391812]]]\n",
      "Iteration = 89,  Cost = 0.10000000\n",
      "Autograd ArrayBox with value [[[0.973177   0.53886208 0.5262631 ]\n",
      "  [0.09070398 0.6032145  0.44091675]\n",
      "  [0.26652816 0.4369166  0.49253013]\n",
      "  [0.91468466 0.53301562 0.73521908]\n",
      "  [0.81697192 0.14514894 0.83754249]\n",
      "  [0.66792459 0.2352488  0.6011704 ]\n",
      "  [0.29002278 0.0807057  0.19652895]\n",
      "  [0.07865614 0.1149242  0.62391812]]]\n",
      "============\n",
      "['00000000']\n",
      "['00000000']\n",
      "['00000000']\n",
      "['00000000']\n",
      "['00000000']\n",
      "['00000000']\n",
      "['00000000']\n",
      "['00000000']\n",
      "==============\n"
     ]
    },
    {
     "data": {
      "image/jpeg": "[encoded data removed]",
      "image/png": "[encoded data removed]",
      "text/plain": [
       "<PIL.Image.Image image mode=L size=160x160>"
      ]
     },
     "metadata": {},
     "output_type": "display_data"
    },
    {
     "name": "stdout",
     "output_type": "stream",
     "text": [
      "0.1\n",
      "[[[0.973177   0.53886208 0.5262631 ]\n",
      "  [0.09070398 0.6032145  0.44091675]\n",
      "  [0.26652816 0.4369166  0.49253013]\n",
      "  [0.91468466 0.53301562 0.73521908]\n",
      "  [0.81697192 0.14514894 0.83754249]\n",
      "  [0.66792459 0.2352488  0.6011704 ]\n",
      "  [0.29002278 0.0807057  0.19652895]\n",
      "  [0.07865614 0.1149242  0.62391812]]]\n",
      "Iteration = 90,  Cost = 0.10000000\n",
      "Autograd ArrayBox with value [[[0.973177   0.53886208 0.5262631 ]\n",
      "  [0.09070398 0.6032145  0.44091675]\n",
      "  [0.26652816 0.4369166  0.49253013]\n",
      "  [0.91468466 0.53301562 0.73521908]\n",
      "  [0.81697192 0.14514894 0.83754249]\n",
      "  [0.66792459 0.2352488  0.6011704 ]\n",
      "  [0.29002278 0.0807057  0.19652895]\n",
      "  [0.07865614 0.1149242  0.62391812]]]\n",
      "============\n",
      "['00000000']\n",
      "['00000000']\n",
      "['00000000']\n",
      "['00000000']\n",
      "['00000000']\n",
      "['00000000']\n",
      "['00000000']\n",
      "['00000000']\n",
      "==============\n"
     ]
    },
    {
     "data": {
      "image/jpeg": "[encoded data removed]",
      "image/png": "[encoded data removed]",
      "text/plain": [
       "<PIL.Image.Image image mode=L size=160x160>"
      ]
     },
     "metadata": {},
     "output_type": "display_data"
    },
    {
     "name": "stdout",
     "output_type": "stream",
     "text": [
      "0.1\n",
      "[[[0.973177   0.53886208 0.5262631 ]\n",
      "  [0.09070398 0.6032145  0.44091675]\n",
      "  [0.26652816 0.4369166  0.49253013]\n",
      "  [0.91468466 0.53301562 0.73521908]\n",
      "  [0.81697192 0.14514894 0.83754249]\n",
      "  [0.66792459 0.2352488  0.6011704 ]\n",
      "  [0.29002278 0.0807057  0.19652895]\n",
      "  [0.07865614 0.1149242  0.62391812]]]\n",
      "Iteration = 91,  Cost = 0.10000000\n",
      "Autograd ArrayBox with value [[[0.973177   0.53886208 0.5262631 ]\n",
      "  [0.09070398 0.6032145  0.44091675]\n",
      "  [0.26652816 0.4369166  0.49253013]\n",
      "  [0.91468466 0.53301562 0.73521908]\n",
      "  [0.81697192 0.14514894 0.83754249]\n",
      "  [0.66792459 0.2352488  0.6011704 ]\n",
      "  [0.29002278 0.0807057  0.19652895]\n",
      "  [0.07865614 0.1149242  0.62391812]]]\n",
      "============\n",
      "['00000000']\n",
      "['00000000']\n",
      "['00000000']\n",
      "['00000000']\n",
      "['00000000']\n",
      "['00000000']\n",
      "['00000000']\n",
      "['00000000']\n",
      "==============\n"
     ]
    },
    {
     "data": {
      "image/jpeg": "[encoded data removed]",
      "image/png": "[encoded data removed]",
      "text/plain": [
       "<PIL.Image.Image image mode=L size=160x160>"
      ]
     },
     "metadata": {},
     "output_type": "display_data"
    },
    {
     "name": "stdout",
     "output_type": "stream",
     "text": [
      "0.1\n",
      "[[[0.973177   0.53886208 0.5262631 ]\n",
      "  [0.09070398 0.6032145  0.44091675]\n",
      "  [0.26652816 0.4369166  0.49253013]\n",
      "  [0.91468466 0.53301562 0.73521908]\n",
      "  [0.81697192 0.14514894 0.83754249]\n",
      "  [0.66792459 0.2352488  0.6011704 ]\n",
      "  [0.29002278 0.0807057  0.19652895]\n",
      "  [0.07865614 0.1149242  0.62391812]]]\n",
      "Iteration = 92,  Cost = 0.10000000\n",
      "Autograd ArrayBox with value [[[0.973177   0.53886208 0.5262631 ]\n",
      "  [0.09070398 0.6032145  0.44091675]\n",
      "  [0.26652816 0.4369166  0.49253013]\n",
      "  [0.91468466 0.53301562 0.73521908]\n",
      "  [0.81697192 0.14514894 0.83754249]\n",
      "  [0.66792459 0.2352488  0.6011704 ]\n",
      "  [0.29002278 0.0807057  0.19652895]\n",
      "  [0.07865614 0.1149242  0.62391812]]]\n",
      "============\n",
      "['00000000']\n",
      "['00000000']\n",
      "['00000000']\n",
      "['00000000']\n",
      "['00000000']\n",
      "['00000000']\n",
      "['00000000']\n",
      "['00000000']\n",
      "==============\n"
     ]
    },
    {
     "data": {
      "image/jpeg": "[encoded data removed]",
      "image/png": "[encoded data removed]",
      "text/plain": [
       "<PIL.Image.Image image mode=L size=160x160>"
      ]
     },
     "metadata": {},
     "output_type": "display_data"
    },
    {
     "name": "stdout",
     "output_type": "stream",
     "text": [
      "0.1\n",
      "[[[0.973177   0.53886208 0.5262631 ]\n",
      "  [0.09070398 0.6032145  0.44091675]\n",
      "  [0.26652816 0.4369166  0.49253013]\n",
      "  [0.91468466 0.53301562 0.73521908]\n",
      "  [0.81697192 0.14514894 0.83754249]\n",
      "  [0.66792459 0.2352488  0.6011704 ]\n",
      "  [0.29002278 0.0807057  0.19652895]\n",
      "  [0.07865614 0.1149242  0.62391812]]]\n",
      "Iteration = 93,  Cost = 0.10000000\n",
      "Autograd ArrayBox with value [[[0.973177   0.53886208 0.5262631 ]\n",
      "  [0.09070398 0.6032145  0.44091675]\n",
      "  [0.26652816 0.4369166  0.49253013]\n",
      "  [0.91468466 0.53301562 0.73521908]\n",
      "  [0.81697192 0.14514894 0.83754249]\n",
      "  [0.66792459 0.2352488  0.6011704 ]\n",
      "  [0.29002278 0.0807057  0.19652895]\n",
      "  [0.07865614 0.1149242  0.62391812]]]\n",
      "============\n",
      "['00000000']\n",
      "['00000000']\n",
      "['00000000']\n",
      "['00000000']\n",
      "['00000000']\n",
      "['00000000']\n",
      "['00000000']\n",
      "['00000000']\n",
      "==============\n"
     ]
    },
    {
     "data": {
      "image/jpeg": "[encoded data removed]",
      "image/png": "[encoded data removed]",
      "text/plain": [
       "<PIL.Image.Image image mode=L size=160x160>"
      ]
     },
     "metadata": {},
     "output_type": "display_data"
    },
    {
     "name": "stdout",
     "output_type": "stream",
     "text": [
      "0.1\n",
      "[[[0.973177   0.53886208 0.5262631 ]\n",
      "  [0.09070398 0.6032145  0.44091675]\n",
      "  [0.26652816 0.4369166  0.49253013]\n",
      "  [0.91468466 0.53301562 0.73521908]\n",
      "  [0.81697192 0.14514894 0.83754249]\n",
      "  [0.66792459 0.2352488  0.6011704 ]\n",
      "  [0.29002278 0.0807057  0.19652895]\n",
      "  [0.07865614 0.1149242  0.62391812]]]\n",
      "Iteration = 94,  Cost = 0.10000000\n",
      "Autograd ArrayBox with value [[[0.973177   0.53886208 0.5262631 ]\n",
      "  [0.09070398 0.6032145  0.44091675]\n",
      "  [0.26652816 0.4369166  0.49253013]\n",
      "  [0.91468466 0.53301562 0.73521908]\n",
      "  [0.81697192 0.14514894 0.83754249]\n",
      "  [0.66792459 0.2352488  0.6011704 ]\n",
      "  [0.29002278 0.0807057  0.19652895]\n",
      "  [0.07865614 0.1149242  0.62391812]]]\n",
      "============\n",
      "['00000000']\n",
      "['00000000']\n",
      "['00000000']\n",
      "['00000000']\n",
      "['00000000']\n",
      "['00000000']\n",
      "['00000000']\n",
      "['00000000']\n",
      "==============\n"
     ]
    },
    {
     "data": {
      "image/jpeg": "[encoded data removed]",
      "image/png": "[encoded data removed]",
      "text/plain": [
       "<PIL.Image.Image image mode=L size=160x160>"
      ]
     },
     "metadata": {},
     "output_type": "display_data"
    },
    {
     "name": "stdout",
     "output_type": "stream",
     "text": [
      "0.1\n",
      "[[[0.973177   0.53886208 0.5262631 ]\n",
      "  [0.09070398 0.6032145  0.44091675]\n",
      "  [0.26652816 0.4369166  0.49253013]\n",
      "  [0.91468466 0.53301562 0.73521908]\n",
      "  [0.81697192 0.14514894 0.83754249]\n",
      "  [0.66792459 0.2352488  0.6011704 ]\n",
      "  [0.29002278 0.0807057  0.19652895]\n",
      "  [0.07865614 0.1149242  0.62391812]]]\n",
      "Iteration = 95,  Cost = 0.10000000\n",
      "Autograd ArrayBox with value [[[0.973177   0.53886208 0.5262631 ]\n",
      "  [0.09070398 0.6032145  0.44091675]\n",
      "  [0.26652816 0.4369166  0.49253013]\n",
      "  [0.91468466 0.53301562 0.73521908]\n",
      "  [0.81697192 0.14514894 0.83754249]\n",
      "  [0.66792459 0.2352488  0.6011704 ]\n",
      "  [0.29002278 0.0807057  0.19652895]\n",
      "  [0.07865614 0.1149242  0.62391812]]]\n",
      "============\n",
      "['00000000']\n",
      "['00000000']\n",
      "['00000000']\n",
      "['00000000']\n",
      "['00000000']\n",
      "['00000000']\n",
      "['00000000']\n",
      "['00000000']\n",
      "==============\n"
     ]
    },
    {
     "data": {
      "image/jpeg": "[encoded data removed]",
      "image/png": "[encoded data removed]",
      "text/plain": [
       "<PIL.Image.Image image mode=L size=160x160>"
      ]
     },
     "metadata": {},
     "output_type": "display_data"
    },
    {
     "name": "stdout",
     "output_type": "stream",
     "text": [
      "0.1\n",
      "[[[0.973177   0.53886208 0.5262631 ]\n",
      "  [0.09070398 0.6032145  0.44091675]\n",
      "  [0.26652816 0.4369166  0.49253013]\n",
      "  [0.91468466 0.53301562 0.73521908]\n",
      "  [0.81697192 0.14514894 0.83754249]\n",
      "  [0.66792459 0.2352488  0.6011704 ]\n",
      "  [0.29002278 0.0807057  0.19652895]\n",
      "  [0.07865614 0.1149242  0.62391812]]]\n",
      "Iteration = 96,  Cost = 0.10000000\n",
      "Autograd ArrayBox with value [[[0.973177   0.53886208 0.5262631 ]\n",
      "  [0.09070398 0.6032145  0.44091675]\n",
      "  [0.26652816 0.4369166  0.49253013]\n",
      "  [0.91468466 0.53301562 0.73521908]\n",
      "  [0.81697192 0.14514894 0.83754249]\n",
      "  [0.66792459 0.2352488  0.6011704 ]\n",
      "  [0.29002278 0.0807057  0.19652895]\n",
      "  [0.07865614 0.1149242  0.62391812]]]\n",
      "============\n",
      "['00000000']\n",
      "['00000000']\n",
      "['00000000']\n",
      "['00000000']\n",
      "['00000000']\n",
      "['00000000']\n",
      "['00000000']\n",
      "['00000000']\n",
      "==============\n"
     ]
    },
    {
     "data": {
      "image/jpeg": "[encoded data removed]",
      "image/png": "[encoded data removed]",
      "text/plain": [
       "<PIL.Image.Image image mode=L size=160x160>"
      ]
     },
     "metadata": {},
     "output_type": "display_data"
    },
    {
     "name": "stdout",
     "output_type": "stream",
     "text": [
      "0.1\n",
      "[[[0.973177   0.53886208 0.5262631 ]\n",
      "  [0.09070398 0.6032145  0.44091675]\n",
      "  [0.26652816 0.4369166  0.49253013]\n",
      "  [0.91468466 0.53301562 0.73521908]\n",
      "  [0.81697192 0.14514894 0.83754249]\n",
      "  [0.66792459 0.2352488  0.6011704 ]\n",
      "  [0.29002278 0.0807057  0.19652895]\n",
      "  [0.07865614 0.1149242  0.62391812]]]\n",
      "Iteration = 97,  Cost = 0.10000000\n",
      "Autograd ArrayBox with value [[[0.973177   0.53886208 0.5262631 ]\n",
      "  [0.09070398 0.6032145  0.44091675]\n",
      "  [0.26652816 0.4369166  0.49253013]\n",
      "  [0.91468466 0.53301562 0.73521908]\n",
      "  [0.81697192 0.14514894 0.83754249]\n",
      "  [0.66792459 0.2352488  0.6011704 ]\n",
      "  [0.29002278 0.0807057  0.19652895]\n",
      "  [0.07865614 0.1149242  0.62391812]]]\n",
      "============\n",
      "['00000000']\n",
      "['00000000']\n",
      "['00000000']\n",
      "['00000000']\n",
      "['00000000']\n",
      "['00000000']\n",
      "['00000000']\n",
      "['00000000']\n",
      "==============\n"
     ]
    },
    {
     "data": {
      "image/jpeg": "[encoded data removed]",
      "image/png": "[encoded data removed]",
      "text/plain": [
       "<PIL.Image.Image image mode=L size=160x160>"
      ]
     },
     "metadata": {},
     "output_type": "display_data"
    },
    {
     "name": "stdout",
     "output_type": "stream",
     "text": [
      "0.1\n",
      "[[[0.973177   0.53886208 0.5262631 ]\n",
      "  [0.09070398 0.6032145  0.44091675]\n",
      "  [0.26652816 0.4369166  0.49253013]\n",
      "  [0.91468466 0.53301562 0.73521908]\n",
      "  [0.81697192 0.14514894 0.83754249]\n",
      "  [0.66792459 0.2352488  0.6011704 ]\n",
      "  [0.29002278 0.0807057  0.19652895]\n",
      "  [0.07865614 0.1149242  0.62391812]]]\n",
      "Iteration = 98,  Cost = 0.10000000\n",
      "Autograd ArrayBox with value [[[0.973177   0.53886208 0.5262631 ]\n",
      "  [0.09070398 0.6032145  0.44091675]\n",
      "  [0.26652816 0.4369166  0.49253013]\n",
      "  [0.91468466 0.53301562 0.73521908]\n",
      "  [0.81697192 0.14514894 0.83754249]\n",
      "  [0.66792459 0.2352488  0.6011704 ]\n",
      "  [0.29002278 0.0807057  0.19652895]\n",
      "  [0.07865614 0.1149242  0.62391812]]]\n",
      "============\n",
      "['00000000']\n",
      "['00000000']\n",
      "['00000000']\n",
      "['00000000']\n",
      "['00000000']\n",
      "['00000000']\n",
      "['00000000']\n",
      "['00000000']\n",
      "==============\n"
     ]
    },
    {
     "data": {
      "image/jpeg": "[encoded data removed]",
      "image/png": "[encoded data removed]",
      "text/plain": [
       "<PIL.Image.Image image mode=L size=160x160>"
      ]
     },
     "metadata": {},
     "output_type": "display_data"
    },
    {
     "name": "stdout",
     "output_type": "stream",
     "text": [
      "0.1\n",
      "[[[0.973177   0.53886208 0.5262631 ]\n",
      "  [0.09070398 0.6032145  0.44091675]\n",
      "  [0.26652816 0.4369166  0.49253013]\n",
      "  [0.91468466 0.53301562 0.73521908]\n",
      "  [0.81697192 0.14514894 0.83754249]\n",
      "  [0.66792459 0.2352488  0.6011704 ]\n",
      "  [0.29002278 0.0807057  0.19652895]\n",
      "  [0.07865614 0.1149242  0.62391812]]]\n",
      "Iteration = 99,  Cost = 0.10000000\n",
      "Optimized weights: [[[0.973177   0.53886208 0.5262631 ]\n",
      "  [0.09070398 0.6032145  0.44091675]\n",
      "  [0.26652816 0.4369166  0.49253013]\n",
      "  [0.91468466 0.53301562 0.73521908]\n",
      "  [0.81697192 0.14514894 0.83754249]\n",
      "  [0.66792459 0.2352488  0.6011704 ]\n",
      "  [0.29002278 0.0807057  0.19652895]\n",
      "  [0.07865614 0.1149242  0.62391812]]]\n"
     ]
    }
   ],
   "source": [
    "# Initialize the optimizer\n",
    "opt = qml.AdamOptimizer(stepsize=0.01)\n",
    "\n",
    "# Set the number of steps\n",
    "steps = 100\n",
    "\n",
    "# Optimization loop\n",
    "for it in range(steps):\n",
    "    weights_p1, cost = opt.step_and_cost(objective, weights_p1)\n",
    "    print(weights_p1)\n",
    "    print(\"Iteration = {:},  Cost = {:.8f}\".format(it, cost))\n",
    "\n",
    "# Output the optimized parameters\n",
    "print(\"Optimized weights: {}\".format(weights_p1))\n",
    "\n",
    "def callback(params):\n",
    "    print(\"Current loss:\", objective(params))\n",
    "    "
   ]
  },
  {
   "cell_type": "code",
   "execution_count": null,
   "metadata": {},
   "outputs": [
    {
     "name": "stdout",
     "output_type": "stream",
     "text": [
      "0: ─╭StronglyEntanglingLayers(M0)─┤ ╭Probs\n",
      "1: ─├StronglyEntanglingLayers(M0)─┤ ├Probs\n",
      "2: ─├StronglyEntanglingLayers(M0)─┤ ├Probs\n",
      "3: ─├StronglyEntanglingLayers(M0)─┤ ├Probs\n",
      "4: ─├StronglyEntanglingLayers(M0)─┤ ├Probs\n",
      "5: ─├StronglyEntanglingLayers(M0)─┤ ├Probs\n",
      "6: ─├StronglyEntanglingLayers(M0)─┤ ├Probs\n",
      "7: ─╰StronglyEntanglingLayers(M0)─┤ ╰Probs\n",
      "M0 = \n",
      "[[[0.973177   0.53886208 0.5262631 ]\n",
      "  [0.09070398 0.6032145  0.44091675]\n",
      "  [0.26652816 0.4369166  0.49253013]\n",
      "  [0.91468466 0.53301562 0.73521908]\n",
      "  [0.81697192 0.14514894 0.83754249]\n",
      "  [0.66792459 0.2352488  0.6011704 ]\n",
      "  [0.29002278 0.0807057  0.19652895]\n",
      "  [0.07865614 0.1149242  0.62391812]]]\n",
      "[0.973177   0.53886208 0.5262631  0.09070398 0.6032145  0.44091675\n",
      " 0.26652816 0.4369166  0.49253013 0.91468466 0.53301562 0.73521908\n",
      " 0.81697192 0.14514894 0.83754249 0.66792459 0.2352488  0.6011704\n",
      " 0.29002278 0.0807057  0.19652895 0.07865614 0.1149242  0.62391812]\n",
      "============\n"
     ]
    },
    {
     "ename": "IndexError",
     "evalue": "tuple index out of range",
     "output_type": "error",
     "traceback": [
      "\u001b[1;31m---------------------------------------------------------------------------\u001b[0m",
      "\u001b[1;31mIndexError\u001b[0m                                Traceback (most recent call last)",
      "Cell \u001b[1;32mIn[30], line 12\u001b[0m\n\u001b[0;32m      9\u001b[0m \u001b[38;5;28mprint\u001b[39m(qml\u001b[38;5;241m.\u001b[39mdraw(circuit)(weights_p1,\u001b[38;5;241m1\u001b[39m))\n\u001b[0;32m     11\u001b[0m \u001b[38;5;66;03m# Optimize using BFGS algorithm\u001b[39;00m\n\u001b[1;32m---> 12\u001b[0m opt \u001b[38;5;241m=\u001b[39m \u001b[43mminimize\u001b[49m\u001b[43m(\u001b[49m\u001b[43mobjective\u001b[49m\u001b[43m,\u001b[49m\u001b[43m \u001b[49m\u001b[43minit_params\u001b[49m\u001b[43m,\u001b[49m\u001b[43m \u001b[49m\u001b[43mmethod\u001b[49m\u001b[38;5;241;43m=\u001b[39;49m\u001b[38;5;124;43m'\u001b[39;49m\u001b[38;5;124;43mNelder-Mead\u001b[39;49m\u001b[38;5;124;43m'\u001b[39;49m\u001b[43m,\u001b[49m\u001b[43mcallback\u001b[49m\u001b[38;5;241;43m=\u001b[39;49m\u001b[43mcallback\u001b[49m\u001b[43m)\u001b[49m\n",
      "File \u001b[1;32mc:\\Users\\acade\\anaconda3\\envs\\q1\\Lib\\site-packages\\scipy\\optimize\\_minimize.py:698\u001b[0m, in \u001b[0;36mminimize\u001b[1;34m(fun, x0, args, method, jac, hess, hessp, bounds, constraints, tol, callback, options)\u001b[0m\n\u001b[0;32m    695\u001b[0m callback \u001b[38;5;241m=\u001b[39m _wrap_callback(callback, meth)\n\u001b[0;32m    697\u001b[0m \u001b[38;5;28;01mif\u001b[39;00m meth \u001b[38;5;241m==\u001b[39m \u001b[38;5;124m'\u001b[39m\u001b[38;5;124mnelder-mead\u001b[39m\u001b[38;5;124m'\u001b[39m:\n\u001b[1;32m--> 698\u001b[0m     res \u001b[38;5;241m=\u001b[39m \u001b[43m_minimize_neldermead\u001b[49m\u001b[43m(\u001b[49m\u001b[43mfun\u001b[49m\u001b[43m,\u001b[49m\u001b[43m \u001b[49m\u001b[43mx0\u001b[49m\u001b[43m,\u001b[49m\u001b[43m \u001b[49m\u001b[43margs\u001b[49m\u001b[43m,\u001b[49m\u001b[43m \u001b[49m\u001b[43mcallback\u001b[49m\u001b[43m,\u001b[49m\u001b[43m \u001b[49m\u001b[43mbounds\u001b[49m\u001b[38;5;241;43m=\u001b[39;49m\u001b[43mbounds\u001b[49m\u001b[43m,\u001b[49m\n\u001b[0;32m    699\u001b[0m \u001b[43m                               \u001b[49m\u001b[38;5;241;43m*\u001b[39;49m\u001b[38;5;241;43m*\u001b[39;49m\u001b[43moptions\u001b[49m\u001b[43m)\u001b[49m\n\u001b[0;32m    700\u001b[0m \u001b[38;5;28;01melif\u001b[39;00m meth \u001b[38;5;241m==\u001b[39m \u001b[38;5;124m'\u001b[39m\u001b[38;5;124mpowell\u001b[39m\u001b[38;5;124m'\u001b[39m:\n\u001b[0;32m    701\u001b[0m     res \u001b[38;5;241m=\u001b[39m _minimize_powell(fun, x0, args, callback, bounds, \u001b[38;5;241m*\u001b[39m\u001b[38;5;241m*\u001b[39moptions)\n",
      "File \u001b[1;32mc:\\Users\\acade\\anaconda3\\envs\\q1\\Lib\\site-packages\\scipy\\optimize\\_optimize.py:899\u001b[0m, in \u001b[0;36m_minimize_neldermead\u001b[1;34m(func, x0, args, callback, maxiter, maxfev, disp, return_all, initial_simplex, xatol, fatol, adaptive, bounds, **unknown_options)\u001b[0m\n\u001b[0;32m    897\u001b[0m \u001b[38;5;28;01mtry\u001b[39;00m:\n\u001b[0;32m    898\u001b[0m     \u001b[38;5;28;01mfor\u001b[39;00m k \u001b[38;5;129;01min\u001b[39;00m \u001b[38;5;28mrange\u001b[39m(N \u001b[38;5;241m+\u001b[39m \u001b[38;5;241m1\u001b[39m):\n\u001b[1;32m--> 899\u001b[0m         fsim[k] \u001b[38;5;241m=\u001b[39m \u001b[43mfunc\u001b[49m\u001b[43m(\u001b[49m\u001b[43msim\u001b[49m\u001b[43m[\u001b[49m\u001b[43mk\u001b[49m\u001b[43m]\u001b[49m\u001b[43m)\u001b[49m\n\u001b[0;32m    900\u001b[0m \u001b[38;5;28;01mexcept\u001b[39;00m _MaxFuncCallError:\n\u001b[0;32m    901\u001b[0m     \u001b[38;5;28;01mpass\u001b[39;00m\n",
      "File \u001b[1;32mc:\\Users\\acade\\anaconda3\\envs\\q1\\Lib\\site-packages\\scipy\\optimize\\_optimize.py:620\u001b[0m, in \u001b[0;36m_wrap_scalar_function_maxfun_validation.<locals>.function_wrapper\u001b[1;34m(x, *wrapper_args)\u001b[0m\n\u001b[0;32m    618\u001b[0m ncalls[\u001b[38;5;241m0\u001b[39m] \u001b[38;5;241m+\u001b[39m\u001b[38;5;241m=\u001b[39m \u001b[38;5;241m1\u001b[39m\n\u001b[0;32m    619\u001b[0m \u001b[38;5;66;03m# A copy of x is sent to the user function (gh13740)\u001b[39;00m\n\u001b[1;32m--> 620\u001b[0m fx \u001b[38;5;241m=\u001b[39m \u001b[43mfunction\u001b[49m\u001b[43m(\u001b[49m\u001b[43mnp\u001b[49m\u001b[38;5;241;43m.\u001b[39;49m\u001b[43mcopy\u001b[49m\u001b[43m(\u001b[49m\u001b[43mx\u001b[49m\u001b[43m)\u001b[49m\u001b[43m,\u001b[49m\u001b[43m \u001b[49m\u001b[38;5;241;43m*\u001b[39;49m\u001b[43m(\u001b[49m\u001b[43mwrapper_args\u001b[49m\u001b[43m \u001b[49m\u001b[38;5;241;43m+\u001b[39;49m\u001b[43m \u001b[49m\u001b[43margs\u001b[49m\u001b[43m)\u001b[49m\u001b[43m)\u001b[49m\n\u001b[0;32m    621\u001b[0m \u001b[38;5;66;03m# Ideally, we'd like to a have a true scalar returned from f(x). For\u001b[39;00m\n\u001b[0;32m    622\u001b[0m \u001b[38;5;66;03m# backwards-compatibility, also allow np.array([1.3]),\u001b[39;00m\n\u001b[0;32m    623\u001b[0m \u001b[38;5;66;03m# np.array([[1.3]]) etc.\u001b[39;00m\n\u001b[0;32m    624\u001b[0m \u001b[38;5;28;01mif\u001b[39;00m \u001b[38;5;129;01mnot\u001b[39;00m np\u001b[38;5;241m.\u001b[39misscalar(fx):\n",
      "Cell \u001b[1;32mIn[28], line 26\u001b[0m, in \u001b[0;36mobjective\u001b[1;34m(params)\u001b[0m\n\u001b[0;32m     24\u001b[0m image_arr \u001b[38;5;241m=\u001b[39m []\n\u001b[0;32m     25\u001b[0m \u001b[38;5;28;01mfor\u001b[39;00m i \u001b[38;5;129;01min\u001b[39;00m \u001b[38;5;28mrange\u001b[39m(n_qubits):\n\u001b[1;32m---> 26\u001b[0m     arr \u001b[38;5;241m=\u001b[39m \u001b[43mcircuit\u001b[49m\u001b[43m(\u001b[49m\u001b[43mparams\u001b[49m\u001b[43m,\u001b[49m\u001b[43mi\u001b[49m\u001b[43m)\u001b[49m\n\u001b[0;32m     27\u001b[0m     largest_elements, indices \u001b[38;5;241m=\u001b[39m find_n_largest_numbers(arr, \u001b[38;5;241m1\u001b[39m)\n\u001b[0;32m     28\u001b[0m     \u001b[38;5;66;03m# Convert indices to binary\u001b[39;00m\n",
      "File \u001b[1;32mc:\\Users\\acade\\anaconda3\\envs\\q1\\Lib\\site-packages\\pennylane\\qnode.py:936\u001b[0m, in \u001b[0;36mQNode.__call__\u001b[1;34m(self, *args, **kwargs)\u001b[0m\n\u001b[0;32m    933\u001b[0m             kwargs[\u001b[38;5;124m\"\u001b[39m\u001b[38;5;124mshots\u001b[39m\u001b[38;5;124m\"\u001b[39m] \u001b[38;5;241m=\u001b[39m \u001b[38;5;28;01mNone\u001b[39;00m\n\u001b[0;32m    935\u001b[0m \u001b[38;5;66;03m# construct the tape\u001b[39;00m\n\u001b[1;32m--> 936\u001b[0m \u001b[38;5;28;43mself\u001b[39;49m\u001b[38;5;241;43m.\u001b[39;49m\u001b[43mconstruct\u001b[49m\u001b[43m(\u001b[49m\u001b[43margs\u001b[49m\u001b[43m,\u001b[49m\u001b[43m \u001b[49m\u001b[43mkwargs\u001b[49m\u001b[43m)\u001b[49m\n\u001b[0;32m    938\u001b[0m cache \u001b[38;5;241m=\u001b[39m \u001b[38;5;28mself\u001b[39m\u001b[38;5;241m.\u001b[39mexecute_kwargs\u001b[38;5;241m.\u001b[39mget(\u001b[38;5;124m\"\u001b[39m\u001b[38;5;124mcache\u001b[39m\u001b[38;5;124m\"\u001b[39m, \u001b[38;5;28;01mFalse\u001b[39;00m)\n\u001b[0;32m    939\u001b[0m using_custom_cache \u001b[38;5;241m=\u001b[39m (\n\u001b[0;32m    940\u001b[0m     \u001b[38;5;28mhasattr\u001b[39m(cache, \u001b[38;5;124m\"\u001b[39m\u001b[38;5;124m__getitem__\u001b[39m\u001b[38;5;124m\"\u001b[39m)\n\u001b[0;32m    941\u001b[0m     \u001b[38;5;129;01mand\u001b[39;00m \u001b[38;5;28mhasattr\u001b[39m(cache, \u001b[38;5;124m\"\u001b[39m\u001b[38;5;124m__setitem__\u001b[39m\u001b[38;5;124m\"\u001b[39m)\n\u001b[0;32m    942\u001b[0m     \u001b[38;5;129;01mand\u001b[39;00m \u001b[38;5;28mhasattr\u001b[39m(cache, \u001b[38;5;124m\"\u001b[39m\u001b[38;5;124m__delitem__\u001b[39m\u001b[38;5;124m\"\u001b[39m)\n\u001b[0;32m    943\u001b[0m )\n",
      "File \u001b[1;32mc:\\Users\\acade\\anaconda3\\envs\\q1\\Lib\\site-packages\\pennylane\\qnode.py:827\u001b[0m, in \u001b[0;36mQNode.construct\u001b[1;34m(self, args, kwargs)\u001b[0m\n\u001b[0;32m    824\u001b[0m \u001b[38;5;28;01mif\u001b[39;00m old_interface \u001b[38;5;241m==\u001b[39m \u001b[38;5;124m\"\u001b[39m\u001b[38;5;124mauto\u001b[39m\u001b[38;5;124m\"\u001b[39m:\n\u001b[0;32m    825\u001b[0m     \u001b[38;5;28mself\u001b[39m\u001b[38;5;241m.\u001b[39minterface \u001b[38;5;241m=\u001b[39m qml\u001b[38;5;241m.\u001b[39mmath\u001b[38;5;241m.\u001b[39mget_interface(\u001b[38;5;241m*\u001b[39margs, \u001b[38;5;241m*\u001b[39m\u001b[38;5;28mlist\u001b[39m(kwargs\u001b[38;5;241m.\u001b[39mvalues()))\n\u001b[1;32m--> 827\u001b[0m \u001b[38;5;28mself\u001b[39m\u001b[38;5;241m.\u001b[39m_tape \u001b[38;5;241m=\u001b[39m \u001b[43mmake_qscript\u001b[49m\u001b[43m(\u001b[49m\u001b[38;5;28;43mself\u001b[39;49m\u001b[38;5;241;43m.\u001b[39;49m\u001b[43mfunc\u001b[49m\u001b[43m,\u001b[49m\u001b[43m \u001b[49m\u001b[43mshots\u001b[49m\u001b[43m)\u001b[49m\u001b[43m(\u001b[49m\u001b[38;5;241;43m*\u001b[39;49m\u001b[43margs\u001b[49m\u001b[43m,\u001b[49m\u001b[43m \u001b[49m\u001b[38;5;241;43m*\u001b[39;49m\u001b[38;5;241;43m*\u001b[39;49m\u001b[43mkwargs\u001b[49m\u001b[43m)\u001b[49m\n\u001b[0;32m    828\u001b[0m \u001b[38;5;28mself\u001b[39m\u001b[38;5;241m.\u001b[39m_qfunc_output \u001b[38;5;241m=\u001b[39m \u001b[38;5;28mself\u001b[39m\u001b[38;5;241m.\u001b[39mtape\u001b[38;5;241m.\u001b[39m_qfunc_output\n\u001b[0;32m    830\u001b[0m params \u001b[38;5;241m=\u001b[39m \u001b[38;5;28mself\u001b[39m\u001b[38;5;241m.\u001b[39mtape\u001b[38;5;241m.\u001b[39mget_parameters(trainable_only\u001b[38;5;241m=\u001b[39m\u001b[38;5;28;01mFalse\u001b[39;00m)\n",
      "File \u001b[1;32mc:\\Users\\acade\\anaconda3\\envs\\q1\\Lib\\site-packages\\pennylane\\tape\\qscript.py:1482\u001b[0m, in \u001b[0;36mmake_qscript.<locals>.wrapper\u001b[1;34m(*args, **kwargs)\u001b[0m\n\u001b[0;32m   1480\u001b[0m \u001b[38;5;28;01mdef\u001b[39;00m \u001b[38;5;21mwrapper\u001b[39m(\u001b[38;5;241m*\u001b[39margs, \u001b[38;5;241m*\u001b[39m\u001b[38;5;241m*\u001b[39mkwargs):\n\u001b[0;32m   1481\u001b[0m     \u001b[38;5;28;01mwith\u001b[39;00m AnnotatedQueue() \u001b[38;5;28;01mas\u001b[39;00m q:\n\u001b[1;32m-> 1482\u001b[0m         result \u001b[38;5;241m=\u001b[39m \u001b[43mfn\u001b[49m\u001b[43m(\u001b[49m\u001b[38;5;241;43m*\u001b[39;49m\u001b[43margs\u001b[49m\u001b[43m,\u001b[49m\u001b[43m \u001b[49m\u001b[38;5;241;43m*\u001b[39;49m\u001b[38;5;241;43m*\u001b[39;49m\u001b[43mkwargs\u001b[49m\u001b[43m)\u001b[49m\n\u001b[0;32m   1484\u001b[0m     qscript \u001b[38;5;241m=\u001b[39m QuantumScript\u001b[38;5;241m.\u001b[39mfrom_queue(q, shots)\n\u001b[0;32m   1485\u001b[0m     qscript\u001b[38;5;241m.\u001b[39m_qfunc_output \u001b[38;5;241m=\u001b[39m result\n",
      "Cell \u001b[1;32mIn[23], line 10\u001b[0m, in \u001b[0;36mcircuit\u001b[1;34m(param, index)\u001b[0m\n\u001b[0;32m      4\u001b[0m index \u001b[38;5;241m=\u001b[39m int_to_binary(index,n_qubits)\n\u001b[0;32m      5\u001b[0m \u001b[38;5;66;03m# for i, char in enumerate(index):\u001b[39;00m\n\u001b[0;32m      6\u001b[0m \u001b[38;5;66;03m#     if(char=='1'):\u001b[39;00m\n\u001b[0;32m      7\u001b[0m \u001b[38;5;66;03m#         qml.PauliX(wires=i)\u001b[39;00m\n\u001b[0;32m      8\u001b[0m \u001b[38;5;66;03m#     # qml.Hadamard(wires=i)\u001b[39;00m\n\u001b[1;32m---> 10\u001b[0m \u001b[43mqml\u001b[49m\u001b[38;5;241;43m.\u001b[39;49m\u001b[43mStronglyEntanglingLayers\u001b[49m\u001b[43m(\u001b[49m\u001b[43mweights\u001b[49m\u001b[38;5;241;43m=\u001b[39;49m\u001b[43mparam\u001b[49m\u001b[43m,\u001b[49m\u001b[43m \u001b[49m\u001b[43mwires\u001b[49m\u001b[38;5;241;43m=\u001b[39;49m\u001b[38;5;28;43mrange\u001b[39;49m\u001b[43m(\u001b[49m\u001b[43mn_qubits\u001b[49m\u001b[43m)\u001b[49m\u001b[43m)\u001b[49m\n\u001b[0;32m     11\u001b[0m \u001b[38;5;28;01mreturn\u001b[39;00m qml\u001b[38;5;241m.\u001b[39mprobs(wires\u001b[38;5;241m=\u001b[39m\u001b[38;5;28mrange\u001b[39m(n_qubits))\n",
      "File \u001b[1;32mc:\\Users\\acade\\anaconda3\\envs\\q1\\Lib\\site-packages\\pennylane\\templates\\layers\\strongly_entangling.py:138\u001b[0m, in \u001b[0;36mStronglyEntanglingLayers.__init__\u001b[1;34m(self, weights, wires, ranges, imprimitive, do_queue, id)\u001b[0m\n\u001b[0;32m    135\u001b[0m \u001b[38;5;28;01mdef\u001b[39;00m \u001b[38;5;21m__init__\u001b[39m(\u001b[38;5;28mself\u001b[39m, weights, wires, ranges\u001b[38;5;241m=\u001b[39m\u001b[38;5;28;01mNone\u001b[39;00m, imprimitive\u001b[38;5;241m=\u001b[39m\u001b[38;5;28;01mNone\u001b[39;00m, do_queue\u001b[38;5;241m=\u001b[39m\u001b[38;5;28;01mNone\u001b[39;00m, \u001b[38;5;28mid\u001b[39m\u001b[38;5;241m=\u001b[39m\u001b[38;5;28;01mNone\u001b[39;00m):\n\u001b[0;32m    136\u001b[0m     shape \u001b[38;5;241m=\u001b[39m qml\u001b[38;5;241m.\u001b[39mmath\u001b[38;5;241m.\u001b[39mshape(weights)[\u001b[38;5;241m-\u001b[39m\u001b[38;5;241m3\u001b[39m:]\n\u001b[1;32m--> 138\u001b[0m     \u001b[38;5;28;01mif\u001b[39;00m \u001b[43mshape\u001b[49m\u001b[43m[\u001b[49m\u001b[38;5;241;43m1\u001b[39;49m\u001b[43m]\u001b[49m \u001b[38;5;241m!=\u001b[39m \u001b[38;5;28mlen\u001b[39m(wires):\n\u001b[0;32m    139\u001b[0m         \u001b[38;5;28;01mraise\u001b[39;00m \u001b[38;5;167;01mValueError\u001b[39;00m(\n\u001b[0;32m    140\u001b[0m             \u001b[38;5;124mf\u001b[39m\u001b[38;5;124m\"\u001b[39m\u001b[38;5;124mWeights tensor must have second dimension of length \u001b[39m\u001b[38;5;132;01m{\u001b[39;00m\u001b[38;5;28mlen\u001b[39m(wires)\u001b[38;5;132;01m}\u001b[39;00m\u001b[38;5;124m; got \u001b[39m\u001b[38;5;132;01m{\u001b[39;00mshape[\u001b[38;5;241m1\u001b[39m]\u001b[38;5;132;01m}\u001b[39;00m\u001b[38;5;124m\"\u001b[39m\n\u001b[0;32m    141\u001b[0m         )\n\u001b[0;32m    143\u001b[0m     \u001b[38;5;28;01mif\u001b[39;00m shape[\u001b[38;5;241m2\u001b[39m] \u001b[38;5;241m!=\u001b[39m \u001b[38;5;241m3\u001b[39m:\n",
      "\u001b[1;31mIndexError\u001b[0m: tuple index out of range"
     ]
    }
   ],
   "source": [
    "# Initialize the weights\n",
    "# weights_p1 = np.random.random(size=shape_p)\n",
    "# weights_p2 = np.random.random(size=shape_p)\n",
    "# weights_p3 = np.random.random(size=shape_p)\n",
    "# weights_p4 = np.random.random(size=shape_p)\n",
    "\n",
    "# Flatten and concatenate the initial parameters\n",
    "init_params = np.concatenate([weights_p1.flatten()])\n",
    "print(qml.draw(circuit)(weights_p1,1))\n",
    "\n",
    "# Optimize using BFGS algorithm\n",
    "opt = minimize(objective, init_params, method='Nelder-Mead',callback=callback)"
   ]
  },
  {
   "cell_type": "code",
   "execution_count": null,
   "metadata": {},
   "outputs": [],
   "source": [
    "print(\"Optimized Parameters:\", opt.x)\n",
    "print(\"Optimized Expectation Value:\", opt.fun)\n",
    "\n",
    "original_length = np.prod(shape_p)\n",
    "params = opt.x\n",
    "# Extract segments for each set of weights\n",
    "weights_p1_flat = params[0 : original_length]\n",
    "# weights_p2_flat = params[original_length : 2*original_length]\n",
    "# weights_p3_flat = params[2*original_length : 3*original_length]\n",
    "# weights_p4_flat = params[3*original_length : 4*original_length]\n",
    "\n",
    "# Reshape each segment\n",
    "weights_p1 = weights_p1_flat.reshape(shape_p)\n",
    "# weights_p2 = weights_p2_flat.reshape(shape_p)\n",
    "# weights_p3 = weights_p3_flat.reshape(shape_p)\n",
    "# weights_p4 = weights_p4_flat.reshape(shape_p)\n",
    "# print(circuit_res(weights_p1,weights_p2,weights_p3,weights_p4)"
   ]
  },
  {
   "cell_type": "code",
   "execution_count": null,
   "metadata": {},
   "outputs": [],
   "source": [
    "res = circuit(weights_p1,0)\n",
    "# print(res)"
   ]
  },
  {
   "cell_type": "code",
   "execution_count": null,
   "metadata": {},
   "outputs": [],
   "source": [
    "\n",
    "# Example array\n",
    "arr = res\n",
    "n = 3\n",
    "\n",
    "# Find n largest numbers and their indices\n",
    "largest_elements, indices = find_n_largest_numbers(arr, n)\n",
    "\n",
    "# Convert indices to binary\n",
    "binary_indices = indices_to_binary(indices)\n",
    "\n",
    "print(\"Largest elements:\", largest_elements)\n",
    "print(\"Indices:\", indices)\n",
    "print(\"Indices in binary:\", binary_indices)\n"
   ]
  }
 ],
 "metadata": {
  "kernelspec": {
   "display_name": "q1",
   "language": "python",
   "name": "python3"
  },
  "language_info": {
   "codemirror_mode": {
    "name": "ipython",
    "version": 3
   },
   "file_extension": ".py",
   "mimetype": "text/x-python",
   "name": "python",
   "nbconvert_exporter": "python",
   "pygments_lexer": "ipython3",
   "version": "3.11.4"
  }
 },
 "nbformat": 4,
 "nbformat_minor": 2
}
